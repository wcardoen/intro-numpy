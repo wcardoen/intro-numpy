{
 "cells": [
  {
   "cell_type": "markdown",
   "metadata": {},
   "source": [
    "# Lecture 10"
   ]
  },
  {
   "cell_type": "code",
   "execution_count": null,
   "metadata": {},
   "outputs": [],
   "source": [
    "%run set_env.py\n",
    "%matplotlib inline"
   ]
  },
  {
   "cell_type": "markdown",
   "metadata": {},
   "source": [
    "## CuPy: A NumPy/SciPy analogue for GPUs"
   ]
  },
  {
   "cell_type": "markdown",
   "metadata": {},
   "source": [
    "* <a href=\"https://cupy.dev/\">GPU-accelerated computing with Python</a>\n",
    "* uses cuBLAS, cuRAND, cuFFT, cuDNN, NCCL under the hood.\n",
    "* available at CHPC:\n",
    "  + module load python/3.10.3 cupy/12.3.0-cuda12.2.0\n",
    "  + module load python/3.11.3 cupy/12.3.0-cuda12.2.0  "
   ]
  },
  {
   "cell_type": "markdown",
   "metadata": {},
   "source": [
    "## SciPy"
   ]
  },
  {
   "cell_type": "markdown",
   "metadata": {},
   "source": [
    "SciPy contains specialized modules related to science & engineering.<br>\n",
    "Among them we have the following modules:\n",
    "* [Special functions](https://docs.scipy.org/doc/scipy/reference/special.html#module-scipy.special) (<font color=\"green\"><b>scipy.special</b></font>)\n",
    "* [Integration and ODE solvers](https://docs.scipy.org/doc/scipy/reference/integrate.html#module-scipy.integrate)(<font color=\"green\"><b>scipy.integrate</b></font>)\n",
    "* [Optimization and root finding](https://docs.scipy.org/doc/scipy/reference/optimize.html#module-scipy.optimize)(<font color=\"green\"><b>scipy.optimize</b></font>)\n",
    "* [Interpolation and smoothing splines](https://docs.scipy.org/doc/scipy/reference/interpolate.html#module-scipy.interpolate) (<font color=\"green\"><b>scipy.interpolate</b></font>)\n",
    "* [Discrete Fourier transforms](https://docs.scipy.org/doc/scipy-1.14.0/reference/fft.html) (<font color=\"green\"><b>scipy.fft</b></font>) \n",
    "* [Signal processing](https://docs.scipy.org/doc/scipy-1.14.0/reference/signal.html) (<font color=\"green\"><b>scipy.signal</b></font>)\n",
    "* [Linear algebra](https://docs.scipy.org/doc/scipy-1.14.0/reference/linalg.html) (<font color=\"green\"><b>scipy.linalg</b></font>)\n",
    "* [Sparse matrices](https://docs.scipy.org/doc/scipy-1.14.0/reference/sparse.html) (<font color=\"green\"><b>scipy.sparse</b></font>)\n",
    "* [Spatial algorithms and data structures](https://docs.scipy.org/doc/scipy-1.14.0/reference/spatial.html) (<font color=\"green\"><b>scipy.spatial</b></font>) \n",
    "* [Statistical functions](https://docs.scipy.org/doc/scipy-1.14.0/reference/stats.html) (<font color=\"green\"><b>scipy.stats</b></font>) \n",
    "* [Multidimensional image processing](https://docs.scipy.org/doc/scipy-1.14.0/reference/ndimage.html) (<font color=\"green\"><b>scipy.ndimage</b></font>)\n",
    "* [Input and output](https://docs.scipy.org/doc/scipy-1.14.0/reference/io.html) (<font color=\"green\"><b>scipy.io</b></font>)\n",
    "* [Orthogonal distance regression](https://docs.scipy.org/doc/scipy-1.14.0/reference/odr.html) (<font color=\"green\"><b>scipy.odr</b></font>)\n",
    "* [Clustering package](https://docs.scipy.org/doc/scipy-1.14.0/reference/cluster.html) (<font color=\"green\"><b>scipy.cluster</b></font>)\n",
    "* [Constants](https://docs.scipy.org/doc/scipy-1.14.0/reference/constants.html) (<font color=\"green\"><b>scipy.constants</b></font>)\n",
    "* [Datasets](https://docs.scipy.org/doc/scipy-1.14.0/reference/datasets.html) (<font color=\"green\"><b>scipy.datasets</b></font>)"
   ]
  },
  {
   "cell_type": "markdown",
   "metadata": {},
   "source": [
    "### Special functions (scipy.special)"
   ]
  },
  {
   "cell_type": "markdown",
   "metadata": {},
   "source": [
    "Contains numerous special functions of mathematical physics such as:\n",
    "* airy\n",
    "* elliptic\n",
    "* bessel\n",
    "* gamma\n",
    "* beta\n",
    "* hypergeometric\n",
    "* parabolic cylinder\n",
    "* mathieu\n",
    "* struve\n",
    "* kelvin\n",
    "* $\\ldots$\n",
    " \n",
    "Low-level stats functions are to be found in the stats module  "
   ]
  },
  {
   "cell_type": "markdown",
   "metadata": {},
   "source": [
    "**Example**"
   ]
  },
  {
   "cell_type": "code",
   "execution_count": null,
   "metadata": {},
   "outputs": [],
   "source": [
    "# Example Special functions\n",
    "import numpy as np\n",
    "import matplotlib.pyplot as plt\n",
    "from math import exp, factorial, pow, pi, sqrt\n",
    "from scipy.special import hermite\n",
    "\n",
    "preA=np.array([sqrt(1.0/( pow(2.0,i)*factorial(i)*\\\n",
    "sqrt(pi))) for i in range(26)])\n",
    "xi=np.linspace(-8.0,8.0,641)\n",
    "prob0=(preA[0]*np.exp(-xi*xi/2.)* hermite(0)(xi))**2\n",
    "prob1=(preA[1]*np.exp(-xi*xi/2.)* hermite(1)(xi))**2\n",
    "prob5=(preA[5]*np.exp(-xi*xi/2.)* hermite(5)(xi))**2\n",
    "prob10=(preA[10]*np.exp(-xi*xi/2.)* hermite(10)(xi))**2\n",
    "prob25=(preA[25]*np.exp(-xi*xi/2.)* hermite(25)(xi))**2\n",
    "plt.plot(xi,prob0,label=r'$|\\psi_0(\\xi)|^2$')\n",
    "plt.plot(xi,prob1,label=r'$|\\psi_1(\\xi)|^2$')\n",
    "plt.plot(xi,prob5,label=r'$|\\psi_5(\\xi)|^2$')\n",
    "plt.plot(xi,prob10,label=r'$|\\psi_{10}(\\xi)|^2$')\n",
    "plt.plot(xi,prob25,label=r'$|\\psi_{25}(\\xi)|^2$')\n",
    "plt.title(r'$|\\psi_n(\\xi)|^2$ for the QM harm. oscillator')\n",
    "plt.xlabel(r'$\\xi$')\n",
    "plt.ylabel(r'$|\\psi_n(\\xi)|^2$')\n",
    "plt.legend()\n",
    "plt.grid(True);"
   ]
  },
  {
   "cell_type": "markdown",
   "metadata": {},
   "source": [
    "### Integration (scipy.integrate)"
   ]
  },
  {
   "cell_type": "markdown",
   "metadata": {},
   "source": [
    "Provides several integration techniques such as\n",
    "* quad: computes a definite integral\n",
    "* dblquad: computes a double integral\n",
    "* romb: Romberg integration\n",
    "* ..."
   ]
  },
  {
   "cell_type": "markdown",
   "metadata": {},
   "source": [
    "##### Example"
   ]
  },
  {
   "cell_type": "markdown",
   "metadata": {},
   "source": [
    "Integrals to be calculated:<br>\n",
    "\n",
    "$ \\begin{eqnarray}\n",
    "      \\int_{0}^{1}\\, x^3\\,dx &= &\\frac{1}{4} \\nonumber \\\\\n",
    "      \\frac{1}{\\sqrt{2\\,\\pi}} \\,\\int_{-\\infty}^{\\infty}\\, e^{-x^2/2} \\,dx & = & 1  \\nonumber \\\\\n",
    "      \\int_{-\\infty}^{\\infty}\\,\\frac{\\cos(x)}{x^2\\,+\\,a^2}\\,dx & = & \\pi\\,\\frac{e^{-a}}{a} \\nonumber \\\\\n",
    "      & & \\mathrm{if}\\, a=2.1=> 0.183194388278 \\nonumber\n",
    "\\end{eqnarray}$      "
   ]
  },
  {
   "cell_type": "code",
   "execution_count": null,
   "metadata": {},
   "outputs": [],
   "source": [
    "# Numerical implementation\n",
    "import scipy\n",
    "from scipy.integrate import quad,dblquad\n",
    "from math import pi,sqrt,exp,cos\n",
    "\n",
    "a=2.1; VAL=1000000\n",
    "integ1 = quad(lambda x: x**3, 0.0, 1.0)\n",
    "integ2 = quad(lambda x:1/(sqrt(2.0*pi))*exp(-x*x/2.),-np.inf,np.inf)\n",
    "integ3 = quad(lambda x:cos(x)/(x**2+a**2),-np.inf,+np.inf,limit=VAL)\n",
    "val3 = pi *exp(-a)/a\n",
    "\n",
    "print(f\"  integ1:{integ1} and should be 0.25\")\n",
    "print(f\"  integ2:{integ2} and should be 1.00\")\n",
    "print(f\"  integ3:{integ3} and should be {val3}\")"
   ]
  },
  {
   "cell_type": "markdown",
   "metadata": {},
   "source": [
    "### Optimization (scipy.optimize)"
   ]
  },
  {
   "cell_type": "markdown",
   "metadata": {},
   "source": [
    "* This package contains several optimization algorithms\n",
    "* Module contains:\n",
    "  * Constrained & unconstrained minimization \n",
    "  * Least-square minimization\n",
    "  * $\\ldots$"
   ]
  },
  {
   "cell_type": "markdown",
   "metadata": {},
   "source": [
    "**Example**"
   ]
  },
  {
   "cell_type": "markdown",
   "metadata": {},
   "source": [
    "The $2D$ Rosenbrock function $f(x,y)$ is a non-convex function with the following \n",
    "functional form:\n",
    "$\\begin{equation}\n",
    "   f(x,y) = (a-x)^2\\,+\\,b(y-x^2)^2 \\;,\\;b \\ge 0\n",
    "\\end{equation}$\n",
    "\n",
    "Its global minimimum is at $(a,a^2)$. <br>\n",
    "For the numerical example, we will set $a=1$ and $b=100$.<br>\n",
    "We will try to locate its minimum using the [Nelder-Mead method](https://en.wikipedia.org/wiki/Nelder%E2%80%93Mead_method)."
   ]
  },
  {
   "cell_type": "code",
   "execution_count": null,
   "metadata": {},
   "outputs": [],
   "source": [
    "# Rosenbrock with a=1.0 and b=100\n",
    "def rosenbrock(x):\n",
    "    return (1.0-x[0])**2 + 100.0*(x[1]-x[0]**2)**2"
   ]
  },
  {
   "cell_type": "code",
   "execution_count": null,
   "metadata": {},
   "outputs": [],
   "source": [
    "# Find the minimum using the Nelder-Mead method\n",
    "from scipy.optimize import minimize\n",
    "start = np.array([10.0,10.0])\n",
    "res = minimize(rosenbrock,x0=start,method='Nelder-Mead', tol=1e-7)\n",
    "if res.success == True:\n",
    "    print(f\"Converged after {res.nit} iterations!\")\n",
    "    print(f\"  at x={res.x}\")"
   ]
  },
  {
   "cell_type": "markdown",
   "metadata": {},
   "source": [
    "### Interpolation(scipy.interpolate)"
   ]
  },
  {
   "cell_type": "markdown",
   "metadata": {},
   "source": [
    "* This package contains several general interpolation techniques, such as:\n",
    "  * $1D$ interpolation\n",
    "  * Multivariate data interpolation\n",
    "  * Spline interpolation\n",
    "  * Radial basis functions for smoothing/interpolation\n",
    "  * $\\ldots$"
   ]
  },
  {
   "cell_type": "markdown",
   "metadata": {},
   "source": [
    "## Other packages "
   ]
  },
  {
   "cell_type": "markdown",
   "metadata": {},
   "source": [
    "* [matplotlib](https://matplotlib.org/stable/index.html):\n",
    "  Comprehensive library for creating static, animated, and interactive visualizations.\n",
    "* [pandas](https://pandas.pydata.org/):\n",
    "  Fast, powerful, flexible to use open source data analysis and manipulation tool.\n",
    "* [scikit-learn](https://scikit-learn.org/stable/):\n",
    "  Open-source machine learning library that supports supervised and unsupervised learning.\n",
    "* [sympy](https://www.sympy.org/en/index.html):\n",
    "  Python library for symbolic mathematics.\n",
    "* [statsmodels](https://www.statsmodels.org/stable/index.html):\n",
    "  Statistical models, hypothesis tests, and data exploration\n",
    "* ..."
   ]
  },
  {
   "cell_type": "code",
   "execution_count": null,
   "metadata": {},
   "outputs": [],
   "source": []
  }
 ],
 "metadata": {
  "kernelspec": {
   "display_name": "Python 3 (ipykernel)",
   "language": "python",
   "name": "python3"
  },
  "language_info": {
   "codemirror_mode": {
    "name": "ipython",
    "version": 3
   },
   "file_extension": ".py",
   "mimetype": "text/x-python",
   "name": "python",
   "nbconvert_exporter": "python",
   "pygments_lexer": "ipython3",
   "version": "3.12.4"
  },
  "latex_envs": {
   "LaTeX_envs_menu_present": true,
   "autoclose": false,
   "autocomplete": true,
   "bibliofile": "biblio.bib",
   "cite_by": "apalike",
   "current_citInitial": 1,
   "eqLabelWithNumbers": true,
   "eqNumInitial": 1,
   "hotkeys": {
    "equation": "Ctrl-E",
    "itemize": "Ctrl-I"
   },
   "labels_anchors": false,
   "latex_user_defs": false,
   "report_style_numbering": false,
   "user_envs_cfg": false
  },
  "toc": {
   "base_numbering": 1,
   "nav_menu": {},
   "number_sections": true,
   "sideBar": true,
   "skip_h1_title": false,
   "title_cell": "Table of Contents",
   "title_sidebar": "Contents",
   "toc_cell": false,
   "toc_position": {},
   "toc_section_display": true,
   "toc_window_display": false
  }
 },
 "nbformat": 4,
 "nbformat_minor": 4
}
