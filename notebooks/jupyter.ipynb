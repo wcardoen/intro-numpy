{
 "cells": [
  {
   "cell_type": "markdown",
   "metadata": {},
   "source": [
    "# Jupyter Notebook Basics:"
   ]
  },
  {
   "cell_type": "markdown",
   "metadata": {},
   "source": [
    "* Started as IPython Notebook (i.e. Python Project)\n",
    "* Has a <font color=\"green\"><b>modal</b></font> user interface.<br>\n",
    "  It means that <font color=\"blue\">*depending on the mode*</font>,\n",
    "  the keyboard operates in 2 different ways."
   ]
  },
  {
   "cell_type": "markdown",
   "metadata": {},
   "source": [
    "The <font color=\"red\"><b>2 different modes</b></font> are:\n",
    "* **<font color=\"green\">Edit mode</font>**: \n",
    "    * Green bar on side of cell\n",
    "    * Prompt in cell\n",
    "    * Pencil on top right\n",
    "* **<font color=\"blue\">Command Mode</font>**:\n",
    "    * Blue bar on side of cell\n",
    "    * Gray in cell\n",
    "\n",
    "* To enter **<font color=\"green\">Command Mode</font>**, press the **<font color=\"green\">ESC</font>** button or click with mouse outside cell\n",
    "* To enter **<font color=\"green\">Edit Mode</font>**, press **<font color=\"green\">ENTER</font>** or click within mouse inside cell\n",
    "* To execute cells: (SHIFT + ENTER)\n",
    "* TAB completion  (<b><font color=\"red\">Extremely useful!!</font></b>)"
   ]
  },
  {
   "cell_type": "markdown",
   "metadata": {},
   "source": [
    "## Command Mode Shortcuts:"
   ]
  },
  {
   "cell_type": "markdown",
   "metadata": {},
   "source": [
    "* Navigation (cfr. Vi(m))\n",
    "  * k: up (select cell above)\n",
    "  * j: down (select cell below)  \n",
    "* Save Notebook: s \n",
    "* Change Cell Type:\n",
    "  * m: markdown\n",
    "  * y: code\n",
    "  * r: raw     (What does this mean?)\n",
    "* Cell creation:\n",
    "  * a: above\n",
    "  * b: below\n",
    "* Cell editing:\n",
    "  * c: copy selected cell\n",
    "  * x: cut selected cell\n",
    "  * v: paste to cell below\n",
    "  * z: undelete cell\n",
    "  * d,d: delete selected cell\n",
    "  * 1,2,...6: Select cell header (size)\n",
    "    \n",
    "(see also Help Button)        "
   ]
  },
  {
   "cell_type": "markdown",
   "metadata": {},
   "source": [
    "## Markdown"
   ]
  },
  {
   "cell_type": "markdown",
   "metadata": {},
   "source": [
    "https://daringfireball.net/projects/markdown/"
   ]
  },
  {
   "cell_type": "markdown",
   "metadata": {},
   "source": [
    "## Magic Methods"
   ]
  },
  {
   "cell_type": "markdown",
   "metadata": {},
   "source": [
    "* Specific to & provided by the IPython kernel\n",
    "* %: Magic Line commands\n",
    "  * a few interesting ones:\n",
    "    * %alias: allows you to define aliases for system commands\n",
    "    * %bookmark: allows you to set bookmarks within IPython\n",
    "    * %cd: change current directory\n",
    "    * %env: get/set env. variables\n",
    "    * %history: prints history\n",
    "    * %load: load code in current front-end\n",
    "    * %matplotlib inline: enables the backend for usage with the IPython Notebook\n",
    "    * %pdoc: print doc string of an object\n",
    "    * %precision: Set floating point precision for pretty printing\n",
    "    * %pwd: returns the present working directory\n",
    "    * %run: run a file as a program\n",
    "    * %quickref: Shows quick reference sheet\n",
    "    * %system: Run shell script command (same as !)\n",
    "    * %time: Time execution of a Python statement\n",
    "    * %who: Print all interactive variables\n",
    "    * ...\n",
    "* %%: Magic Cell Commands \n",
    "  * a few interesting ones:\n",
    "    * %%bash: Run cells with bash in a subprocess\n",
    "    * %%html: Render the cell as a block of HTML\n",
    "    * %%latex: Render cell a block of latex\n",
    "      (see also: https://docs.mathjax.org/en/v2.5-latest/tex.html)\n",
    "    * %%python: Run cells with python in a subprocess\n",
    "    * %%time: Time execution of Python code\n",
    "* see also: https://ipython.readthedocs.io/en/stable/interactive/magics.html"
   ]
  },
  {
   "cell_type": "markdown",
   "metadata": {},
   "source": [
    "### Examples"
   ]
  },
  {
   "cell_type": "code",
   "execution_count": null,
   "metadata": {},
   "outputs": [],
   "source": [
    "%system ls -la"
   ]
  },
  {
   "cell_type": "code",
   "execution_count": null,
   "metadata": {},
   "outputs": [],
   "source": [
    "%pwd"
   ]
  },
  {
   "cell_type": "code",
   "execution_count": null,
   "metadata": {},
   "outputs": [],
   "source": [
    "%time x=[i for i in range(1000)]"
   ]
  },
  {
   "cell_type": "code",
   "execution_count": null,
   "metadata": {},
   "outputs": [],
   "source": [
    "%%time\n",
    "SZ = 1000\n",
    "x = [i for i in range(SZ)]\n",
    "y = [i**2 for i in range(SZ)]\n",
    "z = x+y"
   ]
  },
  {
   "cell_type": "code",
   "execution_count": null,
   "metadata": {},
   "outputs": [],
   "source": [
    "%%latex \n",
    "\\begin{equation*}\n",
    "Q = \n",
    "\\begin{pmatrix}\n",
    "    -(\\lambda_1 + \\mu_1) & \\lambda_1 & 0 & \\ldots & 0 & 0 \\\\\n",
    "    0 & -(\\lambda_2 + \\mu_2) & \\lambda_2 & \\ldots & 0 & 0 \\\\\n",
    "    \\vdots & \\vdots & \\vdots & \\ldots & 0 & 0 \\\\\n",
    "    0 & 0 & 0 & -(\\lambda_{n-1} + \\mu_{n-1}) & \\lambda_{n-1} & 0 \\\\\n",
    "    0 & 0 & 0 & \\ldots & 0 & -\\mu_n\n",
    "\\end{pmatrix}\n",
    "\\end{equation*}"
   ]
  },
  {
   "cell_type": "markdown",
   "metadata": {},
   "source": [
    "### Intro to MatplotLib"
   ]
  },
  {
   "cell_type": "code",
   "execution_count": null,
   "metadata": {},
   "outputs": [],
   "source": [
    "%matplotlib inline\n",
    "import numpy as np\n",
    "import matplotlib\n",
    "import numpy.random as rnd\n",
    "import matplotlib.pyplot as plt\n",
    "print(f\"  Check versions:\")\n",
    "print(f\"    numpy version     :'{np.__version__}'\")\n",
    "print(f\"    matplotlib version:'{matplotlib.__version__}'\")"
   ]
  },
  {
   "cell_type": "markdown",
   "metadata": {},
   "source": [
    "These lines will be invoked as follows (in the subsequent notebooks):<br>\n",
    "% matplotlib inline<br>\n",
    "% run set_env.py"
   ]
  },
  {
   "cell_type": "markdown",
   "metadata": {},
   "source": [
    "#### Simple Line & Dot Plot"
   ]
  },
  {
   "cell_type": "code",
   "execution_count": null,
   "metadata": {},
   "outputs": [],
   "source": [
    "x = np.linspace(0,2,19)\n",
    "y = x**2 + 1\n",
    "plt.plot(x,y,'o',color=\"red\")\n",
    "plt.plot(x,y,'-',color=\"blue\")\n",
    "plt.xlim(-0.05,2.05)\n",
    "plt.ylim(0.90,5.10)\n",
    "plt.grid()\n",
    "plt.xlabel('$x$',fontsize=12)\n",
    "plt.ylabel('$y$',fontsize=12)\n",
    "plt.title(\"Simple Parabola: $y\\,=\\,x^2\\,+\\,1$\");"
   ]
  },
  {
   "cell_type": "markdown",
   "metadata": {},
   "source": [
    "#### Heat Map Plot"
   ]
  },
  {
   "cell_type": "code",
   "execution_count": null,
   "metadata": {},
   "outputs": [],
   "source": [
    "np.set_printoptions(precision=4)\n",
    "x = rnd.random((10,10))\n",
    "print(f\"  x:\\n{x}\\n\")\n",
    "plt.title(\"Heat Map of Random Numbers\")\n",
    "plt.imshow(x);"
   ]
  },
  {
   "cell_type": "markdown",
   "metadata": {},
   "source": [
    "For more info/examples:<br>\n",
    "https://matplotlib.org/"
   ]
  },
  {
   "cell_type": "code",
   "execution_count": null,
   "metadata": {},
   "outputs": [],
   "source": []
  }
 ],
 "metadata": {
  "celltoolbar": "Raw Cell Format",
  "kernelspec": {
   "display_name": "Python 3",
   "language": "python",
   "name": "python3"
  },
  "language_info": {
   "codemirror_mode": {
    "name": "ipython",
    "version": 3
   },
   "file_extension": ".py",
   "mimetype": "text/x-python",
   "name": "python",
   "nbconvert_exporter": "python",
   "pygments_lexer": "ipython3",
   "version": "3.7.4"
  }
 },
 "nbformat": 4,
 "nbformat_minor": 2
}
