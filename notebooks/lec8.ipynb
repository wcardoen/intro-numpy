{
 "cells": [
  {
   "cell_type": "markdown",
   "metadata": {},
   "source": [
    "# Lecture 8"
   ]
  },
  {
   "cell_type": "code",
   "execution_count": null,
   "metadata": {},
   "outputs": [],
   "source": [
    "%run set_env.py\n",
    "%matplotlib inline"
   ]
  },
  {
   "cell_type": "markdown",
   "metadata": {},
   "source": [
    "## Linear Algebra"
   ]
  },
  {
   "cell_type": "markdown",
   "metadata": {},
   "source": [
    "Numpy contains <font color=\"green\"><b> linear algebra</b></font> functionality<br>\n",
    "which relies on [BLAS](https://www.netlib.org/blas/) and [LAPACK](https://www.netlib.org/lapack/).\n",
    "They can be found in the following modules:<br>\n",
    "* <font color=\"green\"><b>numpy</b></font>\n",
    "* <font color=\"green\"><b>numpy.linalg</b></font>"
   ]
  },
  {
   "cell_type": "markdown",
   "metadata": {},
   "source": [
    "### numpy module:"
   ]
  },
  {
   "cell_type": "markdown",
   "metadata": {},
   "source": [
    "The module <font color=\"green\"><b>numpy</b></font> possesses the most used functions.<br> \n",
    "Among them you will find:\n",
    "* numpy.dot: \n",
    "  * $1$D : dot-product  \n",
    "  * $2$D : matrix multiplication (can also use '**@**' operator)  \n",
    "* numpy.kron: Kronecker product\n",
    "* numpy.trace: trace of a matrix\n",
    "* numpy.transpose: transpose (you can also use .T)\n",
    "* ...\n"
   ]
  },
  {
   "cell_type": "markdown",
   "metadata": {},
   "source": [
    "### numpy.linalg module"
   ]
  },
  {
   "cell_type": "markdown",
   "metadata": {},
   "source": [
    "Other useful functions can be found in the module <font color=\"green\"><b>numpy.linalg</b></font>, such as:\n",
    "* numpy.linalg.matrix_power: $A^n$\n",
    "* numpy.linalg.cholesky : **Cholesky** decomposition\n",
    "* numpy.linalg.qr       : **QR** factorization of a matrix\n",
    "* numpy.linalg.svd : **Singular Value Decomposition**\n",
    "* numpy.linalg.det : **Determinant** of matrix\n",
    "* numpy.linalg.solve: **Solves** a system of equations, i.e.:\n",
    "  $\\begin{equation*} A \\, X = B \\end{equation*}$\n",
    "* numpy.linalg.inv : **Inversion** of a non-singular matrix $A$\n",
    "* numpy.linalg.eig : To calculate the **eigenvalues/eigenvectors** of a **square** matrix\n",
    "* numpy.linalg.eigh: To calculate the **eigenvalues/eigenvectors** of a **Hermitian** matrix\n",
    "* ..."
   ]
  },
  {
   "cell_type": "markdown",
   "metadata": {},
   "source": [
    "### scipy.linalg module"
   ]
  },
  {
   "cell_type": "markdown",
   "metadata": {},
   "source": [
    "A more complete/advanced set of linear algebra routines can be found in [SciPy](https://docs.scipy.org/doc/scipy/reference/linalg.html).<br>\n",
    "(<font color=\"green\"><b>import scipy.linalg</b></font>). \n",
    "* scipy.linalg.solvebanded: **solve** a linear system with a **banded matrix**.\n",
    "* scipy.linalg.pinv: **Moorse-Penrose pseudo-inverse** of a matrix.\n",
    "* scipy.linalg.lu: **LU decomposition** of a matrix.\n",
    "* scipy.linalg.null_space: construct an **orthonormal basis** for the **kernel** of a matrix.\n",
    "* scipy.linalg.polar: **polar decomposition** of a matrix.\n",
    "* scipy.linalg.schur: **Schur decomposition** of a matrix.\n",
    "* scipy.linalg.hessenberg: compute **Hessenberg form** of a matrix.\n",
    "* ... "
   ]
  },
  {
   "cell_type": "markdown",
   "metadata": {},
   "source": [
    "### Examples:"
   ]
  },
  {
   "cell_type": "markdown",
   "metadata": {},
   "source": [
    "##### Eigenvalues & Eigenvectors of a Matrix"
   ]
  },
  {
   "cell_type": "code",
   "execution_count": null,
   "metadata": {},
   "outputs": [],
   "source": [
    "# Eigenvalues & eigenvectors\n",
    "a=np.array([[  9.  ,   8.1 ,  12.6 ,  -3.9 ],\n",
    "            [  8.1 ,   9.54,  13.14,   0.39],\n",
    "            [ 12.6 ,  13.14,  70.92,  36.54],\n",
    "            [ -3.9 ,   0.39,  36.54,  52.05]])\n",
    "print(f\"  a:\\n{a}\\n\".format(a))\n",
    "\n",
    "w,v = nla.eig(a)\n",
    "print(f\"    Eigenvalues:\\n{w}\\n\")\n",
    "print(f\"    Eigen Vectors:\\n{v}\\n\\n\")"
   ]
  },
  {
   "cell_type": "markdown",
   "metadata": {},
   "source": [
    "##### Cholesky decomposition of a Hermitean positive definite matrix"
   ]
  },
  {
   "cell_type": "markdown",
   "metadata": {},
   "source": [
    "Let A be a Hermitean **AND** positive definite matrix, then the Cholesky of $A$ is:\n",
    "\n",
    "$\\begin{equation}\n",
    "A  =  L\\,L^{\\dagger}\n",
    "\\end{equation}$"
   ]
  },
  {
   "cell_type": "code",
   "execution_count": null,
   "metadata": {},
   "outputs": [],
   "source": [
    "# a:\n",
    "#   Matrix is Real & Symmetric => Hermitean \n",
    "#   All the eigenvalues(a) > 0. -> positive definite\n",
    "\n",
    "l = nla.cholesky(a)\n",
    "print(f\"    Cholesky decomposition: a=l.l^H\\n{l}\\n\")\n",
    "print(f\"    Check:\\n{np.dot(l,l.T)}\\n\")"
   ]
  },
  {
   "cell_type": "markdown",
   "metadata": {},
   "source": [
    "##### Single Value Decomposition (SVD):"
   ]
  },
  {
   "cell_type": "code",
   "execution_count": null,
   "metadata": {},
   "outputs": [],
   "source": [
    "m=np.array([[1,0,0,0,2],\n",
    "             [0,0,3,0,0],\n",
    "             [0,0,0,0,0],\n",
    "             [0,4,0,0,0]])\n",
    "print(f\"  m:\\n{m}\\n\")\n",
    "U,s,Vh = nla.svd(m)\n",
    "d = np.zeros((4,5))\n",
    "d[:4,:4] = np.diag(s)\n",
    "\n",
    "print(f\"    SVD : m=U.s.Vh\")\n",
    "print(f\"      U            :\\n{U}\\n\")\n",
    "print(f\"      s (diagonal) :\\n{s}\\n\")\n",
    "print(f\"      d            :\\n{d}\\n\")\n",
    "print(f\"      Vh           :\\n{Vh}\\n\\n\")\n",
    "\n",
    "print(f\"    Check SVD:\")\n",
    "print(f\"      U.shape:{U.shape}\")\n",
    "print(f\"      s.shape:{s.shape}\")\n",
    "print(f\"      d.shape:{d.shape}\")\n",
    "print(f\"      V.shape:{Vh.shape}\")\n",
    "\n",
    "# Reconstruction of m\n",
    "mres = np.dot(U,np.dot(d,Vh))\n",
    "print(f\"  mres:\\n{mres}\\n\")\n",
    "err = np.sqrt(np.sum(m -mres)**2)\n",
    "print(f\"  err:{err:12.8f}\\n\")"
   ]
  },
  {
   "cell_type": "markdown",
   "metadata": {},
   "source": [
    "## FFT"
   ]
  },
  {
   "cell_type": "markdown",
   "metadata": {},
   "source": [
    "The module numpy.fft contains <font color=\"red\"><b>discrete fourier</b></font> transforms.<br>\n",
    "* numpy.fft.fft : compute $1D$ discrete Fourier transform.\n",
    "* numpy.fft.ifft: compute $1D$ inverse discrete Fourier transform.\n",
    "* numpy.fft.fft2 : compute $2D$ discrete Fourier transform.\n",
    "* numpy.fft.ifft2: compute $2D$ inverse discrete Fourier transform.\n",
    "* ..."
   ]
  },
  {
   "cell_type": "code",
   "execution_count": null,
   "metadata": {},
   "outputs": [],
   "source": [
    "from math import pi\n",
    "\n",
    "tott = 4.0  # Total time\n",
    "dt = 1./100. # Sampling rate\n",
    "t = np.linspace(0,tott,int(tott/dt))\n",
    "s = 0.30*np.sin(2*pi*3.5*t)  +0.80*np.sin(2*pi*5.0*t) + \\\n",
    "    0.65*np.sin(2*pi*8.0*t) + 1.15*np.sin(2*pi*16.0*t)\n",
    "S = nfft.fft(s)\n",
    "n = S.size/2\n",
    "amp = np.abs(S)/n\n",
    "freq = np.linspace(0,80,80)/(2*n*dt)\n",
    "\n",
    "fig=plt.figure()\n",
    "ax1=fig.add_subplot(211)\n",
    "ax1.plot(t,s,color='red')\n",
    "ax1.set_xlabel(r'$t$/s')\n",
    "ax1.set_ylabel(r'$y(t)$')\n",
    "ax1.set_title(r'Signal as function of $t$')\n",
    "ax2=fig.add_subplot(212)\n",
    "ax2.plot(freq,amp[:80],color='green')\n",
    "ax2.set_xlabel(r'$\\omega$/Hz')\n",
    "ax2.set_ylabel(r'$A$')\n",
    "plt.grid(True);"
   ]
  },
  {
   "cell_type": "markdown",
   "metadata": {},
   "source": [
    "## Random Number Generators, reproducibility and distributions"
   ]
  },
  {
   "cell_type": "markdown",
   "metadata": {},
   "source": [
    "* The <font color=\"green\"><b>numpy.random<b></font> module contains:<br>\n",
    "  - the implementation of pseudo-random number generators ((P)RNG).\n",
    "  - an array of statistical tools & distributions\n",
    "* The default (P)RNG is invoked as follows:<br>\n",
    "  **numpy.random.default_rng(seed=None)**"
   ]
  },
  {
   "cell_type": "code",
   "execution_count": null,
   "metadata": {},
   "outputs": [],
   "source": [
    "rng = rnd.default_rng()\n",
    "SZ = 100000\n",
    "myvec = rng.random(SZ)\n",
    "plt.title(f\"Histogram of the uniform distribution (sample size:{SZ})\")\n",
    "plt.hist(myvec,bins=50);"
   ]
  },
  {
   "cell_type": "markdown",
   "metadata": {},
   "source": [
    "###  Reproducibility and the use of a seed"
   ]
  },
  {
   "cell_type": "markdown",
   "metadata": {},
   "source": [
    "(P)RNG: generates deterministic sequences.<br>\n",
    "If you want to reproduce an **identical** stream of random numbers => use a **seed**.\n",
    "- seeds should be **unique** numbers.\n",
    "- you can generate very large seeds using <font color=\"green\"><b>secrets.randbits(128)</b></font>\n",
    "  (Note:[secrets module (Part of PSL)](https://docs.python.org/3/library/secrets.html#module-secrets))."
   ]
  },
  {
   "cell_type": "code",
   "execution_count": null,
   "metadata": {},
   "outputs": [],
   "source": [
    "# Setting a seed (to generate reproducibility)\n",
    "import secrets  # Standard Python library\n",
    "SEED = secrets.randbits(128)\n",
    "print(f\"Seed:{SEED}\\n\")\n",
    "\n",
    "rng1 = rnd.default_rng(seed=SEED) \n",
    "x = rng1.random()\n",
    "print(f\"RNG1:{rng1}\")\n",
    "print(f\"  x:{x}\\n\")\n",
    "\n",
    "rng2 = rnd.default_rng(seed=SEED) \n",
    "y = rng2.random()\n",
    "print(f\"RNG2:{rng2}\")\n",
    "print(f\"  y:{y}\\n\")"
   ]
  },
  {
   "cell_type": "markdown",
   "metadata": {},
   "source": [
    "###  Use of an explicit PRNG"
   ]
  },
  {
   "cell_type": "markdown",
   "metadata": {},
   "source": [
    "* The **Generator** relies on a **BitGenerator** to produce the random numbers\n",
    "* The default **BitGenerator** is currently [PCG64](https://www.pcg-random.org/)\n",
    "* In the past the default PNRG in NumPy was the [Mersenne twister](https://en.wikipedia.org/wiki/Mersenne_Twister). (still the default in regular Python)"
   ]
  },
  {
   "cell_type": "code",
   "execution_count": null,
   "metadata": {},
   "outputs": [],
   "source": [
    "from numpy.random import Generator, PCG64, MT19937\n",
    "\n",
    "# Use of the PCG64 rnd. generator by explicitly calling it.\n",
    "rng3 = Generator(PCG64(seed=SEED))\n",
    "z = rng3.random()\n",
    "print(f\"RNG3:{rng3}\")\n",
    "print(f\"  z:{z}\\n\")\n",
    "\n",
    "# Use of the Mersenne Twister \n",
    "rng4 = Generator(MT19937(seed=SEED))\n",
    "w = rng4.random()\n",
    "print(f\"RNG4:{rng4}\")\n",
    "print(f\"  w:{w}\\n\")"
   ]
  },
  {
   "cell_type": "markdown",
   "metadata": {},
   "source": [
    "###  Statistical distributions/tools"
   ]
  },
  {
   "cell_type": "markdown",
   "metadata": {},
   "source": [
    "* The <font color=\"green\"><b>numpy.random</b></font> module contains<br>\n",
    "  an array of statistical distributions:\n",
    "  - random\n",
    "  - integers\n",
    "  - choice\n",
    "  - permutation\n",
    "  - beta\n",
    "  - binomial\n",
    "  - chisquare\n",
    "  - dirichlet\n",
    "  - exponential\n",
    "  - f\n",
    "  - gamma\n",
    "  - geometric\n",
    "  - gumbel\n",
    "  - hypergeometric\n",
    "  - laplace\n",
    "  - ...\n"
   ]
  },
  {
   "cell_type": "markdown",
   "metadata": {},
   "source": [
    "**Example: Cauchy-Lorentz Distribution (a.k.a. Breit-Wigner distribution)**"
   ]
  },
  {
   "cell_type": "markdown",
   "metadata": {},
   "source": [
    "$\\begin{equation*}\n",
    "f(x; x_0, \\gamma) = \\displaystyle \\frac{1}{\\pi \\gamma \\bigl[ 1+\n",
    "              (\\frac{x-x_0}{\\gamma})^2 \\bigr] }\n",
    "\\end{equation*}$ \n",
    "\n",
    "The standard Cauchy-Lorentz distribution requires that:<br>\n",
    "* $x_0$ = 0 \n",
    "* $\\gamma$=1\n"
   ]
  },
  {
   "cell_type": "code",
   "execution_count": null,
   "metadata": {},
   "outputs": [],
   "source": [
    "SZ = int(1E7)\n",
    "rng = rnd.default_rng()\n",
    "sample = rng.standard_cauchy(SZ);\n",
    "sample = sample[(sample>-20) & (sample<20)]\n",
    "plt.hist(sample,bins=100);"
   ]
  },
  {
   "cell_type": "markdown",
   "metadata": {},
   "source": [
    "## Special functions"
   ]
  },
  {
   "cell_type": "markdown",
   "metadata": {},
   "source": [
    "* There is a numpy module containing a <font color=\"red\"><b>limited array</b></font> of special functions i.e.<br>\n",
    "  * import numpy.polynomial.{chebyshev, hermite, laguerre, legendre}\n",
    "* The <font color=\"green\"><b>scipy package (scipy.special)</b></font> has a wider variety of special functions:<br>\n",
    "  * import scipy.special"
   ]
  },
  {
   "cell_type": "markdown",
   "metadata": {},
   "source": [
    "## Exercises"
   ]
  },
  {
   "cell_type": "markdown",
   "metadata": {},
   "source": [
    "\n",
    "**Exercise 1**:<br>\n",
    "  Let A be a matrix given by:\n",
    "$\\begin{pmatrix}\n",
    "  3 & 1 & 1 \\\\\n",
    "  2 & 4 & 2 \\\\\n",
    "  1 & 1 & 3\n",
    "\\end{pmatrix}$\n",
    "  \n",
    "   - Calculate the matrix exponential: $e^{A}$.<br>\n",
    "     Hints:<br>\n",
    "     * The Taylor expansion of $e^x$ is given by:\n",
    "        $\\begin{eqnarray}  \n",
    "        e^x & = & \\sum_{n=0}^{\\infty} \\frac{x^n}{n!} \\nonumber \n",
    "        \\end{eqnarray}$\n",
    "     \n",
    "     * Use the diagonalization of the matrix A.\n",
    "   - You can check your result using the matrix exponential function \n",
    "     (<font color=\"green\"><b>expm</b></font>) \n",
    "     from <font color=\"green\"><b>scipy.linalg</b></font>.\n",
    "\n",
    "**Exercise 2**:<br>\n",
    "   Let's consider the exponential distribution.\n",
    "   - Its probability density function (pdf) is:<br>\n",
    "     $ f(x;\\lambda) = \\begin{cases}\\lambda e^{-\\lambda x} & x\\geq 0 \\\\\n",
    "                                    0  & x<0\n",
    "     \\end{cases}$\n",
    "\n",
    "     where $\\lambda>0$.\n",
    "\n",
    "   - Its cumulative density function (cdf) is given by:<br>\n",
    "     $\\begin{eqnarray}\n",
    "     F(x;\\lambda) &= & \\int_{-\\infty}^x f(t;\\lambda) \\,dt \\\\\n",
    "                  & = & \n",
    "                      \\begin{cases} 1 \\,-\\, e^{-\\lambda x} & x\\geq 0 \\\\\n",
    "                                                        0  & x<0\n",
    "                       \\end{cases}\n",
    "     \\end{eqnarray}$\n",
    "\n",
    "     Thus,<br>\n",
    "     $\\begin{eqnarray}\n",
    "       \\lim_{x \\to 0} F(x;\\lambda) &= & 0 \\\\\n",
    "       \\lim_{x \\to +\\infty} F(x;\\lambda) &= & 1\n",
    "     \\end{eqnarray}$\n",
    "     \n",
    "   - Therefore, let $y$ be a random number belonging to the uniform distribution.<br>\n",
    "     In order to sample a number $x$ of the exponential distribution, we set:<br>\n",
    "     $\\begin{eqnarray}\n",
    "         F(x) &= & y \\\\\n",
    "         F^{-1}\\big[F(x)\\big ] &= & F^{-1}(y)  \\\\\n",
    "         x & = & -\\frac{1}{\\lambda} \\ln(1-y)  \n",
    "      \\end{eqnarray}$\n",
    "\n",
    "   Based on the aforementioned exposition:\n",
    "   + choose a value of $\\lambda$ e.g. $2.0$.\n",
    "   + sample $N\\;(10^7)$ random numbers from the uniform distribution $y \\in [0,1)$ and <br>\n",
    "     use the expression $x=\\displaystyle \\frac{1}{\\lambda} \\ln(1-y)$ to generate\n",
    "     random numbers for the exponential distribution.\n",
    "   + sample $N\\;(10^7)$ random numbers directly from the [exponential](https://numpy.org/doc/stable/reference/random/generated/numpy.random.Generator.exponential.html) distribution.\n",
    "   + plot the [histograms](https://matplotlib.org/stable/api/_as_gen/matplotlib.pyplot.hist.html) for both vectors.\n",
    "           \n",
    "    \n",
    "**Exercise 3**:<br>\n",
    "   Simulation of Brownian motion/Wiener process<br>\n",
    "\n",
    "  The [standard Brownian motion](https://en.wikipedia.org/wiki/Brownian_motion) or [Wiener process](https://en.wikipedia.org/wiki/Wiener_process) is a [Gaussian process](https://en.wikipedia.org/wiki/Gaussian_process) ($X_t$, $t\\geq 0$)<br> \n",
    "  where:\n",
    "  \\begin{eqnarray}\n",
    "     \\mathbb{E}[X_t] & = & 0 \\\\\n",
    "    \\mathrm{Cov}(X_t,X_s)&= &\\min(s,t) \n",
    "  \\end{eqnarray}\n",
    "\n",
    "  From the above equations it follows that:\n",
    "  - $\\mathrm{Cov}$ is a symmetric matrix\n",
    "  - $\\mathrm{Cov}$ is [positive semi-definite](https://en.wikipedia.org/wiki/Definite_matrix) (all eigenvalues   $\\lambda_i \\geq 0$)\n",
    "\n",
    "  The standard Brownian motion can be simulated in different ways.<br>\n",
    "  **One-way** is based on the Cholesky decomposition of the covariance matrix:<br>\n",
    "  - For the interval $\\tau =[0,1]$, select $n$ equidistant intervals $\\Rightarrow$ $\\Delta t = 1/n$ \n",
    "  - Generate the $n \\times n$ $\\mathrm{Cov}$ matrix where $\\mathrm{Cov}(X_t,X_s)= \\min(s,t)$ ($1\\leq s,t \\leq n$)<br>\n",
    "    *Note*: <b><font color=\"red\">Exclude</font></b> from $\\mathrm{Cov}$ $X_0$ (i.e corresponding to the point $0$ in the interval) \n",
    "  - Perform a **Cholesky** decomposition of the covariance matrix $\\mathrm{Cov}:= A.A^T$\n",
    "  - Sample a vector of $n$ [IID](https://en.wikipedia.org/wiki/Independent_and_identically_distributed_random_variables) standard Gaussians $Z:=(Z_1,Z_2,\\ldots, Z_n)^T$ where<br>\n",
    "  $Z_i \\sim N(0,1)$ and $ i \\in \\{1,\\ldots,n\\}$.\n",
    "  - The vector $X:=A Z$ where $X:=(X_1,X_2,\\ldots, X_n)^T$ <br>\n",
    "  $\\mathrm{Cov}(X)=A.\\mathbb{1}_{n \\times n}A^T$ where $\\mathbb{1}_{n \\times n}$ stands for the $n \\times n$ identity matrix.\n",
    "  - Add $X_0=0$.\n",
    "Each vector $(X_0,X_1,\\ldots,X_n)^T$ is known as a *Brownian path*.\n",
    "\n",
    "\n",
    "* Generate $10$ Brownian paths/simulations and plot them.<br>\n",
    "  Use $n=100$ equidistant intervals on $[0,1]$."
   ]
  },
  {
   "cell_type": "code",
   "execution_count": 3,
   "metadata": {},
   "outputs": [],
   "source": [
    "# %load ../solutions/ex8.py"
   ]
  }
 ],
 "metadata": {
  "kernelspec": {
   "display_name": "Python 3 (ipykernel)",
   "language": "python",
   "name": "python3"
  },
  "language_info": {
   "codemirror_mode": {
    "name": "ipython",
    "version": 3
   },
   "file_extension": ".py",
   "mimetype": "text/x-python",
   "name": "python",
   "nbconvert_exporter": "python",
   "pygments_lexer": "ipython3",
   "version": "3.12.4"
  },
  "latex_envs": {
   "LaTeX_envs_menu_present": true,
   "autoclose": false,
   "autocomplete": true,
   "bibliofile": "biblio.bib",
   "cite_by": "apalike",
   "current_citInitial": 1,
   "eqLabelWithNumbers": true,
   "eqNumInitial": 1,
   "hotkeys": {
    "equation": "Ctrl-E",
    "itemize": "Ctrl-I"
   },
   "labels_anchors": false,
   "latex_user_defs": false,
   "report_style_numbering": false,
   "user_envs_cfg": false
  },
  "toc": {
   "base_numbering": 1,
   "nav_menu": {},
   "number_sections": true,
   "sideBar": true,
   "skip_h1_title": false,
   "title_cell": "Table of Contents",
   "title_sidebar": "Contents",
   "toc_cell": false,
   "toc_position": {},
   "toc_section_display": true,
   "toc_window_display": false
  }
 },
 "nbformat": 4,
 "nbformat_minor": 4
}
