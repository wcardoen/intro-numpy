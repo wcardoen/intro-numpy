{
 "cells": [
  {
   "cell_type": "markdown",
   "metadata": {},
   "source": [
    "# Lecture 8"
   ]
  },
  {
   "cell_type": "code",
   "execution_count": 1,
   "metadata": {},
   "outputs": [
    {
     "name": "stdout",
     "output_type": "stream",
     "text": [
      "Check versions:\n",
      "  numpy version     :'1.24.3'\n",
      "  matplotlib version:'3.8.2'\n"
     ]
    }
   ],
   "source": [
    "%run set_env.py\n",
    "%matplotlib inline"
   ]
  },
  {
   "cell_type": "markdown",
   "metadata": {},
   "source": [
    "## Linear Algebra"
   ]
  },
  {
   "cell_type": "markdown",
   "metadata": {},
   "source": [
    "Numpy contains a <font color=\"red\"><b>few basic linear algebra</b></font> routines.<br>\n",
    "They can be found in the following modules:<br>\n",
    "* numpy\n",
    "* numpy.linalg"
   ]
  },
  {
   "cell_type": "markdown",
   "metadata": {},
   "source": [
    "The module <font color=\"red\"><b>numpy</b></font> possesses a few functions.<br> \n",
    "Among them you will find:\n",
    "* numpy.dot: \n",
    "  * $1$D : Dot-product  \n",
    "  * $2$D : Matrix multiplication (can also use '**@**' operator)  \n",
    "* numpy.kron: Kronecker product\n",
    "* numpy.trace: Trace of a matrix\n",
    "* numpy.transpose: Transpose (you can also use .T)\n",
    "\n",
    "Other useful functions can be found in the module <font color=\"red\"><b>numpy.linalg</b></font>, such as:\n",
    "* numpy.linalg.matrix_power: $A^n$\n",
    "* numpy.linalg.cholesky : **Cholesky** decomposition\n",
    "* numpy.linalg.svd : **Singular Value Decomposition**\n",
    "* numpy.linalg.det : Determinant of matrix\n",
    "* numpy.linalg.solve: Solves a system of equations, i.e.:\n",
    "  $\\begin{equation*} A \\, X = B \\end{equation*}$\n",
    "* numpy.linalg.inv : **Inversion** of a non-singular matrix $A$\n",
    "* numpy.linalg.eig : To calculate the eigenvalues/eigenvectors of a square matrix\n",
    "* numpy.linalg.eigh: To calculate the eigenvalues/eigenvectors of a **Hermitian** matrix\n",
    "* ..."
   ]
  },
  {
   "cell_type": "markdown",
   "metadata": {},
   "source": [
    "<b>Note:</b>\n",
    "* A more complete set of linear algebra routines can be found in Scipy\n",
    "  * e.g.: LU decomposition, Schur decomposition, etc.\n",
    "  * <font color=\"green\"><b>import scipy.linalg</b></font> \n",
    "* numpy.linalg comes with its own Error Type: <font color=\"green\"><b>LinAlgError</b></font>"
   ]
  },
  {
   "cell_type": "markdown",
   "metadata": {},
   "source": [
    "#### Examples:"
   ]
  },
  {
   "cell_type": "markdown",
   "metadata": {},
   "source": [
    "##### Eigenvalues & Eigenvectors of a Matrix"
   ]
  },
  {
   "cell_type": "code",
   "execution_count": 2,
   "metadata": {},
   "outputs": [
    {
     "name": "stdout",
     "output_type": "stream",
     "text": [
      "  a:\n",
      "[[ 9.    8.1  12.6  -3.9 ]\n",
      " [ 8.1   9.54 13.14  0.39]\n",
      " [12.6  13.14 70.92 36.54]\n",
      " [-3.9   0.39 36.54 52.05]]\n",
      "\n",
      "    Eigenvalues:\n",
      "[101.29629647  33.2498673    0.7209184    6.24291783]\n",
      "\n",
      "    Eigen Vectors:\n",
      "[[-0.09497345  0.44781581  0.79797851  0.39200936]\n",
      " [-0.12489426  0.36707873 -0.57484312  0.72056229]\n",
      " [-0.79624688  0.40727038 -0.11035191 -0.43352532]\n",
      " [-0.58427081 -0.70628963  0.14355534  0.37306092]]\n",
      "\n",
      "\n"
     ]
    }
   ],
   "source": [
    "# Eigenvalues & eigenvectors\n",
    "a=np.array([[  9.  ,   8.1 ,  12.6 ,  -3.9 ],\n",
    "            [  8.1 ,   9.54,  13.14,   0.39],\n",
    "            [ 12.6 ,  13.14,  70.92,  36.54],\n",
    "            [ -3.9 ,   0.39,  36.54,  52.05]])\n",
    "print(f\"  a:\\n{a}\\n\".format(a))\n",
    "\n",
    "w,v=la.eig(a)\n",
    "print(f\"    Eigenvalues:\\n{w}\\n\")\n",
    "print(f\"    Eigen Vectors:\\n{v}\\n\\n\")"
   ]
  },
  {
   "cell_type": "markdown",
   "metadata": {},
   "source": [
    "##### Cholesky decomposition of a Hermitean positive definite matrix"
   ]
  },
  {
   "cell_type": "markdown",
   "metadata": {},
   "source": [
    "Let A be a Hermitean **AND** positive definite matrix, then the Cholesky of $A$ is:\n",
    "\n",
    "$\\begin{equation}\n",
    "A  =  L\\,L^{\\dagger}\n",
    "\\end{equation}$"
   ]
  },
  {
   "cell_type": "code",
   "execution_count": 3,
   "metadata": {},
   "outputs": [
    {
     "name": "stdout",
     "output_type": "stream",
     "text": [
      "    Cholesky decomposition: a=l.l^H\n",
      "[[ 3.   0.   0.   0. ]\n",
      " [ 2.7  1.5  0.   0. ]\n",
      " [ 4.2  1.2  7.2  0. ]\n",
      " [-1.3  2.6  5.4  3.8]]\n",
      "\n",
      "    Check:\n",
      "[[ 9.    8.1  12.6  -3.9 ]\n",
      " [ 8.1   9.54 13.14  0.39]\n",
      " [12.6  13.14 70.92 36.54]\n",
      " [-3.9   0.39 36.54 52.05]]\n",
      "\n"
     ]
    }
   ],
   "source": [
    "# a:\n",
    "#   Matrix is Real & Symmetric => Hermitean \n",
    "#   All the eigenvalues(a) > 0. -> positive definite\n",
    "\n",
    "l = la.cholesky(a)\n",
    "print(f\"    Cholesky decomposition: a=l.l^H\\n{l}\\n\")\n",
    "print(f\"    Check:\\n{np.dot(l,l.T)}\\n\")"
   ]
  },
  {
   "cell_type": "markdown",
   "metadata": {},
   "source": [
    "##### Single Value Decomposition (SVD):"
   ]
  },
  {
   "cell_type": "code",
   "execution_count": 4,
   "metadata": {},
   "outputs": [
    {
     "name": "stdout",
     "output_type": "stream",
     "text": [
      "  m:\n",
      "[[1 0 0 0 2]\n",
      " [0 0 3 0 0]\n",
      " [0 0 0 0 0]\n",
      " [0 4 0 0 0]]\n",
      "\n",
      "    SVD : m=U.s.Vh\n",
      "      U            :\n",
      "[[ 0.  0.  1.  0.]\n",
      " [ 0.  1.  0.  0.]\n",
      " [ 0.  0.  0. -1.]\n",
      " [ 1.  0.  0.  0.]]\n",
      "\n",
      "      s (diagonal) :\n",
      "[4.         3.         2.23606798 0.        ]\n",
      "\n",
      "      d            :\n",
      "[[4.         0.         0.         0.         0.        ]\n",
      " [0.         3.         0.         0.         0.        ]\n",
      " [0.         0.         2.23606798 0.         0.        ]\n",
      " [0.         0.         0.         0.         0.        ]]\n",
      "\n",
      "      Vh           :\n",
      "[[-0.          1.          0.          0.          0.        ]\n",
      " [-0.          0.          1.          0.          0.        ]\n",
      " [ 0.4472136   0.          0.          0.          0.89442719]\n",
      " [ 0.          0.          0.          1.          0.        ]\n",
      " [-0.89442719  0.          0.          0.          0.4472136 ]]\n",
      "\n",
      "\n",
      "    Check SVD:\n",
      "      U.shape:(4, 4)\n",
      "      s.shape:(4,)\n",
      "      d.shape:(4, 5)\n",
      "      V.shape:(5, 5)\n",
      "  mres:\n",
      "[[1. 0. 0. 0. 2.]\n",
      " [0. 0. 3. 0. 0.]\n",
      " [0. 0. 0. 0. 0.]\n",
      " [0. 4. 0. 0. 0.]]\n",
      "\n",
      "  err:  0.00000000\n",
      "\n"
     ]
    }
   ],
   "source": [
    "m=np.array([[1,0,0,0,2],\n",
    "             [0,0,3,0,0],\n",
    "             [0,0,0,0,0],\n",
    "             [0,4,0,0,0]])\n",
    "print(f\"  m:\\n{m}\\n\")\n",
    "U,s,Vh=la.svd(m)\n",
    "d = np.zeros((4,5))\n",
    "d[:4,:4] = np.diag(s)\n",
    "\n",
    "print(f\"    SVD : m=U.s.Vh\")\n",
    "print(f\"      U            :\\n{U}\\n\")\n",
    "print(f\"      s (diagonal) :\\n{s}\\n\")\n",
    "print(f\"      d            :\\n{d}\\n\")\n",
    "print(f\"      Vh           :\\n{Vh}\\n\\n\")\n",
    "\n",
    "print(f\"    Check SVD:\")\n",
    "print(f\"      U.shape:{U.shape}\")\n",
    "print(f\"      s.shape:{s.shape}\")\n",
    "print(f\"      d.shape:{d.shape}\")\n",
    "print(f\"      V.shape:{Vh.shape}\")\n",
    "\n",
    "# Reconstruction of m\n",
    "mres = np.dot(U,np.dot(d,Vh))\n",
    "print(f\"  mres:\\n{mres}\\n\")\n",
    "err = np.sqrt(np.sum(m -mres)**2)\n",
    "print(f\"  err:{err:12.8f}\\n\")"
   ]
  },
  {
   "cell_type": "markdown",
   "metadata": {},
   "source": [
    "## FFT"
   ]
  },
  {
   "cell_type": "markdown",
   "metadata": {},
   "source": [
    "The module numpy.fft contains <font color=\"red\"><b>discrete fourier</b></font> transforms."
   ]
  },
  {
   "cell_type": "code",
   "execution_count": 5,
   "metadata": {},
   "outputs": [
    {
     "data": {
      "image/png": "[encoded data removed]",
      "text/plain": [
       "<Figure size 640x480 with 2 Axes>"
      ]
     },
     "metadata": {},
     "output_type": "display_data"
    }
   ],
   "source": [
    "from math import pi\n",
    "\n",
    "tott=4.0  # Total time\n",
    "dt=1./100. # Sampling rate\n",
    "t=np.linspace(0,tott,int(tott/dt))\n",
    "s=0.30*np.sin(2*pi*3.5*t)  +0.80*np.sin(2*pi*5.0*t) + \\\n",
    "  0.65*np.sin(2*pi*8.0*t) + 1.15*np.sin(2*pi*16.0*t)\n",
    "S=ff.fft(s)\n",
    "n=S.size/2\n",
    "amp=np.abs(S)/n\n",
    "freq=np.linspace(0,80,80)/(2*n*dt)\n",
    "\n",
    "fig=plt.figure()\n",
    "ax1=fig.add_subplot(211)\n",
    "ax1.plot(t,s,color='red')\n",
    "ax1.set_xlabel(r'$t$/s')\n",
    "ax1.set_ylabel(r'$y(t)$')\n",
    "ax1.set_title(r'Signal as function of $t$')\n",
    "ax2=fig.add_subplot(212)\n",
    "ax2.plot(freq,amp[:80],color='green')\n",
    "ax2.set_xlabel(r'$\\omega$/Hz')\n",
    "ax2.set_ylabel(r'$A$')\n",
    "plt.grid(True);"
   ]
  },
  {
   "cell_type": "markdown",
   "metadata": {},
   "source": [
    "## Random Number Generation"
   ]
  },
  {
   "cell_type": "markdown",
   "metadata": {},
   "source": [
    "* The numpy random module contains funtions to generate random numbers \n",
    "  following certain distributions:\n",
    "  * uniform distributions:\n",
    "    * numpy.random.random: Uniform distribution [0,1[\n",
    "    * numpy.random.randint(low,high,..): Random integers from the \"discrete uniform\" distribution\n",
    "    * ...\n",
    "  * beta\n",
    "  * binomial\n",
    "  * cauchy (Lorentz)\n",
    "  * chisquare\n",
    "  * exponential\n",
    "  * gamma\n",
    "  * normal\n",
    "  * poisson\n",
    "  * ...\n",
    " \n",
    "* If you want to reproduce a sequence of random numbers, use the **seed()** function. "
   ]
  },
  {
   "cell_type": "markdown",
   "metadata": {},
   "source": [
    "##### Example: Standard Cauchy Distribution / Standard Lorentz Distribution"
   ]
  },
  {
   "cell_type": "markdown",
   "metadata": {},
   "source": [
    "$\\begin{equation*}\n",
    "P(x; x_0, \\gamma) = \\frac{1}{\\pi \\gamma \\bigl[ 1+\n",
    "              (\\frac{x-x_0}{\\gamma})^2 \\bigr] }\n",
    "\\end{equation*}$   \n",
    "\n",
    "where:<br>\n",
    "* $x_0$ = 0 \n",
    "* $\\gamma$=1\n"
   ]
  },
  {
   "cell_type": "code",
   "execution_count": null,
   "metadata": {},
   "outputs": [],
   "source": [
    "SZ = 1000000\n",
    "sample = rnd.standard_cauchy(SZ);\n",
    "sample = sample[(sample>-20) & (sample<20)]\n",
    "plt.hist(sample,bins=100);"
   ]
  },
  {
   "cell_type": "markdown",
   "metadata": {},
   "source": [
    "##### Example: Use of seed function (to reproduce set)"
   ]
  },
  {
   "cell_type": "code",
   "execution_count": null,
   "metadata": {},
   "outputs": [],
   "source": [
    "# Set seed\n",
    "rnd.seed(12)\n",
    "x = rnd.normal(loc=5,scale=2.0,size=(5,4))\n",
    "print(f\" x:\\n{x}\")\n",
    "\n",
    "# Reset seed\n",
    "rnd.seed(12)\n",
    "y = rnd.normal(loc=5,scale=2.0,size=(5,4))\n",
    "print(f\" y:\\n{y}\")"
   ]
  },
  {
   "cell_type": "markdown",
   "metadata": {},
   "source": [
    "## Special functions:"
   ]
  },
  {
   "cell_type": "markdown",
   "metadata": {},
   "source": [
    "* There is a numpy module containing a <font color=\"red\"><b>limited array</b></font> of special functions i.e.<br>\n",
    "  * import numpy.polynomial.{chebyshev, hermite, laguerre, legendre}\n",
    "* The <font color=\"green\"><b>scipy package (scipy.special)</b></font> has a wider variety of special functions:<br>\n",
    "  * import scipy.special"
   ]
  },
  {
   "cell_type": "markdown",
   "metadata": {},
   "source": [
    "###### Exercise:"
   ]
  },
  {
   "cell_type": "markdown",
   "metadata": {},
   "source": [
    "\n",
    "1. Exercise 1:<br>\n",
    "  Let A be a matrix given by:\n",
    "$\\begin{pmatrix}\n",
    "  3 & 1 & 1 \\\\\n",
    "  2 & 4 & 2 \\\\\n",
    "  1 & 1 & 3\n",
    "\\end{pmatrix}$\n",
    "  \n",
    "   - Calculate the matrix exponential: $e^{A}$.<br>\n",
    "     Hints:<br>\n",
    "     * The Taylor expansion of $e^x$ is given by:\n",
    "        $\\begin{eqnarray}  \n",
    "        e^x & = & \\sum_{n=0}^{\\infty} \\frac{x^n}{n!} \\nonumber \n",
    "        \\end{eqnarray}$\n",
    "     \n",
    "     * Use the diagonalization of the matrix A.\n",
    "   - You can check your result using the matrix exponential function \n",
    "     (<font color=\"green\"><b>expm</b></font>) \n",
    "     from <font color=\"green\"><b>scipy.linalg</b></font>.\n",
    "    \n",
    "2. Exercise 2: <br>\n",
    "   Simulation of Brownian motion/Wiener process<br>\n",
    "\n",
    "  The [standard Brownian motion](https://en.wikipedia.org/wiki/Brownian_motion) or [Wiener process](https://en.wikipedia.org/wiki/Wiener_process) is a [Gaussian process](https://en.wikipedia.org/wiki/Gaussian_process) ($X_t$, $t\\geq 0$)<br> \n",
    "  where:\n",
    "  \\begin{eqnarray}\n",
    "     \\mathbb{E}[X_t] & = & 0 \\\\\n",
    "    \\mathrm{Cov}(X_t,X_s)&= &\\min(s,t) \n",
    "  \\end{eqnarray}\n",
    "\n",
    "  From the above equations it follows that:\n",
    "  - $\\mathrm{Cov}$ is a symmetric matrix\n",
    "  - $\\mathrm{Cov}$ is [positive semi-definite](https://en.wikipedia.org/wiki/Definite_matrix) (all eigenvalues   $\\lambda_i \\geq 0$)\n",
    "\n",
    "  The standard Brownian motion can be simulated in different ways.<br>\n",
    "  **One-way** is based on the Cholesky decomposition of the covariance matrix:<br>\n",
    "  - For the interval $\\tau =[0,1]$, select $n$ equidistant intervals $\\Rightarrow$ $\\Delta t = 1/n$ \n",
    "  - Generate the $n \\times n$ $\\mathrm{Cov}$ matrix where $\\mathrm{Cov}(X_t,X_s)= \\min(s,t)$ ($1\\leq s,t \\leq n$)<br>\n",
    "    *Note*: <b><font color=\"red\">Exclude</font></b> from $\\mathrm{Cov}$ $X_0$ (i.e corresponding to the point $0$ in the interval) \n",
    "  - Perform a **Cholesky** decomposition of the covariance matrix $\\mathrm{Cov}:= A.A^T$\n",
    "  - Sample a vector of $n$ [IID](https://en.wikipedia.org/wiki/Independent_and_identically_distributed_random_variables) standard Gaussians $Z:=(Z_1,Z_2,\\ldots, Z_n)^T$ where<br>\n",
    "  $Z_i \\sim N(0,1)$ and $ i \\in \\{1,\\ldots,n\\}$.\n",
    "  - The vector $X:=A Z$ where $X:=(X_1,X_2,\\ldots, X_n)^T$ <br>\n",
    "  $\\mathrm{Cov}(X)=A.\\mathbb{1}_{n \\times n}A^T$ where $\\mathbb{1}_{n \\times n}$ stands for the $n \\times n$ identity matrix.\n",
    "  - Add $X_0=0$.\n",
    "Each vector $(X_0,X_1,\\ldots,X_n)^T$ is known as a *Brownian path*.\n",
    "\n",
    "\n",
    "* Generate $10$ Brownian paths/simulations and plot them.<br>\n",
    "  Use $n=100$ equidistant intervals on $[0,1]$."
   ]
  },
  {
   "cell_type": "code",
   "execution_count": null,
   "metadata": {},
   "outputs": [],
   "source": [
    "# %load ../solutions/ex8.py"
   ]
  }
 ],
 "metadata": {
  "kernelspec": {
   "display_name": "Python 3 (ipykernel)",
   "language": "python",
   "name": "python3"
  },
  "language_info": {
   "codemirror_mode": {
    "name": "ipython",
    "version": 3
   },
   "file_extension": ".py",
   "mimetype": "text/x-python",
   "name": "python",
   "nbconvert_exporter": "python",
   "pygments_lexer": "ipython3",
   "version": "3.11.5"
  },
  "latex_envs": {
   "LaTeX_envs_menu_present": true,
   "autoclose": false,
   "autocomplete": true,
   "bibliofile": "biblio.bib",
   "cite_by": "apalike",
   "current_citInitial": 1,
   "eqLabelWithNumbers": true,
   "eqNumInitial": 1,
   "hotkeys": {
    "equation": "Ctrl-E",
    "itemize": "Ctrl-I"
   },
   "labels_anchors": false,
   "latex_user_defs": false,
   "report_style_numbering": false,
   "user_envs_cfg": false
  },
  "toc": {
   "base_numbering": 1,
   "nav_menu": {},
   "number_sections": true,
   "sideBar": true,
   "skip_h1_title": false,
   "title_cell": "Table of Contents",
   "title_sidebar": "Contents",
   "toc_cell": false,
   "toc_position": {},
   "toc_section_display": true,
   "toc_window_display": false
  }
 },
 "nbformat": 4,
 "nbformat_minor": 2
}
