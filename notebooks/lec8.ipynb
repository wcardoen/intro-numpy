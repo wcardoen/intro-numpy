{
 "cells": [
  {
   "cell_type": "markdown",
   "metadata": {},
   "source": [
    "# Lecture 8"
   ]
  },
  {
   "cell_type": "code",
   "execution_count": null,
   "metadata": {},
   "outputs": [],
   "source": [
    "%run set_env.py\n",
    "%matplotlib inline"
   ]
  },
  {
   "cell_type": "markdown",
   "metadata": {},
   "source": [
    "## Linear Algebra"
   ]
  },
  {
   "cell_type": "markdown",
   "metadata": {},
   "source": [
    "Numpy contains a <font color=\"red\"><b>few basic linear algebra</b></font> routines.<br>\n",
    "They can be found in the following modules:<br>\n",
    "* numpy\n",
    "* numpy.linalg"
   ]
  },
  {
   "cell_type": "markdown",
   "metadata": {},
   "source": [
    "The module <font color=\"red\"><b>numpy</b></font> possesses a few functions.<br> \n",
    "Among them you will find:\n",
    "* numpy.dot: \n",
    "  * $1$D : Dot-product  \n",
    "  * $2$D : Matrix multiplication  \n",
    "* numpy.kron\n",
    "* numpy.trace \n",
    "* numpy.transpose: Transpose (you can also use .T)\n",
    "\n",
    "Other useful functions can be found in the module <font color=\"red\"><b>numpy.linalg</b></font>, such as:\n",
    "* numpy.linalg.matrix_power\n",
    "* numpy.linalg.cholesky\n",
    "* numpy.linalg.svd\n",
    "* numpy.linalg.det\n",
    "* numpy.linalg.solve: Solves a system of equations, i.e.:\n",
    "  $\\begin{equation*} A \\, X = B \\end{equation*}$\n",
    "* numpy.linalg.inv Inversion of a non-singular matrix $A$\n",
    "* numpy.linalg.eig\n",
    "* numpy.linalg.eigh: To calculate the eigenvalues/eigenvectors of a Hermitian Matrix\n",
    "* ..."
   ]
  },
  {
   "cell_type": "markdown",
   "metadata": {},
   "source": [
    "<b>Note:</b>\n",
    "* A more complete set of linear algebra routines can be found in Scipy\n",
    "  * e.g.: LU decomposition, Schur decomposition, etc.\n",
    "  * <font color=\"green\"><b>import scipy.linalg</b></font> \n",
    "* <font color=\"blue\"><b>Rationale</b></font>: Numpy relies on a subset of the LAPACK routines (-> ATLAS)"
   ]
  },
  {
   "cell_type": "markdown",
   "metadata": {},
   "source": [
    "#### Examples:"
   ]
  },
  {
   "cell_type": "markdown",
   "metadata": {},
   "source": [
    "##### Eigenvalues & Eigenvectors of a Matrix"
   ]
  },
  {
   "cell_type": "code",
   "execution_count": null,
   "metadata": {},
   "outputs": [],
   "source": [
    "# Eigenvalues & eigenvectors\n",
    "a=np.array([[  9.  ,   8.1 ,  12.6 ,  -3.9 ],\n",
    "            [  8.1 ,   9.54,  13.14,   0.39],\n",
    "            [ 12.6 ,  13.14,  70.92,  36.54],\n",
    "            [ -3.9 ,   0.39,  36.54,  52.05]])\n",
    "print(f\"  a:\\n{a}\\n\".format(a))\n",
    "\n",
    "w,v=la.eig(a)\n",
    "print(f\"    Eigenvalues:\\n{w}\\n\")\n",
    "print(f\"    Eigen Vectors:\\n{v}\\n\\n\")"
   ]
  },
  {
   "cell_type": "markdown",
   "metadata": {},
   "source": [
    "##### Cholesky decomposition of a Hermitean positive definite matrix"
   ]
  },
  {
   "cell_type": "code",
   "execution_count": null,
   "metadata": {},
   "outputs": [],
   "source": [
    "# a:\n",
    "#   Matrix is Real & Symmetric => Hermitean \n",
    "#   All the eigenvalues(a) > 0. -> positive definite\n",
    "\n",
    "l = la.cholesky(a)\n",
    "print(f\"    Cholesky decomposition: a=l.l^H\\n{l}\\n\")\n",
    "print(f\"    Check:\\n{np.dot(l,l.T)}\\n\")\n"
   ]
  },
  {
   "cell_type": "markdown",
   "metadata": {},
   "source": [
    "##### Single Value Decomposition (SVD):"
   ]
  },
  {
   "cell_type": "code",
   "execution_count": null,
   "metadata": {},
   "outputs": [],
   "source": [
    "m=np.array([[1,0,0,0,2],\n",
    "             [0,0,3,0,0],\n",
    "             [0,0,0,0,0],\n",
    "             [0,4,0,0,0]])\n",
    "print(f\"  m:\\n{m}\\n\")\n",
    "U,s,Vh=la.svd(m)\n",
    "d = np.zeros((4,5))\n",
    "d[:4,:4] = np.diag(s)\n",
    "\n",
    "print(f\"    SVD : m=U.s.Vh\")\n",
    "print(f\"      U            :\\n{U}\\n\")\n",
    "print(f\"      s (diagonal) :\\n{s}\\n\")\n",
    "print(f\"      d            :\\n{d}\\n\")\n",
    "print(f\"      Vh           :\\n{Vh}\\n\\n\")\n",
    "\n",
    "print(f\"    Check SVD:\")\n",
    "print(f\"      U.shape:{U.shape}\")\n",
    "print(f\"      s.shape:{s.shape}\")\n",
    "print(f\"      d.shape:{d.shape}\")\n",
    "print(f\"      V.shape:{Vh.shape}\")\n",
    "\n",
    "# Reconstruction of m\n",
    "mres = np.dot(U,np.dot(d,Vh))\n",
    "print(f\"  mres:\\n{mres}\\n\")\n",
    "err = np.sqrt(np.sum(m -mres)**2)\n",
    "print(f\"  err:{err:12.8f}\\n\")"
   ]
  },
  {
   "cell_type": "markdown",
   "metadata": {},
   "source": [
    "## FFT"
   ]
  },
  {
   "cell_type": "markdown",
   "metadata": {},
   "source": [
    "The module numpy.fft contains <font color=\"red\"><b>discrete fourier</b></font> transforms."
   ]
  },
  {
   "cell_type": "code",
   "execution_count": null,
   "metadata": {},
   "outputs": [],
   "source": [
    "from math import pi\n",
    "\n",
    "tott=4.0  # Total time\n",
    "dt=1./100 # Sampling rate\n",
    "t=np.linspace(0,tott,tott/dt)\n",
    "s=0.30*np.sin(2*pi*3.5*t)  +0.80*np.sin(2*pi*5.0*t) + \\\n",
    "  0.65*np.sin(2*pi*8.0*t) + 1.15*np.sin(2*pi*16.0*t)\n",
    "S=ff.fft(s)\n",
    "n=S.size/2\n",
    "amp=np.abs(S)/n\n",
    "freq=np.linspace(0,80,80)/(2*n*dt)\n",
    "\n",
    "fig=plt.figure()\n",
    "ax1=fig.add_subplot(211)\n",
    "ax1.plot(t,s,color='red')\n",
    "ax1.set_xlabel(r'$t$/s')\n",
    "ax1.set_ylabel(r'$y(t)$')\n",
    "ax1.set_title(r'Signal as function of $t$')\n",
    "ax2=fig.add_subplot(212)\n",
    "ax2.plot(freq,amp[:80],color='green')\n",
    "ax2.set_xlabel(r'$\\omega$/Hz')\n",
    "ax2.set_ylabel(r'$A$')\n",
    "plt.grid(True);"
   ]
  },
  {
   "cell_type": "markdown",
   "metadata": {},
   "source": [
    "## Random Number Generation"
   ]
  },
  {
   "cell_type": "markdown",
   "metadata": {},
   "source": [
    "The random module contains funtions to generate random numbers \n",
    "following certain distributions:\n",
    " * uniform distributions:\n",
    "   * numpy.random.random: Uniform distribution [0,1[\n",
    "   * numpy.random.randint(low,high,..): Random integers from the \"discrete uniform\" distribution\n",
    "   * ...\n",
    " * beta\n",
    " * cauchy (Lorentz)\n",
    " * binomial\n",
    " * chisquare\n",
    " * exponential\n",
    " * lognormal\n",
    " * normal\n",
    " * poisson\n",
    " * ...\n",
    " "
   ]
  },
  {
   "cell_type": "markdown",
   "metadata": {},
   "source": [
    "##### Example: Standard Cauchy Distribution / Standard Lorentz Distribution"
   ]
  },
  {
   "cell_type": "markdown",
   "metadata": {},
   "source": [
    "$\\begin{equation*}\n",
    "P(x; x_0, \\gamma) = \\frac{1}{\\pi \\gamma \\bigl[ 1+\n",
    "              (\\frac{x-x_0}{\\gamma})^2 \\bigr] }\n",
    "\\end{equation*}$   \n",
    "\n",
    "where:<br>\n",
    "* $x_0$ = 0 \n",
    "* $\\gamma$=1\n"
   ]
  },
  {
   "cell_type": "code",
   "execution_count": null,
   "metadata": {},
   "outputs": [],
   "source": [
    "SZ = 1000000\n",
    "sample = rnd.standard_cauchy(SZ);\n",
    "sample = sample[(sample>-20) & (sample<20)]\n",
    "plt.hist(sample,bins=100);"
   ]
  },
  {
   "cell_type": "markdown",
   "metadata": {},
   "source": [
    "## Polynomial"
   ]
  },
  {
   "cell_type": "markdown",
   "metadata": {},
   "source": [
    "### Part 1:"
   ]
  },
  {
   "cell_type": "markdown",
   "metadata": {},
   "source": [
    "* The **main** <font color=\"green\"><b>numpy</b></font> module contains some functions related to polynomials. e.g.:\n",
    "  * np.polyfit($x$,$y$): Least-square polynomial fit of the points ($x$,$y$) to ${\\displaystyle \\sum_{i=0}^{n} a_i x^i }$ \n",
    "  * np.polyder($p$, $n$=1): Returns the $n$-th derivative of a polynomial $p(x)$.\n",
    "  * np.polyval(p,x): Evaluate a polynomial at specific values\n",
    "  * ...."
   ]
  },
  {
   "cell_type": "markdown",
   "metadata": {},
   "source": [
    "##### Example: Polynomial Fit & Derivatives (numpy)"
   ]
  },
  {
   "cell_type": "markdown",
   "metadata": {
    "slideshow": {
     "slide_type": "fragment"
    }
   },
   "source": [
    "Function to be fitted: tanh(x)\n",
    "* Cubic approx   : $\\begin{equation*}p(x) := a_3\\,x^3+a_2\\,x^2 + a_1\\,x + a_0 \\end{equation*}$\n",
    "* Quartic approx.: $\\begin{equation*}p(x) := a_4\\,x^4+a_3\\,x^3+a_2\\,x^2 + a_1\\,x +a_0 \\end{equation*}$"
   ]
  },
  {
   "cell_type": "code",
   "execution_count": null,
   "metadata": {},
   "outputs": [],
   "source": [
    "# Exact\n",
    "x = np.linspace(-3, 4, 71)\n",
    "y = np.tanh(x) \n",
    "\n",
    "# CUBIC approx.\n",
    "print(f\"  CUBIC approx.::\")\n",
    "coeff3 = np.polyfit(x,y,3)  \n",
    "print(f\"    coeff.:\\n{coeff3}\\n\")\n",
    "p3 = np.poly1d(coeff3)      \n",
    "print(f\"    poly. (p3):\\n{p3}\\n\")\n",
    "print(f\"    TYPE(p3):{type(p3)}\\n\\n\")\n",
    "\n",
    "p3der = np.polyder(p3) # Calc. first derivative\n",
    "print(\"    poly (p'3(x)):\\n{p3der}\\n\")\n",
    "print(\"    TYPE(p3der):{type(p3der)}\\n\\n\")\n",
    "y3 = p3(x)   \n",
    "\n",
    "# QUARTIC approx.\n",
    "print(\"  QUARTIC approx.::\")\n",
    "coeff4 = np.polyfit(x,y,4) \n",
    "print(\"    coeff.:\\n{coeff4}\\n\")\n",
    "p4=np.poly1d(coeff4)    \n",
    "print(\"    poly.:\\n{p4}\\n\")\n",
    "print(\"    TYPE(p4):{type(p4)}\\n\\n\")\n",
    "\n",
    "p4der2 = np.polyder(p4,2)   # Calc. second derivative\n",
    "print(\"    poly (p''4(x)):\\n{p4der2}\\n\")\n",
    "print(\"    TYPE(p4der2):{type(p4der2)}\\n\\n\")\n",
    "y4 = p4(x)\n",
    "\n",
    "plt.plot(x,y,'r--',linewidth=4);\n",
    "plt.plot(x,y3,'vg');\n",
    "plt.plot(x,y4,'^b');\n",
    "plt.legend(('exact','cubic approx.','quartic approx.'),loc='lower right');"
   ]
  },
  {
   "cell_type": "markdown",
   "metadata": {},
   "source": [
    "### Part 2:"
   ]
  },
  {
   "cell_type": "markdown",
   "metadata": {},
   "source": [
    "* Besides the main numpy module, there is a polynomial module in numpy i.e. <font color=\"green\"><b>numpy.polynomial</b></font>.<br>\n",
    "  <font color=\"green\"><b>import numpy.polynomial.polynomial as P</b></font><br>\n",
    "  This module has the following operations:\n",
    "  * Basics:\n",
    "    * P.Polynomial(c): Create a polynomial based on an array of coeffs.\n",
    "    * P.polyval(x): Evaluate a polynomial at points $x$\n",
    "    * P.polyroots(c): Compute the roots of a polynomial\n",
    "    * P.polyfromroots(roots): Generate a monic polynomial with given roots\n",
    "    * ...\n",
    "  * Fitting:\n",
    "    * P.polyfit(x,y,deg): Least-square fit of a polynomial to data\n",
    "    * ..\n",
    "  * Calculus:\n",
    "    * P.polyder(c,m=1): Differentiate a polynomial\n",
    "    * P.polyint(c)\n",
    "       \n",
    "<b>Note</b>:<br>\n",
    "  * <font color=\"red\"><b>The polynomial types in Part 1 & Part 2 belong to different classes!!!</b></font>\n",
    "    * Part 1: <class 'numpy.lib.polynomial.poly1d'\\>\n",
    "    * Part 2: <class 'numpy.polynomial.polynomial.Polynomial'\\>"
   ]
  },
  {
   "cell_type": "markdown",
   "metadata": {},
   "source": [
    "#### Example Polynomial operations (numpy.polynomial)"
   ]
  },
  {
   "cell_type": "code",
   "execution_count": null,
   "metadata": {},
   "outputs": [],
   "source": [
    "import numpy.polynomial.polynomial as P\n",
    "\n",
    "c1 = (1,3,5)     # 5.0*x**2 + 3.0*x + 1.0\n",
    "c2 = (3,4,5,7)   # 7.0*x**3 + 5.0*x**2 + 4.0*x + 3.0\n",
    "print(f\"  COEFFICIENTS::\")\n",
    "print(f\"    c1:\\n       {c1}\".format(c1))\n",
    "print(f\"    c2:\\n       {c2}\\n\".format(c2))\n",
    "\n",
    "p1 = P.Polynomial(c1)\n",
    "p2 = P.Polynomial(c2)\n",
    "print(f\"  POLYNOMIALS::\")\n",
    "print(f\"    p1(x)      :\\n       {p1}\")\n",
    "print(f\"       TYPE(p1(x)): {type(p1)}\\n\")\n",
    "print(f\"    p2(x)      :\\n       {p2}\")\n",
    "print(f\"       TYPE(p2(x)): {type(p2)}\\n\")\n",
    "psum  = p2 + p1\n",
    "print(f\"    psum(x)  :\\n       {psum}\")\n",
    "print(f\"       TYPE(psum(x)): {type(psum)}\\n\")\n",
    "pdiff = p2 -p1\n",
    "print(f\"    pdiff(x) :\\n       {pdiff}\")\n",
    "print(f\"       TYPE(pdiff(x)): {type(pdiff)}\\n\")\n",
    "p1_2  = p1**2\n",
    "print(f\"    p1_2(x)  :\\n       {p1_2}\")\n",
    "print(f\"       TYPE(p1_2(x)): {type(p1_2)}\\n\")\n",
    "p1_der2 = p1.deriv(m=2)\n",
    "print(f\"    p1''(x)  :\\n       {p1_der2}\")\n",
    "print(f\"       TYPE(p1_der2(x)): {type(p1_der2)}\\n\")"
   ]
  },
  {
   "cell_type": "markdown",
   "metadata": {},
   "source": [
    "### Part 3:"
   ]
  },
  {
   "cell_type": "markdown",
   "metadata": {},
   "source": [
    "* There is a numpy module containing a <font color=\"red\"><b>limited array</b></font> of special functions i.e.<br>\n",
    "  * import numpy.polynomial.{chebyshev, hermite, laguerre, legendre}\n",
    "* The <font color=\"green\"><b>scipy package (scipy.special)</b></font> has a wide array of special functions:<br>\n",
    "  * import scipy.special"
   ]
  },
  {
   "cell_type": "markdown",
   "metadata": {},
   "source": [
    "###### Exercises:"
   ]
  },
  {
   "cell_type": "markdown",
   "metadata": {},
   "source": [
    "* Generate a random matrix $A$ ($6x6$) where each element $A_{ij}$ $\\in$ [0.0,1.0).\n",
    "  * Symmetrize the matrix $A$ in the following way:<br> $B_{ij}$ := ${\\displaystyle \\frac{A_{ij}\\,+\\,A_{ji}}{2}}$\n",
    "  * Generate the eigenvalues & eigenvectors of $B$. <br>\n",
    "    Matrix $B$ is Hermitean -> use <font color=\"green\"><b>numpy.linalg.eigh</b></font>.\n",
    "\n",
    "* A **Vandermonde** matrix $A$ is a square matrix which has the following form:<br> \n",
    "    $\\begin{equation*}A = \\begin{pmatrix}\n",
    "       1      & x_1 &  x^{2}_1 &   x^{3}_1 &  \\ldots &   x_1^{n-1} \\\\\n",
    "       1      & x_2 &  x_2^{2} &   x_2^{3} &  \\ldots &   x_2^{n-1} \\\\\n",
    "       \\vdots & \\vdots & \\vdots & \\vdots   &  \\ddots     &   \\vdots \\\\\n",
    "       1      & x_n &  x_n^{2} &   x_n^{3} &  \\ldots &   x_n^{n-1}\n",
    "      \\end{pmatrix}\\end{equation*}$ <br>\n",
    "  The determinant of $A$ is given by:<br>\n",
    "  $\\begin{equation*}\\det(A) = \n",
    "      {\\displaystyle \\prod_{1<=i<j<=n}}(x_j\\,-\\,x_i)\n",
    "   \\end{equation*}$\n",
    "  \n",
    "  1. Write the python function **genVDM** which:\n",
    "     * takes the vector $V$ as argument where $V\\,:=\\,(x_1,x_2,... x_n)$ \n",
    "     * generates the corresponding Vandermonde matrix $A$ explicitly.\n",
    "    \n",
    "  2. Write the python function **detVDM** which:\n",
    "     * takes the vector $V$ as argument where $V\\,:=\\,(x_1,x_2,... x_n)$\n",
    "     * returns the determinant of the corresponding Vandermonde matrix $A$.\n",
    "  \n",
    "  3. Apply **genVDM** & **detVDM** in the following way:\n",
    "     * Generate a random integer $n$ (dimension VDM matrix) $\\in$ $\\{4,5,6,7,8\\}$\n",
    "     * Generate the following vector $V:= (1,2,3,4,\\ldots, n)$\n",
    "     * Let **genVDM** operate on $V$ to generate \n",
    "       the corresponding Vandermonde matrix $A$.\n",
    "     * Calc. the determinant of $A$ using **detVDM** (operating on $V$).\n",
    "    \n",
    "  4. Check your results using the following numpy functions:\n",
    "      * <font color=\"green\"><b>numpy.vander</b></font>: Can generate a Vandermonde matrix.<br>\n",
    "        **Hint**: You need to use the flag/parameter $\\texttt{increasing=True}$\n",
    "      * <font color=\"green\"><b>numpy.linalg.det</b></font>: Calculates the determinant of a square matrix\n",
    "      \n"
   ]
  },
  {
   "cell_type": "code",
   "execution_count": 3,
   "metadata": {},
   "outputs": [],
   "source": [
    "# %load ../solutions/ex8.py"
   ]
  },
  {
   "cell_type": "code",
   "execution_count": null,
   "metadata": {},
   "outputs": [],
   "source": []
  }
 ],
 "metadata": {
  "kernelspec": {
   "display_name": "Python 3",
   "language": "python",
   "name": "python3"
  },
  "language_info": {
   "codemirror_mode": {
    "name": "ipython",
    "version": 3
   },
   "file_extension": ".py",
   "mimetype": "text/x-python",
   "name": "python",
   "nbconvert_exporter": "python",
   "pygments_lexer": "ipython3",
   "version": "3.7.4"
  }
 },
 "nbformat": 4,
 "nbformat_minor": 2
}
