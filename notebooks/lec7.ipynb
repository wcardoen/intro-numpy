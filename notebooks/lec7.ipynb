{
 "cells": [
  {
   "cell_type": "markdown",
   "metadata": {},
   "source": [
    "# Lecture 7"
   ]
  },
  {
   "cell_type": "code",
   "execution_count": null,
   "metadata": {},
   "outputs": [],
   "source": [
    "%run set_env.py\n",
    "%matplotlib inline"
   ]
  },
  {
   "cell_type": "markdown",
   "metadata": {},
   "source": [
    "## A. hstack, vstack & concatenate:"
   ]
  },
  {
   "cell_type": "markdown",
   "metadata": {},
   "source": [
    "* vstack, hstack each concatenate <font color=\"green\"><b>along an axis</b></font>.\n",
    "* All functions <font color=\"green\"><b>REQUIRE a tuple</b></font> as input."
   ]
  },
  {
   "cell_type": "code",
   "execution_count": null,
   "metadata": {},
   "outputs": [],
   "source": [
    "# VSTACK & CONCATENATE:\n",
    "# --------------------\n",
    "a = np.arange(1,10).reshape(3,3)\n",
    "b = np.arange(10,100,10).reshape((3,3))\n",
    "\n",
    "print(f\"  a:\\n{a}\")\n",
    "print(f\"  b:\\n{b}\")\n",
    "print(f\"  Vertical Stacking w. 'np.vstack':\\n{np.vstack((a,b))}\\n\")\n",
    "print(f\"  Vertical Stacking w. 'np.concatenate' along rows (axis=0):\\n{np.concatenate((a,b),axis=0)}\\n\")"
   ]
  },
  {
   "cell_type": "code",
   "execution_count": null,
   "metadata": {},
   "outputs": [],
   "source": [
    "# HSTACK & CONCATENATE:\n",
    "# --------------------\n",
    "a = np.arange(1,10).reshape(3,3)\n",
    "c = np.arange(18,36).reshape(3,6)\n",
    "print(f\"  a:\\n{a}\\n\")\n",
    "print(f\"  c:\\n{c}\\n\")\n",
    "res1_ac = np.hstack((a,c))\n",
    "print(f\"  Horizontal Stacking w. 'np.hstack':\\n{res1_ac}\\n\")\n",
    "res1_ca = np.hstack((c,a))\n",
    "print(f\"  Horizontal Stacking w. 'np.hstack':\\n{res1_ca}\\n\")\n",
    "res2_ac = np.concatenate((a,c),axis=1)\n",
    "print(f\"  Horizontal Stacking w. 'np.concatenate' along rows (axis=1):\\n{res2_ac}\\n\")"
   ]
  },
  {
   "cell_type": "markdown",
   "metadata": {},
   "source": [
    "### What about the 1D Vector case?"
   ]
  },
  {
   "cell_type": "code",
   "execution_count": null,
   "metadata": {},
   "outputs": [],
   "source": [
    "# 1D Case Vectors\n",
    "import numpy as np\n",
    "x = np.arange(0,5)\n",
    "y = np.arange(10,15)\n",
    "print(f\"  x:\\n{x}\\n\")\n",
    "print(f\"  y:\\n{y}\\n\")\n",
    "print(f\"  x.shape:{x.shape}\")\n",
    "print(f\"  y.shape:{y.shape}\\n\")\n",
    "\n",
    "print(f\"    vstack:\\n{np.vstack((x,y))}\\n\")\n",
    "print(f\"    hstack:\\n{np.hstack((x,y))}\\n\")\n",
    "# NOTE: We ONLY have 1 axis:\n",
    "print(f\"    concatenate along rows (axis=0):\\n{np.concatenate((x,y),axis=0)}\\n\")"
   ]
  },
  {
   "cell_type": "markdown",
   "metadata": {},
   "source": [
    "### Case 1: Adding an extra axis to dimension=0:"
   ]
  },
  {
   "cell_type": "code",
   "execution_count": null,
   "metadata": {},
   "outputs": [],
   "source": [
    "# What happens when I add an extra axis (Dimension:0)\n",
    "a = x[np.newaxis,:]\n",
    "b = y[np.newaxis,:]\n",
    "print(f\"  a.shape:{a.shape}\")\n",
    "print(f\"  b.shape:{b.shape}\")\n",
    "print(f\"  a:\\n{a}\\n\")\n",
    "print(f\"  b:\\n{b}\\n\")\n",
    "print(f\"  Vertical stack:\\n{np.vstack((a,b))}\\n\")\n",
    "print(f\"  Horizontal stack:\\n{np.hstack((a,b))}\\n\")\n",
    "\n",
    "print(f\"  Concatenate along rows (axis=0):\\n{np.concatenate((a,b),axis=0)}\\n\")\n",
    "print(f\"  Concatenate along rows (axis=1):\\n{np.concatenate((a,b),axis=1)}\\n\")"
   ]
  },
  {
   "cell_type": "markdown",
   "metadata": {},
   "source": [
    "### Case 2: Adding an extra axis to dimension=1:"
   ]
  },
  {
   "cell_type": "code",
   "execution_count": null,
   "metadata": {},
   "outputs": [],
   "source": [
    "a = x[:,np.newaxis]\n",
    "b = y[:,np.newaxis]\n",
    "\n",
    "print(f\"  a.shape:{a.shape}\")\n",
    "print(f\"  b.shape:{b.shape}\")\n",
    "print(f\"  a:\\n{a}\\n\")\n",
    "print(f\"  b:\\n{b}\\n\")\n",
    "print(f\"  Vertical stack  :\\n{np.vstack((a,b))}\\n\")\n",
    "print(f\"  Horizontal stack:\\n{np.hstack((a,b))}\\n\")\n",
    "\n",
    "print(f\"  Concatenate along rows (axis=0):\\n{np.concatenate((a,b),axis=0)}\\n\")\n",
    "print(f\"  Concatenate along rows (axis=1):\\n{np.concatenate((a,b),axis=1)}\\n\")"
   ]
  },
  {
   "cell_type": "markdown",
   "metadata": {},
   "source": [
    "## B. Info on regular Numpy types:"
   ]
  },
  {
   "cell_type": "code",
   "execution_count": null,
   "metadata": {},
   "outputs": [],
   "source": [
    "print(np.finfo(np.float64))\n",
    "print(np.finfo(np.complex128))\n",
    "print(np.iinfo(np.int8))"
   ]
  },
  {
   "cell_type": "markdown",
   "metadata": {},
   "source": [
    "## C. Special types in Numpy"
   ]
  },
  {
   "cell_type": "markdown",
   "metadata": {},
   "source": [
    "* Regular Python throws a <font color=\"red\"><b>ZeroDivisonError</b></font> when trying \n",
    "to divide a number by <font color=\"red\"><b>0</b></font>.\n",
    "* You can always <font color=\"green\"><b>catch the error with a \n",
    "  try-except construct"
   ]
  },
  {
   "cell_type": "markdown",
   "metadata": {},
   "source": [
    "### Example: Sinc in regular python"
   ]
  },
  {
   "cell_type": "markdown",
   "metadata": {},
   "source": [
    "$\\begin{eqnarray}\n",
    "\\text{sinc}(x) & := & \\frac{\\sin(x)}{x}\n",
    "\\end{eqnarray}$\n",
    "<br>\n",
    "and <br>\n",
    "$\\begin{eqnarray}\n",
    "\\lim_{x \\rightarrow 0} \\, \\frac{\\sin(x)}{x} & = & 1\n",
    "\\end{eqnarray}$"
   ]
  },
  {
   "cell_type": "code",
   "execution_count": null,
   "metadata": {},
   "outputs": [],
   "source": [
    "# sinc code (Version 1)\n",
    "from math import sin\n",
    "\n",
    "def sinc(x):\n",
    "    \"\"\"\n",
    "    Naive Definition of the sinc function\n",
    "    defined as sin(x)/x\n",
    "    \"\"\"\n",
    "    return sin(x)/x\n",
    "\n",
    "lst = [5.0,0.0]\n",
    "for x in lst:\n",
    "    print(f\"  {x}  {sinc(x)}\")"
   ]
  },
  {
   "cell_type": "code",
   "execution_count": null,
   "metadata": {},
   "outputs": [],
   "source": [
    "# sinc code (Version 2)\n",
    "from math import sin\n",
    "\n",
    "def sinc(x):\n",
    "    \"\"\"\n",
    "    Sinc Function :: sin(x)/x\n",
    "    Improved version #1\n",
    "    \"\"\"\n",
    "    try:\n",
    "        return sin(x)/x\n",
    "    except ZeroDivisionError:\n",
    "        return 1.00\n",
    "    \n",
    "lst = [5.0,0.0]\n",
    "for x in lst:\n",
    "    print(f\"  {x}  {sinc(x)}\")    "
   ]
  },
  {
   "cell_type": "markdown",
   "metadata": {},
   "source": [
    "### Numpy:"
   ]
  },
  {
   "cell_type": "markdown",
   "metadata": {},
   "source": [
    "* has np.inf & as np.nan\n",
    "* nan (not a number) **NOT** the same as inf\n",
    "* nan & inf are both of the type **np.float64** <br>\n",
    "  Why? NumPy uses the IEEE Standard for Binary Floating-Point for Arithmetic (IEEE 754)<br>\n",
    "  <a href=\"https://ieeexplore.ieee.org/document/4610935/\">754-2008 - IEEE Standard for Floating-Point Arithmetic</a>"
   ]
  },
  {
   "cell_type": "code",
   "execution_count": null,
   "metadata": {},
   "outputs": [],
   "source": [
    "np.seterr('ignore')  # ignore action\n",
    "# np.seterr('warn')  # print runtime warning\n",
    "\n",
    "from math import pi\n",
    "x     = np.array([-1.0,0.0,1.0])\n",
    "res_x = np.log(x)\n",
    "print(f\"  x  :\\n{x}\\n\")\n",
    "print(f\"  res (i.e. np.log(x)):\\n{res_x}\\n\")\n",
    "\n",
    "y = -5\n",
    "print(f\"  y  :{y}\")\n",
    "print(f\"  => np.sqrt(y):{np.sqrt(y)}\")"
   ]
  },
  {
   "cell_type": "markdown",
   "metadata": {},
   "source": [
    "contains <font color=\"green\"><b>testing functions</b></font> like:\n",
    "* np.isfinite\n",
    "* np.isinf\n",
    "* np.isneginf\n",
    "* np.isposinf\n",
    "* np.isnan"
   ]
  },
  {
   "cell_type": "code",
   "execution_count": null,
   "metadata": {},
   "outputs": [],
   "source": [
    "np.seterr('ignore')\n",
    "print(f\"  res_x            :{res_x}\".format(res_x))\n",
    "print(f\"  res_x:isnan?     :{np.isnan(res_x)}\".format())\n",
    "print(f\"     dtype(res_x)  :{res_x.dtype}\\n\".format(res_x.dtype))\n",
    "\n",
    "y = 0.\n",
    "res_y = np.log(y)\n",
    "print(f\"  res_y:isfinite?  :{np.isfinite(res_y)}\")\n",
    "print(f\"  res_y:isinf?     :{np.isinf(res_y)}\")\n",
    "print(f\"  res_y:isposinf?  :{np.isposinf(res_y)}\")\n",
    "print(f\"  res_y:isneginf?  :{np.isneginf(res_y)}\")\n",
    "print(f\"    dtype(res_y)   :{res_y.dtype}\")"
   ]
  },
  {
   "cell_type": "markdown",
   "metadata": {},
   "source": [
    "#### Working with vectors containg nan & inf"
   ]
  },
  {
   "cell_type": "code",
   "execution_count": null,
   "metadata": {},
   "outputs": [],
   "source": [
    "x = np.arange(10)\n",
    "print(f\"  x      : {x}\")\n",
    "print(f\"  x.dtype: '{x.dtype}'\")\n",
    "print(f\"  sum(x) : {np.sum(x)}\")"
   ]
  },
  {
   "cell_type": "code",
   "execution_count": null,
   "metadata": {},
   "outputs": [],
   "source": [
    "# Try to set x[5] to nan ... \n",
    "x[5] = np.nan"
   ]
  },
  {
   "cell_type": "markdown",
   "metadata": {},
   "source": [
    "* <font color=\"red\"><b>Why?</b></font><br>\n",
    "  Earlier we mentioned that *np.nan* is of the **np.float64** type<br>\n",
    "  but x is of the type **np.int64** <br>\n",
    "  (Mutatis mutandis for *np.inf*)\n",
    "  \n",
    "* <font color=\"green\"><b>Solution?</b></font><br>\n",
    "  Do a cast -> use np.astype"
   ]
  },
  {
   "cell_type": "code",
   "execution_count": null,
   "metadata": {},
   "outputs": [],
   "source": [
    "x = x.astype(dtype='float64')\n",
    "print(f\"  x:{x}\")\n",
    "print(f\"  x.dtype:{x.dtype}\")\n",
    "print(f\"  sum(x)   (PRE CHANGE)   : {np.sum(x)}\")\n",
    "x[5] = np.nan\n",
    "print(f\"  sum(x)   (AFTER CHANGE) : {np.sum(x)}\")\n",
    "print(f\"  prod(x)  (AFTER CHANGE) : {np.prod(x)}\")"
   ]
  },
  {
   "cell_type": "markdown",
   "metadata": {},
   "source": [
    "#### Vector operations with np.nan"
   ]
  },
  {
   "cell_type": "markdown",
   "metadata": {},
   "source": [
    "Numpy contains functions that skip the nan elements:\n",
    "* np.sum -> np.nansum\n",
    "* np.cumsum -> np.nancumsum\n",
    "* np.prod -> np.nanprod\n",
    "* ...  \n",
    "\n",
    "More & more functions are still added over time."
   ]
  },
  {
   "cell_type": "code",
   "execution_count": null,
   "metadata": {},
   "outputs": [],
   "source": [
    "print(f\"  x:{x}\")\n",
    "print(f\"    np.nansum(x)  :{np.nansum(x)}\")\n",
    "print(f\"    np.nanprod(x) :{np.nanprod(x)}\")"
   ]
  },
  {
   "cell_type": "markdown",
   "metadata": {},
   "source": [
    "### Exercise"
   ]
  },
  {
   "cell_type": "markdown",
   "metadata": {},
   "source": [
    "* Use a mask to calculate the sum & product of the following vector:<br>\n",
    "  x:[ 1.  2. nan  4.  5.  6.  7. nan  9.] <br>\n",
    "  without invoking neither np.nansum nor np.nanprod "
   ]
  },
  {
   "cell_type": "code",
   "execution_count": null,
   "metadata": {},
   "outputs": [],
   "source": [
    "# %load ../solutions/ex7.py"
   ]
  },
  {
   "cell_type": "code",
   "execution_count": null,
   "metadata": {},
   "outputs": [],
   "source": []
  }
 ],
 "metadata": {
  "kernelspec": {
   "display_name": "Python 3",
   "language": "python",
   "name": "python3"
  },
  "language_info": {
   "codemirror_mode": {
    "name": "ipython",
    "version": 3
   },
   "file_extension": ".py",
   "mimetype": "text/x-python",
   "name": "python",
   "nbconvert_exporter": "python",
   "pygments_lexer": "ipython3",
   "version": "3.7.4"
  }
 },
 "nbformat": 4,
 "nbformat_minor": 2
}
