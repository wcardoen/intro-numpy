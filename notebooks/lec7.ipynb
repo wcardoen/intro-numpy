{
 "cells": [
  {
   "cell_type": "markdown",
   "metadata": {},
   "source": [
    "# Lecture 7"
   ]
  },
  {
   "cell_type": "code",
   "execution_count": 1,
   "metadata": {},
   "outputs": [
    {
     "name": "stdout",
     "output_type": "stream",
     "text": [
      "Check versions:\n",
      "  numpy version     :'1.24.3'\n",
      "  matplotlib version:'3.8.2'\n"
     ]
    }
   ],
   "source": [
    "%run set_env.py\n",
    "%matplotlib inline"
   ]
  },
  {
   "cell_type": "markdown",
   "metadata": {},
   "source": [
    "## Assembling & splitting up ndarrays"
   ]
  },
  {
   "cell_type": "markdown",
   "metadata": {},
   "source": [
    "### a.Stacking ndarrays"
   ]
  },
  {
   "cell_type": "markdown",
   "metadata": {},
   "source": [
    "* vstack, hstack each concatenate <font color=\"green\"><b>along an axis</b></font>.\n",
    "* All functions <font color=\"green\"><b>REQUIRE a tuple</b></font> as input."
   ]
  },
  {
   "cell_type": "code",
   "execution_count": 2,
   "metadata": {},
   "outputs": [
    {
     "name": "stdout",
     "output_type": "stream",
     "text": [
      "  a:\n",
      "[[1 2 3]\n",
      " [4 5 6]\n",
      " [7 8 9]]\n",
      "  b:\n",
      "[[10 20 30]\n",
      " [40 50 60]\n",
      " [70 80 90]]\n",
      "  Vertical Stacking w. 'np.vstack':\n",
      "[[ 1  2  3]\n",
      " [ 4  5  6]\n",
      " [ 7  8  9]\n",
      " [10 20 30]\n",
      " [40 50 60]\n",
      " [70 80 90]]\n",
      "\n",
      "  Vertical Stacking w. 'np.concatenate' along rows (axis=0):\n",
      "[[ 1  2  3]\n",
      " [ 4  5  6]\n",
      " [ 7  8  9]\n",
      " [10 20 30]\n",
      " [40 50 60]\n",
      " [70 80 90]]\n",
      "\n"
     ]
    }
   ],
   "source": [
    "# VSTACK & CONCATENATE:\n",
    "# --------------------\n",
    "a = np.arange(1,10).reshape(3,3)\n",
    "b = np.arange(10,100,10).reshape((3,3))\n",
    "\n",
    "print(f\"  a:\\n{a}\")\n",
    "print(f\"  b:\\n{b}\")\n",
    "print(f\"  Vertical Stacking w. 'np.vstack':\\n{np.vstack((a,b))}\\n\")\n",
    "print(f\"  Vertical Stacking w. 'np.concatenate' along rows (axis=0):\\n{np.concatenate((a,b),axis=0)}\\n\")"
   ]
  },
  {
   "cell_type": "code",
   "execution_count": 3,
   "metadata": {},
   "outputs": [
    {
     "name": "stdout",
     "output_type": "stream",
     "text": [
      "  a:\n",
      "[[1 2 3]\n",
      " [4 5 6]\n",
      " [7 8 9]]\n",
      "\n",
      "  c:\n",
      "[[18 19 20 21 22 23]\n",
      " [24 25 26 27 28 29]\n",
      " [30 31 32 33 34 35]]\n",
      "\n",
      "  Horizontal Stacking w. 'np.hstack':\n",
      "[[ 1  2  3 18 19 20 21 22 23]\n",
      " [ 4  5  6 24 25 26 27 28 29]\n",
      " [ 7  8  9 30 31 32 33 34 35]]\n",
      "\n",
      "  Horizontal Stacking w. 'np.hstack':\n",
      "[[18 19 20 21 22 23  1  2  3]\n",
      " [24 25 26 27 28 29  4  5  6]\n",
      " [30 31 32 33 34 35  7  8  9]]\n",
      "\n",
      "  Horizontal Stacking w. 'np.concatenate' along rows (axis=1):\n",
      "[[ 1  2  3 18 19 20 21 22 23]\n",
      " [ 4  5  6 24 25 26 27 28 29]\n",
      " [ 7  8  9 30 31 32 33 34 35]]\n",
      "\n"
     ]
    }
   ],
   "source": [
    "# HSTACK & CONCATENATE:\n",
    "# --------------------\n",
    "a = np.arange(1,10).reshape(3,3)\n",
    "c = np.arange(18,36).reshape(3,6)\n",
    "print(f\"  a:\\n{a}\\n\")\n",
    "print(f\"  c:\\n{c}\\n\")\n",
    "res1_ac = np.hstack((a,c))\n",
    "print(f\"  Horizontal Stacking w. 'np.hstack':\\n{res1_ac}\\n\")\n",
    "res1_ca = np.hstack((c,a))\n",
    "print(f\"  Horizontal Stacking w. 'np.hstack':\\n{res1_ca}\\n\")\n",
    "res2_ac = np.concatenate((a,c),axis=1)\n",
    "print(f\"  Horizontal Stacking w. 'np.concatenate' along rows (axis=1):\\n{res2_ac}\\n\")"
   ]
  },
  {
   "cell_type": "markdown",
   "metadata": {},
   "source": [
    "### b.Splitting ndarrays"
   ]
  },
  {
   "cell_type": "markdown",
   "metadata": {},
   "source": [
    "* np.split(arr,indices/sections, axis=0): split along an <b>axis</b> into multiple sub-arrays as views.\n",
    "  * if indices (n): split arr into n <b>equal</b> parts along axis.\n",
    "  * sections e.g [2,4]: create subarrays: arr[:2], arr[2:4], arr[4:]\n",
    "* np.vsplit(arr, [indices/sections]): np.split along <b>axis=0</b> (rows).\n",
    "* np.hsplit(arr, [indices/sections]): np.split along <b>axis=1</b> (columns)"
   ]
  },
  {
   "cell_type": "code",
   "execution_count": 4,
   "metadata": {},
   "outputs": [
    {
     "name": "stdout",
     "output_type": "stream",
     "text": [
      "  A:\n",
      "[[ 0  1  2  3  4  5  6  7]\n",
      " [ 8  9 10 11 12 13 14 15]\n",
      " [16 17 18 19 20 21 22 23]\n",
      " [24 25 26 27 28 29 30 31]\n",
      " [32 33 34 35 36 37 38 39]\n",
      " [40 41 42 43 44 45 46 47]]\n",
      "\n",
      "  Vertical split in 3 EQUAL parts:\n",
      "\n",
      "    A_1:\n",
      "[[ 0  1  2  3  4  5  6  7]\n",
      " [ 8  9 10 11 12 13 14 15]]\n",
      "\n",
      "    A_2:\n",
      "[[16 17 18 19 20 21 22 23]\n",
      " [24 25 26 27 28 29 30 31]]\n",
      "\n",
      "    A_3:\n",
      "[[32 33 34 35 36 37 38 39]\n",
      " [40 41 42 43 44 45 46 47]]\n",
      "\n"
     ]
    }
   ],
   "source": [
    "# Vertical split\n",
    "A = np.arange(48).reshape((6,8))\n",
    "print(f\"  A:\\n{A}\\n\")\n",
    "print(f\"  Vertical split in 3 EQUAL parts:\\n\")\n",
    "A_1, A_2, A_3 = np.vsplit(A,3)\n",
    "print(f\"    A_1:\\n{A_1}\\n\")\n",
    "print(f\"    A_2:\\n{A_2}\\n\")\n",
    "print(f\"    A_3:\\n{A_3}\\n\")"
   ]
  },
  {
   "cell_type": "code",
   "execution_count": 5,
   "metadata": {},
   "outputs": [
    {
     "name": "stdout",
     "output_type": "stream",
     "text": [
      "  A:\n",
      "[[ 0  1  2  3  4  5  6  7]\n",
      " [ 8  9 10 11 12 13 14 15]\n",
      " [16 17 18 19 20 21 22 23]\n",
      " [24 25 26 27 28 29 30 31]\n",
      " [32 33 34 35 36 37 38 39]\n",
      " [40 41 42 43 44 45 46 47]]\n",
      "\n",
      "  Vertical split into SECTIONS:\n",
      "\n",
      "    A_1  A[ :1]:\n",
      "[[0 1 2 3 4 5 6 7]]\n",
      "\n",
      "    A_2  A[1:4]:\n",
      "[[ 8  9 10 11 12 13 14 15]\n",
      " [16 17 18 19 20 21 22 23]\n",
      " [24 25 26 27 28 29 30 31]]\n",
      "\n",
      "    A_3  A[4: ]:\n",
      "[[32 33 34 35 36 37 38 39]\n",
      " [40 41 42 43 44 45 46 47]]\n",
      "\n"
     ]
    }
   ],
   "source": [
    "print(f\"  A:\\n{A}\\n\")\n",
    "print(f\"  Vertical split into SECTIONS:\\n\")\n",
    "A_1, A_2, A_3 = np.vsplit(A,[1,4])\n",
    "print(f\"    A_1  A[ :1]:\\n{A_1}\\n\")\n",
    "print(f\"    A_2  A[1:4]:\\n{A_2}\\n\")\n",
    "print(f\"    A_3  A[4: ]:\\n{A_3}\\n\")\n",
    "# The same can be done using np.split but requires an\n",
    "# ADDITIONAL argument, i.e. axis=0"
   ]
  },
  {
   "cell_type": "code",
   "execution_count": 6,
   "metadata": {},
   "outputs": [
    {
     "name": "stdout",
     "output_type": "stream",
     "text": [
      "  B:\n",
      "[[ 0  1  2  3  4  5  6  7]\n",
      " [ 8  9 10 11 12 13 14 15]\n",
      " [16 17 18 19 20 21 22 23]\n",
      " [24 25 26 27 28 29 30 31]]\n",
      "\n",
      "  Horizontal split in 2 EQUAL parts::\n",
      "\n",
      "    B_1:\n",
      "[[ 0  1  2  3]\n",
      " [ 8  9 10 11]\n",
      " [16 17 18 19]\n",
      " [24 25 26 27]]\n",
      "\n",
      "    B_2:\n",
      "[[ 4  5  6  7]\n",
      " [12 13 14 15]\n",
      " [20 21 22 23]\n",
      " [28 29 30 31]]\n",
      "\n"
     ]
    }
   ],
   "source": [
    "# Horizontal split (Part 1)\n",
    "B = np.arange(32).reshape((4,8))\n",
    "print(f\"  B:\\n{B}\\n\")\n",
    "print(f\"  Horizontal split in 2 EQUAL parts::\\n\")\n",
    "B_1, B_2 = np.hsplit(B,2)\n",
    "print(f\"    B_1:\\n{B_1}\\n\")\n",
    "print(f\"    B_2:\\n{B_2}\\n\")"
   ]
  },
  {
   "cell_type": "code",
   "execution_count": 7,
   "metadata": {},
   "outputs": [
    {
     "name": "stdout",
     "output_type": "stream",
     "text": [
      "  B:\n",
      "[[ 0  1  2  3  4  5  6  7]\n",
      " [ 8  9 10 11 12 13 14 15]\n",
      " [16 17 18 19 20 21 22 23]\n",
      " [24 25 26 27 28 29 30 31]]\n",
      "\n",
      "  Horizontal split INTO sections::\n",
      "\n",
      "    B_1 [ :1]:\n",
      "[[ 0]\n",
      " [ 8]\n",
      " [16]\n",
      " [24]]\n",
      "\n",
      "    B_2 [1:3]:\n",
      "[[ 1  2]\n",
      " [ 9 10]\n",
      " [17 18]\n",
      " [25 26]]\n",
      "\n",
      "    B_3 [3:5]:\n",
      "[[ 3  4]\n",
      " [11 12]\n",
      " [19 20]\n",
      " [27 28]]\n",
      "\n",
      "    B_4 [5: ]:\n",
      "[[ 5  6  7]\n",
      " [13 14 15]\n",
      " [21 22 23]\n",
      " [29 30 31]]\n",
      "\n"
     ]
    }
   ],
   "source": [
    "# Horizontal split (Part 2)\n",
    "print(f\"  B:\\n{B}\\n\")\n",
    "print(f\"  Horizontal split INTO sections::\\n\")\n",
    "B_1, B_2, B_3, B_4 = np.hsplit(B,[1,3,5])\n",
    "print(f\"    B_1 [ :1]:\\n{B_1}\\n\")\n",
    "print(f\"    B_2 [1:3]:\\n{B_2}\\n\")\n",
    "print(f\"    B_3 [3:5]:\\n{B_3}\\n\")\n",
    "print(f\"    B_4 [5: ]:\\n{B_4}\\n\")\n",
    "# The same can be done using np.split but requires an\n",
    "# ADDITIONAL argument, i.e. axis=1"
   ]
  },
  {
   "cell_type": "markdown",
   "metadata": {},
   "source": [
    "### c.Blocks"
   ]
  },
  {
   "cell_type": "markdown",
   "metadata": {},
   "source": [
    "* np.block: assemble an ndarray from nested lists of blocks."
   ]
  },
  {
   "cell_type": "code",
   "execution_count": 8,
   "metadata": {},
   "outputs": [
    {
     "name": "stdout",
     "output_type": "stream",
     "text": [
      "    Blocks:\n",
      "\n",
      "      A = np.ones((2,3)) ::\n",
      "[[1. 1. 1.]\n",
      " [1. 1. 1.]]\n",
      "\n",
      "      B = np.full((2,5), np.e) ::\n",
      "[[2.718 2.718 2.718 2.718 2.718]\n",
      " [2.718 2.718 2.718 2.718 2.718]]\n",
      "\n",
      "      C = np.full((3,4), np.pi) ::\n",
      "[[3.142 3.142 3.142 3.142]\n",
      " [3.142 3.142 3.142 3.142]\n",
      " [3.142 3.142 3.142 3.142]]\n",
      "\n",
      "      D = np.ones((3,4)) ::\n",
      "[[1. 1. 1. 1.]\n",
      " [1. 1. 1. 1.]\n",
      " [1. 1. 1. 1.]]\n",
      "\n",
      "      E = np.block([[A,B],[C,D]] ::\n",
      "[[1.    1.    1.    2.718 2.718 2.718 2.718 2.718]\n",
      " [1.    1.    1.    2.718 2.718 2.718 2.718 2.718]\n",
      " [3.142 3.142 3.142 3.142 1.    1.    1.    1.   ]\n",
      " [3.142 3.142 3.142 3.142 1.    1.    1.    1.   ]\n",
      " [3.142 3.142 3.142 3.142 1.    1.    1.    1.   ]]\n",
      "\n"
     ]
    }
   ],
   "source": [
    "A = np.ones((2,3))\n",
    "B = np.full((2,5), np.e)\n",
    "C = np.full((3,4), np.pi)\n",
    "D = np.ones((3,4))\n",
    "np.set_printoptions(precision=3)\n",
    "print(f\"    Blocks:\\n\")\n",
    "print(f\"      A = np.ones((2,3)) ::\\n{A}\\n\")\n",
    "print(f\"      B = np.full((2,5), np.e) ::\\n{B}\\n\")\n",
    "print(f\"      C = np.full((3,4), np.pi) ::\\n{C}\\n\")\n",
    "print(f\"      D = np.ones((3,4)) ::\\n{D}\\n\")\n",
    "E = np.block([[A,B],[C,D]])\n",
    "print(f\"      E = np.block([[A,B],[C,D]] ::\\n{E}\\n\")"
   ]
  },
  {
   "cell_type": "markdown",
   "metadata": {},
   "source": [
    "## B. Info on regular Numpy types:"
   ]
  },
  {
   "cell_type": "code",
   "execution_count": 9,
   "metadata": {},
   "outputs": [
    {
     "name": "stdout",
     "output_type": "stream",
     "text": [
      "Machine parameters for float64\n",
      "---------------------------------------------------------------\n",
      "precision =  15   resolution = 1.0000000000000001e-15\n",
      "machep =    -52   eps =        2.2204460492503131e-16\n",
      "negep =     -53   epsneg =     1.1102230246251565e-16\n",
      "minexp =  -1022   tiny =       2.2250738585072014e-308\n",
      "maxexp =   1024   max =        1.7976931348623157e+308\n",
      "nexp =       11   min =        -max\n",
      "smallest_normal = 2.2250738585072014e-308   smallest_subnormal = 4.9406564584124654e-324\n",
      "---------------------------------------------------------------\n",
      "\n",
      "Machine parameters for float64\n",
      "---------------------------------------------------------------\n",
      "precision =  15   resolution = 1.0000000000000001e-15\n",
      "machep =    -52   eps =        2.2204460492503131e-16\n",
      "negep =     -53   epsneg =     1.1102230246251565e-16\n",
      "minexp =  -1022   tiny =       2.2250738585072014e-308\n",
      "maxexp =   1024   max =        1.7976931348623157e+308\n",
      "nexp =       11   min =        -max\n",
      "smallest_normal = 2.2250738585072014e-308   smallest_subnormal = 4.9406564584124654e-324\n",
      "---------------------------------------------------------------\n",
      "\n",
      "Machine parameters for int8\n",
      "---------------------------------------------------------------\n",
      "min = -128\n",
      "max = 127\n",
      "---------------------------------------------------------------\n",
      "\n"
     ]
    }
   ],
   "source": [
    "print(np.finfo(np.float64))\n",
    "print(np.finfo(np.complex128))\n",
    "print(np.iinfo(np.int8))"
   ]
  },
  {
   "cell_type": "markdown",
   "metadata": {},
   "source": [
    "## C. Special types in Numpy"
   ]
  },
  {
   "cell_type": "markdown",
   "metadata": {},
   "source": [
    "* Regular Python throws a <font color=\"red\"><b>ZeroDivisonError</b></font> when trying \n",
    "to divide a number by <font color=\"red\"><b>0</b></font>.\n",
    "* You can always <font color=\"green\"><b>catch the error with a \n",
    "  try-except construct"
   ]
  },
  {
   "cell_type": "markdown",
   "metadata": {},
   "source": [
    "### Example: Sinc in regular python"
   ]
  },
  {
   "cell_type": "markdown",
   "metadata": {},
   "source": [
    "$\\begin{eqnarray}\n",
    "\\text{sinc}(x) & := & \\frac{\\sin(x)}{x}\n",
    "\\end{eqnarray}$\n",
    "<br>\n",
    "and <br>\n",
    "$\\begin{eqnarray}\n",
    "\\lim_{x \\rightarrow 0} \\, \\frac{\\sin(x)}{x} & = & 1\n",
    "\\end{eqnarray}$"
   ]
  },
  {
   "cell_type": "code",
   "execution_count": 10,
   "metadata": {},
   "outputs": [
    {
     "name": "stdout",
     "output_type": "stream",
     "text": [
      "  5.0  -0.1917848549326277\n"
     ]
    },
    {
     "ename": "ZeroDivisionError",
     "evalue": "float division by zero",
     "output_type": "error",
     "traceback": [
      "\u001b[0;31m---------------------------------------------------------------------------\u001b[0m",
      "\u001b[0;31mZeroDivisionError\u001b[0m                         Traceback (most recent call last)",
      "Cell \u001b[0;32mIn[10], line 13\u001b[0m\n\u001b[1;32m     11\u001b[0m lst \u001b[38;5;241m=\u001b[39m [\u001b[38;5;241m5.0\u001b[39m,\u001b[38;5;241m0.0\u001b[39m]\n\u001b[1;32m     12\u001b[0m \u001b[38;5;28;01mfor\u001b[39;00m x \u001b[38;5;129;01min\u001b[39;00m lst:\n\u001b[0;32m---> 13\u001b[0m     \u001b[38;5;28mprint\u001b[39m(\u001b[38;5;124mf\u001b[39m\u001b[38;5;124m\"\u001b[39m\u001b[38;5;124m  \u001b[39m\u001b[38;5;132;01m{\u001b[39;00mx\u001b[38;5;132;01m}\u001b[39;00m\u001b[38;5;124m  \u001b[39m\u001b[38;5;132;01m{\u001b[39;00msinc(x)\u001b[38;5;132;01m}\u001b[39;00m\u001b[38;5;124m\"\u001b[39m)\n",
      "Cell \u001b[0;32mIn[10], line 9\u001b[0m, in \u001b[0;36msinc\u001b[0;34m(x)\u001b[0m\n\u001b[1;32m      4\u001b[0m \u001b[38;5;28;01mdef\u001b[39;00m \u001b[38;5;21msinc\u001b[39m(x):\n\u001b[1;32m      5\u001b[0m \u001b[38;5;250m    \u001b[39m\u001b[38;5;124;03m\"\"\"\u001b[39;00m\n\u001b[1;32m      6\u001b[0m \u001b[38;5;124;03m    Naive Definition of the sinc function\u001b[39;00m\n\u001b[1;32m      7\u001b[0m \u001b[38;5;124;03m    defined as sin(x)/x\u001b[39;00m\n\u001b[1;32m      8\u001b[0m \u001b[38;5;124;03m    \"\"\"\u001b[39;00m\n\u001b[0;32m----> 9\u001b[0m     \u001b[38;5;28;01mreturn\u001b[39;00m sin(x)\u001b[38;5;241m/\u001b[39mx\n",
      "\u001b[0;31mZeroDivisionError\u001b[0m: float division by zero"
     ]
    }
   ],
   "source": [
    "# sinc code (Version 1)\n",
    "from math import sin\n",
    "\n",
    "def sinc(x):\n",
    "    \"\"\"\n",
    "    Naive Definition of the sinc function\n",
    "    defined as sin(x)/x\n",
    "    \"\"\"\n",
    "    return sin(x)/x\n",
    "\n",
    "lst = [5.0,0.0]\n",
    "for x in lst:\n",
    "    print(f\"  {x}  {sinc(x)}\")"
   ]
  },
  {
   "cell_type": "code",
   "execution_count": 11,
   "metadata": {},
   "outputs": [
    {
     "name": "stdout",
     "output_type": "stream",
     "text": [
      "  x:5.0  sinc(x):-0.1917848549326277\n",
      "  x:0.0  sinc(x):1.0\n"
     ]
    }
   ],
   "source": [
    "# sinc code (Version 2)\n",
    "from math import sin\n",
    "\n",
    "def sinc(x):\n",
    "    \"\"\"\n",
    "    Sinc Function :: sin(x)/x\n",
    "    Improved version #1\n",
    "    \"\"\"\n",
    "    try:\n",
    "        return sin(x)/x\n",
    "    except ZeroDivisionError:\n",
    "        return 1.00\n",
    "    \n",
    "lst = [5.0,0.0]\n",
    "for x in lst:\n",
    "    print(f\"  x:{x}  sinc(x):{sinc(x)}\")    "
   ]
  },
  {
   "cell_type": "markdown",
   "metadata": {},
   "source": [
    "### Numpy:"
   ]
  },
  {
   "cell_type": "markdown",
   "metadata": {},
   "source": [
    "* has np.inf & as np.nan\n",
    "* nan (not a number) **NOT** the same as inf\n",
    "* nan & inf are both of the type **np.float64** <br>\n",
    "  Why? NumPy uses the IEEE Standard for Binary Floating-Point for Arithmetic (IEEE 754)<br>\n",
    "  <a href=\"https://ieeexplore.ieee.org/document/4610935/\">754-2008 - IEEE Standard for Floating-Point Arithmetic</a>"
   ]
  },
  {
   "cell_type": "code",
   "execution_count": null,
   "metadata": {},
   "outputs": [],
   "source": [
    "np.seterr('ignore')  # ignore action\n",
    "# np.seterr('warn')  # print runtime warning\n",
    "\n",
    "from math import pi\n",
    "x     = np.array([-1.0,0.0,1.0])\n",
    "res_x = np.log(x)\n",
    "print(f\"  x  :\\n{x}\\n\")\n",
    "print(f\"  res (i.e. np.log(x)):\\n{res_x}\\n\")\n",
    "\n",
    "y = np.array(-5)\n",
    "print(f\"  y  :{y}\")\n",
    "print(f\"  => np.sqrt(y):{np.sqrt(y)}\")\n",
    "\n",
    "# So, what to do for the latter case? => cast to complex type\n",
    "print(f\"  => np.sqrt(y):{np.sqrt(y.astype('complex128'))}\")"
   ]
  },
  {
   "cell_type": "markdown",
   "metadata": {},
   "source": [
    "contains <font color=\"green\"><b>testing functions</b></font> like:\n",
    "* np.isfinite\n",
    "* np.isinf\n",
    "* np.isneginf\n",
    "* np.isposinf\n",
    "* np.isnan"
   ]
  },
  {
   "cell_type": "code",
   "execution_count": null,
   "metadata": {},
   "outputs": [],
   "source": [
    "#np.seterr('ignore')\n",
    "print(f\"  res_x            :{res_x}\")\n",
    "print(f\"  res_x:isnan?     :{np.isnan(res_x)}\")\n",
    "print(f\"     dtype(res_x)  :{res_x.dtype}\")\n",
    "\n",
    "y = 0.\n",
    "res_y = np.log(y)\n",
    "print(f\"  res_y:isfinite?  :{np.isfinite(res_y)}\")\n",
    "print(f\"  res_y:isinf?     :{np.isinf(res_y)}\")\n",
    "print(f\"  res_y:isposinf?  :{np.isposinf(res_y)}\")\n",
    "print(f\"  res_y:isneginf?  :{np.isneginf(res_y)}\")\n",
    "print(f\"    dtype(res_y)   :{res_y.dtype}\")"
   ]
  },
  {
   "cell_type": "markdown",
   "metadata": {},
   "source": [
    "#### Working with vectors containg nan & inf"
   ]
  },
  {
   "cell_type": "code",
   "execution_count": null,
   "metadata": {},
   "outputs": [],
   "source": [
    "x = np.arange(10)\n",
    "print(f\"  x      : {x}\")\n",
    "print(f\"  x.dtype: '{x.dtype}'\")\n",
    "print(f\"  sum(x) : {np.sum(x)}\")"
   ]
  },
  {
   "cell_type": "code",
   "execution_count": null,
   "metadata": {},
   "outputs": [],
   "source": [
    "# Try to set x[5] to nan ... \n",
    "x[5] = np.nan"
   ]
  },
  {
   "cell_type": "markdown",
   "metadata": {},
   "source": [
    "* <font color=\"red\"><b>Why?</b></font><br>\n",
    "  Earlier we mentioned that *np.nan* is of the **np.float64** type<br>\n",
    "  but x is of the type **np.int64** <br>\n",
    "  (Mutatis mutandis for *np.inf*)\n",
    "  \n",
    "* <font color=\"green\"><b>Solution?</b></font><br>\n",
    "  Do a cast -> use np.astype"
   ]
  },
  {
   "cell_type": "code",
   "execution_count": null,
   "metadata": {},
   "outputs": [],
   "source": [
    "x = x.astype(dtype='float64')\n",
    "print(f\"  x:{x}\")\n",
    "print(f\"  x.dtype:{x.dtype}\")\n",
    "print(f\"  sum(x)   (PRE CHANGE)   : {np.sum(x)}\")\n",
    "x[5] = np.nan\n",
    "print(f\"  sum(x)   (AFTER CHANGE) : {np.sum(x)}\")\n",
    "print(f\"  prod(x)  (AFTER CHANGE) : {np.prod(x)}\")"
   ]
  },
  {
   "cell_type": "markdown",
   "metadata": {},
   "source": [
    "#### Vector operations with np.nan"
   ]
  },
  {
   "cell_type": "markdown",
   "metadata": {},
   "source": [
    "Numpy contains functions that skip the nan elements:\n",
    "* np.sum -> np.nansum\n",
    "* np.cumsum -> np.nancumsum\n",
    "* np.prod -> np.nanprod\n",
    "* ...  \n",
    "\n",
    "More & more functions are still added over time."
   ]
  },
  {
   "cell_type": "code",
   "execution_count": null,
   "metadata": {},
   "outputs": [],
   "source": [
    "print(f\"  x:{x}\")\n",
    "print(f\"    np.nansum(x)  :{np.nansum(x)}\")\n",
    "print(f\"    np.nanprod(x) :{np.nanprod(x)}\")"
   ]
  },
  {
   "cell_type": "markdown",
   "metadata": {},
   "source": [
    "### Exercise"
   ]
  },
  {
   "cell_type": "markdown",
   "metadata": {},
   "source": [
    "* Use a mask/boolean vector to calculate the sum & product of the following vector:<br>\n",
    "  x:[ 1.  2. nan  4.  5.  6.  7. nan  9.] <br>\n",
    "  without invoking neither np.nansum nor np.nanprod "
   ]
  },
  {
   "cell_type": "code",
   "execution_count": null,
   "metadata": {},
   "outputs": [],
   "source": [
    "# %load ../solutions/ex7.py"
   ]
  }
 ],
 "metadata": {
  "kernelspec": {
   "display_name": "Python 3 (ipykernel)",
   "language": "python",
   "name": "python3"
  },
  "language_info": {
   "codemirror_mode": {
    "name": "ipython",
    "version": 3
   },
   "file_extension": ".py",
   "mimetype": "text/x-python",
   "name": "python",
   "nbconvert_exporter": "python",
   "pygments_lexer": "ipython3",
   "version": "3.11.5"
  },
  "latex_envs": {
   "LaTeX_envs_menu_present": true,
   "autoclose": false,
   "autocomplete": true,
   "bibliofile": "biblio.bib",
   "cite_by": "apalike",
   "current_citInitial": 1,
   "eqLabelWithNumbers": true,
   "eqNumInitial": 1,
   "hotkeys": {
    "equation": "Ctrl-E",
    "itemize": "Ctrl-I"
   },
   "labels_anchors": false,
   "latex_user_defs": false,
   "report_style_numbering": false,
   "user_envs_cfg": false
  },
  "toc": {
   "base_numbering": 1,
   "nav_menu": {},
   "number_sections": true,
   "sideBar": true,
   "skip_h1_title": false,
   "title_cell": "Table of Contents",
   "title_sidebar": "Contents",
   "toc_cell": false,
   "toc_position": {},
   "toc_section_display": true,
   "toc_window_display": false
  }
 },
 "nbformat": 4,
 "nbformat_minor": 2
}
