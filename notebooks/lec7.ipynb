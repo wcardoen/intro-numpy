{
 "cells": [
  {
   "cell_type": "markdown",
   "metadata": {
    "editable": true,
    "slideshow": {
     "slide_type": ""
    },
    "tags": []
   },
   "source": [
    "# Lecture 7"
   ]
  },
  {
   "cell_type": "code",
   "execution_count": null,
   "metadata": {},
   "outputs": [],
   "source": [
    "%run set_env.py\n",
    "%matplotlib inline"
   ]
  },
  {
   "cell_type": "markdown",
   "metadata": {},
   "source": [
    "## Concatenating & splitting ndarrays"
   ]
  },
  {
   "cell_type": "markdown",
   "metadata": {},
   "source": [
    "### Concatenating ndarrays"
   ]
  },
  {
   "cell_type": "markdown",
   "metadata": {},
   "source": [
    "* vstack, hstack each concatenate <font color=\"green\"><b>along an axis</b></font>.\n",
    "* All functions <font color=\"green\"><b>REQUIRE a tuple</b></font> as input."
   ]
  },
  {
   "cell_type": "markdown",
   "metadata": {},
   "source": [
    "**Example 1**"
   ]
  },
  {
   "cell_type": "code",
   "execution_count": null,
   "metadata": {},
   "outputs": [],
   "source": [
    "# VSTACK & CONCATENATE:\n",
    "# --------------------\n",
    "a = np.arange(1,10).reshape(3,3)\n",
    "b = np.arange(10,100,10).reshape((3,3))\n",
    "\n",
    "print(f\"  a:\\n{a}\")\n",
    "print(f\"  b:\\n{b}\")\n",
    "print(f\"  Vertical Stacking w. 'np.vstack':\\n{np.vstack((a,b))}\\n\")\n",
    "print(f\"  Vertical Stacking w. 'np.concatenate' along rows (axis=0):\\n{np.concatenate((a,b),axis=0)}\\n\")"
   ]
  },
  {
   "cell_type": "markdown",
   "metadata": {},
   "source": [
    "**Example 2**"
   ]
  },
  {
   "cell_type": "code",
   "execution_count": null,
   "metadata": {},
   "outputs": [],
   "source": [
    "# HSTACK & CONCATENATE:\n",
    "# --------------------\n",
    "a = np.arange(1,10).reshape(3,3)\n",
    "c = np.arange(18,36).reshape(3,6)\n",
    "print(f\"  a:\\n{a}\\n\")\n",
    "print(f\"  c:\\n{c}\\n\")\n",
    "res1_ac = np.hstack((a,c))\n",
    "print(f\"  Horizontal Stacking w. 'np.hstack':\\n{res1_ac}\\n\")\n",
    "res1_ca = np.hstack((c,a))\n",
    "print(f\"  Horizontal Stacking w. 'np.hstack':\\n{res1_ca}\\n\")\n",
    "res2_ac = np.concatenate((a,c),axis=1)\n",
    "print(f\"  Horizontal Stacking w. 'np.concatenate' along rows (axis=1):\\n{res2_ac}\\n\")"
   ]
  },
  {
   "cell_type": "markdown",
   "metadata": {},
   "source": [
    "### Splitting ndarrays"
   ]
  },
  {
   "cell_type": "markdown",
   "metadata": {},
   "source": [
    "* np.split(arr,indices/sections, axis=0): split along an <b>axis</b> into multiple sub-arrays as views.\n",
    "  * if indices (n): split arr into n <b>equal</b> parts along axis.\n",
    "  * sections e.g [2,4]: create subarrays: arr[:2], arr[2:4], arr[4:]\n",
    "* np.vsplit(arr, [indices/sections]): np.split along <b>axis=0</b> (rows).\n",
    "* np.hsplit(arr, [indices/sections]): np.split along <b>axis=1</b> (columns)"
   ]
  },
  {
   "cell_type": "markdown",
   "metadata": {},
   "source": [
    "**Example 1**"
   ]
  },
  {
   "cell_type": "code",
   "execution_count": null,
   "metadata": {},
   "outputs": [],
   "source": [
    "# Vertical split\n",
    "A = np.arange(48).reshape((6,8))\n",
    "print(f\"  A:\\n{A}\\n\")\n",
    "print(f\"  Vertical split in 3 EQUAL parts:\\n\")\n",
    "A_1, A_2, A_3 = np.vsplit(A,3)\n",
    "print(f\"    A_1:\\n{A_1}\\n\")\n",
    "print(f\"    A_2:\\n{A_2}\\n\")\n",
    "print(f\"    A_3:\\n{A_3}\\n\")"
   ]
  },
  {
   "cell_type": "code",
   "execution_count": null,
   "metadata": {},
   "outputs": [],
   "source": [
    "print(f\"  A:\\n{A}\\n\")\n",
    "print(f\"  Vertical split into SECTIONS:\\n\")\n",
    "A_1, A_2, A_3 = np.vsplit(A,[1,4])\n",
    "print(f\"    A_1  A[ :1]:\\n{A_1}\\n\")\n",
    "print(f\"    A_2  A[1:4]:\\n{A_2}\\n\")\n",
    "print(f\"    A_3  A[4: ]:\\n{A_3}\\n\")\n",
    "# The same can be done using np.split but requires an\n",
    "# ADDITIONAL argument, i.e. axis=0"
   ]
  },
  {
   "cell_type": "markdown",
   "metadata": {},
   "source": [
    "**Example 2**"
   ]
  },
  {
   "cell_type": "code",
   "execution_count": null,
   "metadata": {},
   "outputs": [],
   "source": [
    "# Horizontal split (Part 1)\n",
    "B = np.arange(32).reshape((4,8))\n",
    "print(f\"  B:\\n{B}\\n\")\n",
    "print(f\"  Horizontal split in 2 EQUAL parts::\\n\")\n",
    "B_1, B_2 = np.hsplit(B,2)\n",
    "print(f\"    B_1:\\n{B_1}\\n\")\n",
    "print(f\"    B_2:\\n{B_2}\\n\")"
   ]
  },
  {
   "cell_type": "code",
   "execution_count": null,
   "metadata": {},
   "outputs": [],
   "source": [
    "# Horizontal split (Part 2)\n",
    "print(f\"  B:\\n{B}\\n\")\n",
    "print(f\"  Horizontal split INTO sections::\\n\")\n",
    "B_1, B_2, B_3, B_4 = np.hsplit(B,[1,3,5])\n",
    "print(f\"    B_1 [ :1]:\\n{B_1}\\n\")\n",
    "print(f\"    B_2 [1:3]:\\n{B_2}\\n\")\n",
    "print(f\"    B_3 [3:5]:\\n{B_3}\\n\")\n",
    "print(f\"    B_4 [5: ]:\\n{B_4}\\n\")\n",
    "# The same can be done using np.split but requires an\n",
    "# ADDITIONAL argument, i.e. axis=1"
   ]
  },
  {
   "cell_type": "markdown",
   "metadata": {},
   "source": [
    "### Blocks"
   ]
  },
  {
   "cell_type": "markdown",
   "metadata": {},
   "source": [
    "* np.block: assemble an ndarray from nested lists of blocks."
   ]
  },
  {
   "cell_type": "code",
   "execution_count": null,
   "metadata": {},
   "outputs": [],
   "source": [
    "A = np.ones((2,3))\n",
    "B = np.full((2,5), np.e)\n",
    "C = np.full((3,4), np.pi)\n",
    "D = np.ones((3,4))\n",
    "np.set_printoptions(precision=3)\n",
    "print(f\"    Blocks:\\n\")\n",
    "print(f\"      A = np.ones((2,3)) ::\\n{A}\\n\")\n",
    "print(f\"      B = np.full((2,5), np.e) ::\\n{B}\\n\")\n",
    "print(f\"      C = np.full((3,4), np.pi) ::\\n{C}\\n\")\n",
    "print(f\"      D = np.ones((3,4)) ::\\n{D}\\n\")\n",
    "E = np.block([[A,B],[C,D]])\n",
    "print(f\"      E = np.block([[A,B],[C,D]] ::\\n{E}\\n\")"
   ]
  },
  {
   "cell_type": "markdown",
   "metadata": {},
   "source": [
    "## Constants in NumPy"
   ]
  },
  {
   "cell_type": "markdown",
   "metadata": {},
   "source": [
    "NumPy contains a few <font color=\"green\"><b>constants</b></font>:\n",
    "* np.e\n",
    "* np.euler_gamma\n",
    "* np.inf\n",
    "* np.nan\n",
    "* np.newaxis\n",
    "* np.pi"
   ]
  },
  {
   "cell_type": "markdown",
   "metadata": {},
   "source": [
    "### np.inf & np.nan"
   ]
  },
  {
   "cell_type": "markdown",
   "metadata": {},
   "source": [
    "* np.nan and np.inf are of the type <font color=\"green\"><b>float</b></font><br>\n",
    "  Why? NumPy uses the [IEEE 754 Standard for Binary Floating-Point for Arithmetic](https://ieeexplore.ieee.org/document/4610935/)\n",
    "* np.nan (not a number) is **NOT** the same as np.inf\n",
    "* testing for the presence of np.nan and np.inf:\n",
    "  - np.isnan\n",
    "  - np.isfinite, np.isinfinite, np.isneginf, np.isposinf"
   ]
  },
  {
   "cell_type": "markdown",
   "metadata": {},
   "source": [
    "**Example**"
   ]
  },
  {
   "cell_type": "code",
   "execution_count": null,
   "metadata": {},
   "outputs": [],
   "source": [
    "print(f\"  type(np.nan):{type(np.nan)}\")\n",
    "print(f\"  type(np.inf):{type(np.inf)}\")"
   ]
  },
  {
   "cell_type": "code",
   "execution_count": null,
   "metadata": {},
   "outputs": [],
   "source": [
    "# NumPy: Division by zero will generally result in inf\n",
    "x = np.arange(5.0)\n",
    "y = 3.0\n",
    "print(f\"  y/x:{y/x}\")"
   ]
  },
  {
   "cell_type": "code",
   "execution_count": null,
   "metadata": {},
   "outputs": [],
   "source": [
    "# NumPy: np.nan vs. np.inf\n",
    "# Suppress the warnings: https://numpy.org/doc/stable/reference/generated/numpy.seterr.html#numpy.seterr\n",
    "np.seterr(all=\"ignore\")  \n",
    "v = np.array([-1.,0.0,2.0])\n",
    "res = np.log(v)\n",
    "print(f\"  np.log({v}): {res}\")"
   ]
  },
  {
   "cell_type": "code",
   "execution_count": null,
   "metadata": {},
   "outputs": [],
   "source": [
    "# Testing for np.inf & np.nan\n",
    "print(f\"  res:isfinite?  :{np.isfinite(res)}\")\n",
    "print(f\"  res:isinf?     :{np.isinf(res)}\")\n",
    "print(f\"  res:isposinf?  :{np.isposinf(res)}\")\n",
    "print(f\"  res:isneginf?  :{np.isneginf(res)}\")\n",
    "print(f\"  res:isnan?     :{np.isnan(res)}\")"
   ]
  },
  {
   "cell_type": "markdown",
   "metadata": {},
   "source": [
    "### Reducing vectors containing np.nan"
   ]
  },
  {
   "cell_type": "markdown",
   "metadata": {},
   "source": [
    "Reductions on a vector containing np.nan => np.nan (cfr. R)"
   ]
  },
  {
   "cell_type": "code",
   "execution_count": null,
   "metadata": {},
   "outputs": [],
   "source": [
    "# Vector without a np.nan\n",
    "x = np.arange(10)\n",
    "print(f\"  x      : {x}\")\n",
    "print(f\"  x.dtype: '{x.dtype}'\")\n",
    "print(f\"  sum(x) : {np.sum(x)}\")"
   ]
  },
  {
   "cell_type": "code",
   "execution_count": null,
   "metadata": {},
   "outputs": [],
   "source": [
    "# ERR :: np.nan is of type float!!\n",
    "try:\n",
    "    x[5] = np.nan\n",
    "except Exception as err:\n",
    "    print(err)"
   ]
  },
  {
   "cell_type": "code",
   "execution_count": null,
   "metadata": {},
   "outputs": [],
   "source": [
    "# Apply a cast and invoke sum & prod functions\n",
    "x = x.astype(dtype='float64')\n",
    "print(f\"  x:{x}\")\n",
    "print(f\"  x.dtype:{x.dtype}\")\n",
    "print(f\"  sum(x) : {np.sum(x)}\")\n",
    "print(f\"  mean(x): {np.mean(x)}\\n\")\n",
    "x[5] = np.nan\n",
    "print(f\"  sum(x) : {np.sum(x)}\")\n",
    "print(f\"  mean(x): {np.mean(x)}\")"
   ]
  },
  {
   "cell_type": "markdown",
   "metadata": {},
   "source": [
    "### Reducing vectors while ignoring np.nan "
   ]
  },
  {
   "cell_type": "markdown",
   "metadata": {},
   "source": [
    "NumPy contains functions that skip/'ignore' the np.nan elements:\n",
    "* np.sum -> np.nansum\n",
    "* np.cumsum -> np.nancumsum\n",
    "* np.prod -> np.nanprod\n",
    "* np.mean -> np.nanmean\n",
    "* ...\n",
    "  \n",
    "More & more functions are added over time."
   ]
  },
  {
   "cell_type": "code",
   "execution_count": null,
   "metadata": {},
   "outputs": [],
   "source": [
    "print(f\"  x:\\n{x}\")\n",
    "print(f\"  np.nansum(x)  :{np.nansum(x)}\")\n",
    "print(f\"  np.nanprod(x) :{np.nanprod(x)}\")\n",
    "print(f\"  np.nanmean(x) :{np.nanmean(x)}\")"
   ]
  },
  {
   "cell_type": "markdown",
   "metadata": {},
   "source": [
    "## Exercises"
   ]
  },
  {
   "cell_type": "markdown",
   "metadata": {},
   "source": [
    "* Use a mask/boolean vector to calculate the sum & product of the following vector:<br>\n",
    "  x:[ 1.  2. nan  4.  5.  6.  7. nan  9.] <br>\n",
    "  without invoking neither np.nansum nor np.nanprod "
   ]
  },
  {
   "cell_type": "markdown",
   "metadata": {},
   "source": [
    "## Solutions"
   ]
  },
  {
   "cell_type": "code",
   "execution_count": null,
   "metadata": {},
   "outputs": [],
   "source": [
    "# %load ../solutions/ex7.py"
   ]
  }
 ],
 "metadata": {
  "kernelspec": {
   "display_name": "Python 3 (ipykernel)",
   "language": "python",
   "name": "python3"
  },
  "language_info": {
   "codemirror_mode": {
    "name": "ipython",
    "version": 3
   },
   "file_extension": ".py",
   "mimetype": "text/x-python",
   "name": "python",
   "nbconvert_exporter": "python",
   "pygments_lexer": "ipython3",
   "version": "3.12.5"
  },
  "latex_envs": {
   "LaTeX_envs_menu_present": true,
   "autoclose": false,
   "autocomplete": true,
   "bibliofile": "biblio.bib",
   "cite_by": "apalike",
   "current_citInitial": 1,
   "eqLabelWithNumbers": true,
   "eqNumInitial": 1,
   "hotkeys": {
    "equation": "Ctrl-E",
    "itemize": "Ctrl-I"
   },
   "labels_anchors": false,
   "latex_user_defs": false,
   "report_style_numbering": false,
   "user_envs_cfg": false
  },
  "toc": {
   "base_numbering": 1,
   "nav_menu": {},
   "number_sections": true,
   "sideBar": true,
   "skip_h1_title": false,
   "title_cell": "Table of Contents",
   "title_sidebar": "Contents",
   "toc_cell": false,
   "toc_position": {},
   "toc_section_display": true,
   "toc_window_display": false
  }
 },
 "nbformat": 4,
 "nbformat_minor": 4
}
