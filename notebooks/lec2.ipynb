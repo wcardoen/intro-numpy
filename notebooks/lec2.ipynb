{
 "cells": [
  {
   "cell_type": "markdown",
   "metadata": {},
   "source": [
    "# Lecture 2"
   ]
  },
  {
   "cell_type": "code",
   "execution_count": null,
   "metadata": {},
   "outputs": [],
   "source": [
    "%run set_env.py\n",
    "%matplotlib inline"
   ]
  },
  {
   "cell_type": "markdown",
   "metadata": {},
   "source": [
    "## Array attributes"
   ]
  },
  {
   "cell_type": "markdown",
   "metadata": {},
   "source": [
    "<font color=\"green\"><b>ndarray</b></font> is the NumPy base/super class.<br>\n",
    "The ndarray class has several fields/methods.<br>\n",
    "Among them:\n",
    "* dtype: type of the (homogeneous) elements\n",
    "* ndim : dimensionality (#axes) of the array\n",
    "* shape: dimensions of the array (<font color=\"green\"><b>tuple of ints</b></font>)\n",
    "* size : #elements in the array\n",
    "* itemsize: memory occupied by 1 element\n",
    "* nbytes  : total #bytes consumed by the el. of the array\n",
    "* strides : strides of data in memory\n",
    "* flags   : <b>dictionary</b> containing info on memory use.\n",
    "* T       : transpose of the ndarray"
   ]
  },
  {
   "cell_type": "code",
   "execution_count": null,
   "metadata": {},
   "outputs": [],
   "source": [
    "# arange(20) -> Linux x86_64: 'int64'\n",
    "a=np.arange(20).reshape(4,5)\n",
    "print(f\"a := np.arange(20).reshape((4,5)) :\\n{a}\\n\")\n",
    "print(f\"  type(a) :'{type(a)}'\")\n",
    "print(f\"  a.dtype:'{a.dtype}'\")\n",
    "print(f\"  a.ndim:'{a.ndim}'\")\n",
    "print(f\"  a.shape:'{a.shape}'\")\n",
    "print(f\"  a.size:'{a.size}'\")\n",
    "print(f\"  a.itemsize:'{a.itemsize}'\")\n",
    "print(f\"  a.nbytes:'{a.nbytes}'\")\n",
    "print(f\"  a.strides:'{a.strides}'\\n\")\n",
    "print(f\"  a.real   :\\n{a.real}\\n\")\n",
    "print(f\"  a.imag   :\\n{a.imag}\\n\")\n",
    "print(f\"  a.flags:\\n{a.flags}\")\n",
    "print(f\"  a.T:\\n{a.T}\")"
   ]
  },
  {
   "cell_type": "markdown",
   "metadata": {},
   "source": [
    "<b>Notice</b> the fundamental difference!"
   ]
  },
  {
   "cell_type": "code",
   "execution_count": null,
   "metadata": {},
   "outputs": [],
   "source": [
    "a = np.arange(20).reshape(4,5)\n",
    "b = np.arange(20.).reshape(4,5)\n",
    "\n",
    "print(f\"a := np.arange(20).reshape((4,5)) :\\n{a}\\n\")\n",
    "print(f\"b :=b np.arange(20.).reshape((4,5)) :\\n{b}\\n\")\n",
    "print(f\"  type(a) :'{type(a)}'\")\n",
    "print(f\"  type(b) :'{type(b)}'\")"
   ]
  },
  {
   "cell_type": "code",
   "execution_count": null,
   "metadata": {},
   "outputs": [],
   "source": [
    "print(f\"  a.ndim:'{a.ndim}'\")\n",
    "print(f\"  b.ndim:'{b.ndim}'\")\n",
    "print(f\"  a.shape:'{a.shape}'\")\n",
    "print(f\"  b.shape:'{b.shape}'\")\n",
    "print(f\"  a.size:'{a.size}'\")\n",
    "print(f\"  b.size:'{b.size}'\")\n",
    "print(f\"  a.dtype:'{a.dtype}'\")\n",
    "print(f\"  b.dtype:'{b.dtype}'\")\n",
    "print(f\"  a.itemsize:'{a.itemsize}'\")\n",
    "print(f\"  b.itemsize:'{b.itemsize}'\")\n",
    "print(f\"  a.nbytes:'{a.nbytes}'\")\n",
    "print(f\"  b.nbytes:'{b.nbytes}'\")"
   ]
  },
  {
   "cell_type": "markdown",
   "metadata": {},
   "source": [
    "## Create specific arrays (types & content)"
   ]
  },
  {
   "cell_type": "markdown",
   "metadata": {},
   "source": [
    "### Data Types"
   ]
  },
  {
   "cell_type": "markdown",
   "metadata": {},
   "source": [
    "Numpy support several <font color=\"green\"><b>native data types</b></font> e.g.:\n",
    "* bool\n",
    "* [u]int8, [u]int16/[u]short, [u]int32, [u]int64/[u]long\n",
    "* float16/half, float32/single, float64/double, float128/longdouble\n",
    "* complex64/csingle, complex128/cdouble, complex256/clongdouble\n",
    "* datetime64, timedelta64, object, str\n",
    "\n",
    "More info: <br>[https://numpy.org/doc/stable/reference/arrays.dtypes.html#arrays-dtypes](https://numpy.org/doc/stable/reference/arrays.dtypes.html#arrays-dtypes)"
   ]
  },
  {
   "cell_type": "code",
   "execution_count": null,
   "metadata": {},
   "outputs": [],
   "source": [
    "# Create arrays of a certain data type\n",
    "i1=np.arange(10,dtype=np.int32)\n",
    "print(f\"i1 := np.arange(10,dtype='int32'):\\n  {i1}\")\n",
    "print(f\"  i1.dtype:'{i1.dtype}'\")\n",
    "print(f\"  i1.size :'{i1.size}'\")\n",
    "print(f\"  i1.itemsize:'{i1.itemsize}'\")\n",
    "print(f\"  i1.nbytes:'{i1.nbytes}'\")\n",
    "\n",
    "z1=np.arange(10,dtype='complex128')\n",
    "print(f\"\\nz1 := np.arange(10,dtype='complex128'):\\n  {z1}\\n\")\n",
    "print(f\"  z1.dtype:'{z1.dtype}'\")\n",
    "print(f\"  z1.size :'{z1.size}'\")\n",
    "print(f\"  z1.itemsize:'{z1.itemsize}'\")\n",
    "print(f\"  z1.nbytes:'{z1.nbytes}'\")"
   ]
  },
  {
   "cell_type": "markdown",
   "metadata": {},
   "source": [
    "#### Conversion/cast of data types"
   ]
  },
  {
   "cell_type": "markdown",
   "metadata": {},
   "source": [
    "To perform a data type conversion (<font color=\"green\"><b>cast</b></font>) into a different data type:<br>\n",
    "numpy.astype(dtype) : convert array to type dtype"
   ]
  },
  {
   "cell_type": "code",
   "execution_count": null,
   "metadata": {},
   "outputs": [],
   "source": [
    "# Change dtype of an array \n",
    "f1 = np.array([1.0,2.5,3.0,7.2])\n",
    "print(f\"\\nf1 := np.array([1.0,2.5,3.0,7.2]):\\n    {f1}\")\n",
    "i3 = f1.astype('complex128')\n",
    "print(f\"  i3 := f1.astype(dtype='complex128'):\\n    {i3}\\n\")\n",
    "print(f\"  i3.dtype:'{i3.dtype}'\")\n",
    "print(f\"  i3.size :'{i3.size}'\")\n",
    "print(f\"  i3.itemsize:'{i3.itemsize}'\")\n",
    "print(f\"  i3.nbytes:'{i3.nbytes}'\")"
   ]
  },
  {
   "cell_type": "markdown",
   "metadata": {},
   "source": [
    "#### Native data types in NumPy"
   ]
  },
  {
   "cell_type": "code",
   "execution_count": null,
   "metadata": {},
   "outputs": [],
   "source": [
    "# Native scalar data types in numpy:\n",
    "d = np.sctypeDict\n",
    "for i, key in enumerate(d):\n",
    "    print(f\"  key:{key}  value:{d[key]}\")\n",
    "    if i==20: break"
   ]
  },
  {
   "cell_type": "markdown",
   "metadata": {},
   "source": [
    "#### Machine limits of some fundamental data types"
   ]
  },
  {
   "cell_type": "markdown",
   "metadata": {},
   "source": [
    "* np.finfo: machine limits for floating point types.\n",
    "* np.iinfo: machine limits for integer types."
   ]
  },
  {
   "cell_type": "code",
   "execution_count": null,
   "metadata": {},
   "outputs": [],
   "source": [
    "# Float64\n",
    "print(np.finfo(np.float64))\n",
    "# Int32\n",
    "print(np.iinfo(np.int32))"
   ]
  },
  {
   "cell_type": "markdown",
   "metadata": {},
   "source": [
    "#### Compound data types in NumPy"
   ]
  },
  {
   "cell_type": "markdown",
   "metadata": {},
   "source": [
    "The class <font color=\"green\"><b>np.dtype</b></font> allows one to create compound data types \n",
    "(<font color=\"green\"><b>structured arrays</b></font> cfr. C structs).<br>\n",
    "For more info:<br>\n",
    "[https://numpy.org/doc/stable/user/basics.rec.html](https://numpy.org/doc/stable/user/basics.rec.html)"
   ]
  },
  {
   "cell_type": "markdown",
   "metadata": {},
   "source": [
    "### Particular forms of ndarray"
   ]
  },
  {
   "cell_type": "markdown",
   "metadata": {},
   "source": [
    "Numpy has specific <font><b>initialization</b></font> functions<br> \n",
    "A few of the most important ones:\n",
    "* diag(v,k=0)                            \n",
    "  + either **extracts** the diagonal (if the matrix exists)\n",
    "  + or **constructs** a diagonal array. \n",
    "* empty(shape,dtype='float64',order='C') \n",
    "  + returns a new array <b>without</b> initializing its entries (i.e. mem. allocation)\n",
    "* full(shape,value,dtype='float64',order='C')\n",
    "  + returns a new array <b>initializing</b> its entries to <i>value</i>.\n",
    "* eye(N,M=None,k=0,dtype='float64')      \n",
    "  + returns a 2-D array with ones on the 'diagonal' and zeros elsewhere\n",
    "* fromfunction(myfunc,shape,dtype)                          \n",
    "  + returns a new array based on a function\n",
    "* identity(n,dtype='float64')            \n",
    "  + returns the $n$ x $n$ identity matrix\n",
    "* ones(shape,dtype='float64',order='C')  \n",
    "  + returns a new array completely filled with 1s \n",
    "* zeros(shape,dtype='float64',order='C') \n",
    "  + returns a new array completely filled with 0s\n",
    "  "
   ]
  },
  {
   "cell_type": "code",
   "execution_count": null,
   "metadata": {},
   "outputs": [],
   "source": [
    "# Diag function\n",
    "a1 = np.array([i for i in range(20)]).reshape(4,5)\n",
    "print(f\"  a1:\\n{a1}\")\n",
    "\n",
    "# Extract the diagonal\n",
    "print(f\"  \\n np.diag(a1):\\n{np.diag(a1)}\")\n",
    "\n",
    "# Extract a SHIFTED diagonal\n",
    "print(f\"  \\n np.diag(a1,k=1):\\n{np.diag(a1,k=1)}\")\n",
    "\n",
    "# Create a diagonal matrix\n",
    "print(f\"  \\n np.diag(range(4)):\\n{np.diag(range(4))}\")\n",
    "\n",
    "# Create a SHIFTED diagonal matrix\n",
    "print(f\"  \\n np.diag(range(4),k=1):\\n{np.diag(range(4),k=1)}\")"
   ]
  },
  {
   "cell_type": "code",
   "execution_count": null,
   "metadata": {},
   "outputs": [],
   "source": [
    "# Memory allocation\n",
    "a2=np.empty((2,3))\n",
    "print(f\"a2=np.empty((2,3)) :\\n{a2}\\n\")\n",
    "\n",
    "# Create ones on the diagonal\n",
    "a3=np.eye(5,4,k=1,dtype='float64')\n",
    "print(f\"a3=np.eye(5,4,k=1,dtype='float64') :\\n{a3}\\n\")\n",
    "\n",
    "# Use a function (index based) to generate entries\n",
    "a4=np.fromfunction(lambda x,y: x+2*y,(2,5),dtype='float64')\n",
    "print(f\"a4=np.fromfunction(lambda x,y: x+2*y,(2,5),dtype='float64') :\\n{a4}\\n\")\n",
    "\n",
    "# Return a SQUARE identity matrix\n",
    "a5=np.identity(5,dtype='int64')\n",
    "print(f\"a5=np.identity(5,dtype='int64') :\\n{a5}\\n\")\n",
    "\n",
    "a6=np.ones((2,7),dtype='int64')\n",
    "print(f\"a6=np.ones((2,7),dtype='int64') :\\n{a6}\\n\")\n",
    "\n",
    "a7=np.zeros((3,4),dtype='complex128')\n",
    "print(f\"a7=np.zeros((3,4),dtype='complex128') :\\n{a7}\\n\")\n",
    "\n",
    "a8=np.full((3,5), np.pi)\n",
    "print(f\"a8=np.full((3,5), np.pi):\\n{a8}\\n\")"
   ]
  },
  {
   "cell_type": "markdown",
   "metadata": {},
   "source": [
    "### Random initializations of ndarrays"
   ]
  },
  {
   "cell_type": "markdown",
   "metadata": {},
   "source": [
    "You can populate an ndarray with random numbers<br>\n",
    "- The default (pseudo) random number generator (PRNG) in NumPy is based on<br> the **Permuted Congruential Generator (64-bit) - (PCG64)**<br>\n",
    "  https://en.wikipedia.org/wiki/Permuted_congruential_generator <br>\n",
    "  **PCG64** replaces the **Mersenne twister** (still available)\n",
    "\n",
    "- Some common distributions:\n",
    "  * <font color=\"green\"><b>random</b></font>(sz=None, dtype=np.float64, out=None): <br>\n",
    "    Samples floats from the **uniform distribution** $[0,1)$.\n",
    "  * <font color=\"green\"><b>integers</b></font>(low, high=None, size=None, dtype=np.int64, endpoint=False):<br>\n",
    "    Return random **integers** from low (inclusive) to high (exclusive).\n",
    "  * <font color=\"green\"><b>choice</b></font>(a, size=None, replace=True, p=None):<br>\n",
    "    generates a random sample from a given $1D$-array.\n",
    "  * <font color=\"green\"><b>normal</b></font>(loc=0.0, scale=1.0, size=None):<br>\n",
    "    draws random samples from the **normal distribution**. "
   ]
  },
  {
   "cell_type": "code",
   "execution_count": null,
   "metadata": {},
   "outputs": [],
   "source": [
    "import numpy.random as rnd\n",
    "rng = rnd.default_rng()\n",
    "print(f\"Random Generator:{rng}\\n\")\n",
    "\n",
    "a = rng.random((4,5))\n",
    "print(f\" a:\\n{a}\\n\")\n",
    "      \n",
    "b = rng.integers(5,15,(4,6))   \n",
    "print(f\" b:\\n{b}\\n\")\n",
    "\n",
    "c = rng.choice([\"a\",\"b\",\"c\", \"w\",\"x\"],(7,2))\n",
    "print(f\" c:\\n{c}\\n\")\n",
    "\n",
    "d = rng.normal(loc=-2.0, scale=0.5,size=(1000000))\n",
    "plt.title(r\"Sampling from $N(\\mu=-2.0;\\sigma=0.5)$\")\n",
    "plt.hist(d, bins=75);"
   ]
  },
  {
   "cell_type": "markdown",
   "metadata": {},
   "source": [
    "More details w.r.t PNRGs and statistical distributions are to be found at the end of [Lecture 8](./lec8.ipynb)."
   ]
  },
  {
   "cell_type": "markdown",
   "metadata": {},
   "source": [
    "## Exercises"
   ]
  },
  {
   "cell_type": "markdown",
   "metadata": {},
   "source": [
    "* Create a 5x5 matrix with the following (staggered) entries:<br>\n",
    "  $ \n",
    "  \\begin{equation*}\n",
    "     a = \n",
    "    \\begin{pmatrix}\n",
    "     0 & 1 & 2 & 3 & 4 \\\\\n",
    "     1 & 2 & 3 & 4 & 5 \\\\\n",
    "     2 & 3 & 4 & 5 & 6 \\\\\n",
    "     3 & 4 & 5 & 6 & 7 \\\\\n",
    "     4 & 5 & 6 & 7 & 8\n",
    "    \\end{pmatrix}\n",
    "    \\end{equation*}\n",
    "  $  \n",
    "   \n",
    "       (Hint: use the np.fromfunction) \n",
    "       \n",
    "* Create a 6x6 'tridiagonal' matrix (see https://en.wikipedia.org/wiki/Tridiagonal_matrix)<br>\n",
    "  where:\n",
    "  * the 'tridiagonal' elements are True and \n",
    "  * the 'non-tridiagonal' elements are False<br>\n",
    "  Boolean matrices are <font color=\"green\"><b>key components</b></font> for fancy indexing (see later)<br>\n",
    "  (<b>Hint</b>: 0:False & non-zero:True)"
   ]
  },
  {
   "cell_type": "markdown",
   "metadata": {},
   "source": [
    "## Solutions"
   ]
  },
  {
   "cell_type": "code",
   "execution_count": null,
   "metadata": {},
   "outputs": [],
   "source": [
    "# %load ../solutions/ex2.py"
   ]
  },
  {
   "cell_type": "markdown",
   "metadata": {},
   "source": [
    "## Addendum"
   ]
  },
  {
   "cell_type": "markdown",
   "metadata": {},
   "source": [
    "#### np.empty_like(), np.zeros_like(), np.ones_like() functions:"
   ]
  },
  {
   "cell_type": "markdown",
   "metadata": {},
   "source": [
    "Numpy allows one to create empty, zeros, ones ndarrays <br>\n",
    "with the <b><font color=\"green\">SAME</font></b> shape as an existing ndarrays.<br>\n",
    "(Syntax: y = np.zeros_like(x), etc.)\n",
    "  * np.empty_like()\n",
    "  * np.full_like()\n",
    "  * np.zeros_like()\n",
    "  * np.ones_like()"
   ]
  },
  {
   "cell_type": "code",
   "execution_count": null,
   "metadata": {},
   "outputs": [],
   "source": [
    "np.set_printoptions(precision=4)\n",
    "a = rng.random((4,6))\n",
    "print(f\" a:\\n{a}\")\n",
    "b = np.zeros_like(a,dtype='int32')\n",
    "print(f\" b:\\n{b}\")"
   ]
  }
 ],
 "metadata": {
  "kernelspec": {
   "display_name": "Python 3 (ipykernel)",
   "language": "python",
   "name": "python3"
  },
  "language_info": {
   "codemirror_mode": {
    "name": "ipython",
    "version": 3
   },
   "file_extension": ".py",
   "mimetype": "text/x-python",
   "name": "python",
   "nbconvert_exporter": "python",
   "pygments_lexer": "ipython3",
   "version": "3.12.4"
  }
 },
 "nbformat": 4,
 "nbformat_minor": 4
}
