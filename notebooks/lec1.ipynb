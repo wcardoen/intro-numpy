{
 "cells": [
  {
   "cell_type": "markdown",
   "metadata": {},
   "source": [
    "# Lecture 1"
   ]
  },
  {
   "cell_type": "code",
   "execution_count": 1,
   "metadata": {},
   "outputs": [
    {
     "name": "stdout",
     "output_type": "stream",
     "text": [
      "Check versions:\n",
      "  numpy version     :'1.20.1'\n",
      "  matplotlib version:'3.3.4'\n"
     ]
    }
   ],
   "source": [
    "%run set_env.py\n",
    "%matplotlib inline"
   ]
  },
  {
   "cell_type": "markdown",
   "metadata": {},
   "source": [
    "## Creation of arrays"
   ]
  },
  {
   "cell_type": "markdown",
   "metadata": {},
   "source": [
    "### 1D array:"
   ]
  },
  {
   "cell_type": "markdown",
   "metadata": {},
   "source": [
    "There are several options to create a 1D numpy arrays.<br>\n",
    "Among them, the most frequently used are:\n",
    "* numpy.array() : create an numpy array from a python <b><font color=\"green\">array-like</font></b> object\n",
    "* numpy.arange({start], stop[, step], dtype=None) : return evenly spaced values with given interval\n",
    "* numpy.linspace(start, stop, num=50, endpoint=True) : return evenly spaced numbers over a specified interval."
   ]
  },
  {
   "cell_type": "code",
   "execution_count": 2,
   "metadata": {},
   "outputs": [
    {
     "name": "stdout",
     "output_type": "stream",
     "text": [
      "a := np.array([1,3,5,10]):\n",
      "[ 1  3  5 10]\n",
      "\n",
      "b := np.array(range(10)):\n",
      "[2 5 8]\n",
      "\n"
     ]
    }
   ],
   "source": [
    "# np.array\n",
    "a=np.array([1,3,5,10])\n",
    "print(f\"a := np.array([1,3,5,10]):\\n{a}\\n\")\n",
    "\n",
    "b=np.array(range(2,10,3)) \n",
    "print(f\"b := np.array(range(10)):\\n{b}\\n\")"
   ]
  },
  {
   "cell_type": "code",
   "execution_count": 3,
   "metadata": {},
   "outputs": [
    {
     "name": "stdout",
     "output_type": "stream",
     "text": [
      "a := np.arange(10):\n",
      "[0 1 2 3 4 5 6 7 8 9]\n",
      "\n",
      "b := np.arange(0.,1.0,0.1):\n",
      "[0.  0.1 0.2 0.3 0.4 0.5 0.6 0.7 0.8 0.9]\n",
      "\n"
     ]
    }
   ],
   "source": [
    "# np.arange (MORE GENERAL than its Python Counterpart -> Why?)\n",
    "a=np.arange(10)\n",
    "print(f\"a := np.arange(10):\\n{a}\\n\")\n",
    "\n",
    "b=np.arange(0.,1.0,0.1)  \n",
    "print(f\"b := np.arange(0.,1.0,0.1):\\n{b}\\n\")"
   ]
  },
  {
   "cell_type": "code",
   "execution_count": 4,
   "metadata": {},
   "outputs": [
    {
     "name": "stdout",
     "output_type": "stream",
     "text": [
      "a := np.linspace(0,1,11):\n",
      "[0.  0.1 0.2 0.3 0.4 0.5 0.6 0.7 0.8 0.9 1. ]\n",
      "\n",
      "b := np.linspace(0,1,10,endpoint=False):\n",
      "[0.  0.1 0.2 0.3 0.4 0.5 0.6 0.7 0.8 0.9]\n",
      "\n"
     ]
    }
   ],
   "source": [
    "# [0,1] with equidistant intervals \n",
    "#  #Intervals: (b-a)/dx\n",
    "a=np.linspace(0,1,11)   \n",
    "print(f\"a := np.linspace(0,1,11):\\n{a}\\n\")\n",
    "\n",
    "# [0,1[ with equidistant intervals\n",
    "b=np.linspace(0,1,10,endpoint=False) \n",
    "print(f\"b := np.linspace(0,1,10,endpoint=False):\\n{b}\\n\")"
   ]
  },
  {
   "cell_type": "markdown",
   "metadata": {},
   "source": [
    "<b>Note:</b>\n",
    "* The *np.logspace* function returns numbers spaced evenly on a log scale (default base:10)\n"
   ]
  },
  {
   "cell_type": "markdown",
   "metadata": {},
   "source": [
    "### Multi dimensional arrays:"
   ]
  },
  {
   "cell_type": "markdown",
   "metadata": {},
   "source": [
    "There several (general) ways to create a N$D$ numpy array.<br>\n",
    "Among them:<br>\n",
    "* numpy.array: create an numpy array from a python array-like object (as in the $1D$ case)\n",
    "* numpy.reshape(a,newshape[,order]) : gives a new <b><font color=\"green\">shape</font></b> (dimensionality) to an array without changing its data\n",
    "  * newshape: tuple\n",
    "  * order: 'F', 'C'\n",
    "    * 'C': C-order => row-order <font color=\"green\"><b>(Default)</b></font>\n",
    "    * 'F': Fortran-order => column-order\n",
    "* numpy.meshgrid : returns coordinate matrices from two or more $1D$ coordinate vectors\n",
    "\n",
    "We can convert a N$D$ array into a 1$D$ array as follows:\n",
    "* numpy.reshape\n",
    "* numpy.flatten(order='C') : return a <b>copy</b> of a flattened array\n",
    "* numpy.ravel(a,order='C') : return a $1D$ array"
   ]
  },
  {
   "cell_type": "code",
   "execution_count": 5,
   "metadata": {},
   "outputs": [
    {
     "name": "stdout",
     "output_type": "stream",
     "text": [
      "a := np.array([[1,2,3,4],[5,6,7,8],[9,10,11,12]]) :\n",
      "[[ 1  2  3  4]\n",
      " [ 5  6  7  8]\n",
      " [ 9 10 11 12]]\n",
      "\n",
      "b := np.arange(1,13).reshape(3,4) :\n",
      "[[ 1  2  3  4]\n",
      " [ 5  6  7  8]\n",
      " [ 9 10 11 12]]\n",
      "\n"
     ]
    }
   ],
   "source": [
    "# Numpy-array from 2D List\n",
    "a=np.array([[1,2,3,4],[5,6,7,8],[9,10,11,12]])\n",
    "print(f\"a := np.array([[1,2,3,4],[5,6,7,8],[9,10,11,12]]) :\\n{a}\\n\")\n",
    "\n",
    "# Reshape\n",
    "b=np.arange(1,13).reshape(3,4)\n",
    "print(f\"b := np.arange(1,13).reshape(3,4) :\\n{b}\\n\")"
   ]
  },
  {
   "cell_type": "code",
   "execution_count": 6,
   "metadata": {},
   "outputs": [
    {
     "name": "stdout",
     "output_type": "stream",
     "text": [
      "a := np.array([[1,2,3],[4,5,6]]) :\n",
      "[[1 2 3]\n",
      " [4 5 6]]\n",
      "\n",
      "b1:= np.reshape(a,(1,6)) :\n",
      "[[1 2 3 4 5 6]]\n",
      "\n",
      "b2:= np.reshape(a,(1,6),order='F') :\n",
      "[[1 4 2 5 3 6]]\n",
      "\n"
     ]
    }
   ],
   "source": [
    "a=np.array([[1,2,3],[4,5,6]])\n",
    "print(f\"a := np.array([[1,2,3],[4,5,6]]) :\\n{a}\\n\")\n",
    "\n",
    "# Row-order (C)\n",
    "b1=np.reshape(a,(1,6))\n",
    "print(f\"b1:= np.reshape(a,(1,6)) :\\n{b1}\\n\")\n",
    "\n",
    "# Column-order Fortran\n",
    "b2=np.reshape(a,(1,6),order='F')\n",
    "print(f\"b2:= np.reshape(a,(1,6),order='F') :\\n{b2}\\n\")"
   ]
  },
  {
   "cell_type": "code",
   "execution_count": 7,
   "metadata": {},
   "outputs": [
    {
     "name": "stdout",
     "output_type": "stream",
     "text": [
      " BEFORE Invoking the Meshgrid function:\n",
      "   X := dim:(64,):\n",
      "[-8.   -7.75 -7.5  -7.25 -7.   -6.75 -6.5  -6.25 -6.   -5.75 -5.5  -5.25\n",
      " -5.   -4.75 -4.5  -4.25 -4.   -3.75 -3.5  -3.25 -3.   -2.75 -2.5  -2.25\n",
      " -2.   -1.75 -1.5  -1.25 -1.   -0.75 -0.5  -0.25  0.    0.25  0.5   0.75\n",
      "  1.    1.25  1.5   1.75  2.    2.25  2.5   2.75  3.    3.25  3.5   3.75\n",
      "  4.    4.25  4.5   4.75  5.    5.25  5.5   5.75  6.    6.25  6.5   6.75\n",
      "  7.    7.25  7.5   7.75]\n",
      "\n",
      "   Y := dim:(64,):\n",
      "[-8.   -7.75 -7.5  -7.25 -7.   -6.75 -6.5  -6.25 -6.   -5.75 -5.5  -5.25\n",
      " -5.   -4.75 -4.5  -4.25 -4.   -3.75 -3.5  -3.25 -3.   -2.75 -2.5  -2.25\n",
      " -2.   -1.75 -1.5  -1.25 -1.   -0.75 -0.5  -0.25  0.    0.25  0.5   0.75\n",
      "  1.    1.25  1.5   1.75  2.    2.25  2.5   2.75  3.    3.25  3.5   3.75\n",
      "  4.    4.25  4.5   4.75  5.    5.25  5.5   5.75  6.    6.25  6.5   6.75\n",
      "  7.    7.25  7.5   7.75]\n",
      "\n",
      " AFTER Invoking the Meshgrid function:\n",
      "   X := dim:(64, 64):\n",
      "[[-8.   -7.75 -7.5  ...  7.25  7.5   7.75]\n",
      " [-8.   -7.75 -7.5  ...  7.25  7.5   7.75]\n",
      " [-8.   -7.75 -7.5  ...  7.25  7.5   7.75]\n",
      " ...\n",
      " [-8.   -7.75 -7.5  ...  7.25  7.5   7.75]\n",
      " [-8.   -7.75 -7.5  ...  7.25  7.5   7.75]\n",
      " [-8.   -7.75 -7.5  ...  7.25  7.5   7.75]]\n",
      "\n",
      "   Y := dim:(64, 64):\n",
      "[[-8.   -8.   -8.   ... -8.   -8.   -8.  ]\n",
      " [-7.75 -7.75 -7.75 ... -7.75 -7.75 -7.75]\n",
      " [-7.5  -7.5  -7.5  ... -7.5  -7.5  -7.5 ]\n",
      " ...\n",
      " [ 7.25  7.25  7.25 ...  7.25  7.25  7.25]\n",
      " [ 7.5   7.5   7.5  ...  7.5   7.5   7.5 ]\n",
      " [ 7.75  7.75  7.75 ...  7.75  7.75  7.75]]\n",
      "\n"
     ]
    },
    {
     "data": {
      "image/png": "[encoded data removed]",
      "text/plain": [
       "<Figure size 432x288 with 1 Axes>"
      ]
     },
     "metadata": {
      "needs_background": "light"
     },
     "output_type": "display_data"
    }
   ],
   "source": [
    "# Meshgrid -> perfect to make grids for plots\n",
    "X=np.arange(-8,8, 0.25)\n",
    "Y=np.arange(-8,8, 0.25)\n",
    "\n",
    "print(f\" BEFORE Invoking the Meshgrid function:\")\n",
    "print(f\"   X := dim:{X.shape}:\\n{X}\\n\".format(X.shape,X))\n",
    "print(f\"   Y := dim:{Y.shape}:\\n{Y}\\n\".format(Y.shape,Y))\n",
    "\n",
    "EPS=1.0E-4\n",
    "X,Y=np.meshgrid(X,Y)\n",
    "print(f\" AFTER Invoking the Meshgrid function:\")\n",
    "print(f\"   X := dim:{X.shape}:\\n{X}\\n\")\n",
    "print(f\"   Y := dim:{Y.shape}:\\n{Y}\\n\")\n",
    "r = np.sqrt(X**2 + Y**2) + EPS\n",
    "Z = np.sin(r)/r\n",
    "\n",
    "# Matplot lib example\n",
    "from mpl_toolkits.mplot3d import Axes3D\n",
    "from matplotlib import cm\n",
    "from matplotlib.ticker import LinearLocator, FormatStrFormatter\n",
    "import matplotlib.pyplot as plt\n",
    "import numpy as np\n",
    "\n",
    "fig = plt.figure()\n",
    "ax = fig.gca(projection='3d')\n",
    "surf = ax.plot_surface(X, Y, Z, rstride=1, cstride=1,cmap=plt.cm.get_cmap('RdBu'),\n",
    "        linewidth=0, antialiased=False)\n",
    "ax.set_zlim(-0.1, 1.00)\n",
    "ax.set_title(\"Mexican Hat Style Plot\")\n",
    "\n",
    "ax.zaxis.set_major_locator(LinearLocator(10))\n",
    "ax.zaxis.set_major_formatter(FormatStrFormatter('%.02f'))"
   ]
  },
  {
   "cell_type": "code",
   "execution_count": 8,
   "metadata": {},
   "outputs": [
    {
     "name": "stdout",
     "output_type": "stream",
     "text": [
      "a := np.arange(30).reshape((2,3,5)) :\n",
      "[[[ 0  1  2  3  4]\n",
      "  [ 5  6  7  8  9]\n",
      "  [10 11 12 13 14]]\n",
      "\n",
      " [[15 16 17 18 19]\n",
      "  [20 21 22 23 24]\n",
      "  [25 26 27 28 29]]]\n",
      "\n",
      "b1 := np.ravel(a,order='C') :\n",
      "[ 0  1  2  3  4  5  6  7  8  9 10 11 12 13 14 15 16 17 18 19 20 21 22 23\n",
      " 24 25 26 27 28 29]\n",
      "\n",
      "b2 := np.ravel(a,order='F') :\n",
      "[ 0 15  5 20 10 25  1 16  6 21 11 26  2 17  7 22 12 27  3 18  8 23 13 28\n",
      "  4 19  9 24 14 29]\n",
      "\n",
      "b3 := np.flatten(a,order='F') :\n",
      "[ 0 15  5 20 10 25  1 16  6 21 11 26  2 17  7 22 12 27  3 18  8 23 13 28\n",
      "  4 19  9 24 14 29]\n",
      "\n"
     ]
    }
   ],
   "source": [
    "# Flatten multi-dimensional array\n",
    "a=np.arange(30).reshape((2,3,5))\n",
    "print(f\"a := np.arange(30).reshape((2,3,5)) :\\n{a}\\n\")\n",
    "\n",
    "b1=a.ravel(order='C')\n",
    "print(f\"b1 := np.ravel(a,order='C') :\\n{b1}\\n\")\n",
    "\n",
    "b2=a.ravel(order='F')\n",
    "print(f\"b2 := np.ravel(a,order='F') :\\n{b2}\\n\")\n",
    "\n",
    "b3=a.flatten(order='F')\n",
    "print(f\"b3 := np.flatten(a,order='F') :\\n{b3}\\n\")"
   ]
  },
  {
   "cell_type": "markdown",
   "metadata": {},
   "source": [
    "### Exercises:"
   ]
  },
  {
   "cell_type": "markdown",
   "metadata": {},
   "source": [
    "* Create a $1D$ numpy array containing the following entries :<br>\n",
    "  [2 4  8 16 32 64 128 256 512 1024]\n",
    "  \n",
    "* Create a numpy array (using <b><font color=\"red\">only</font></b> regular python & the np.array construct) which <br>\n",
    "  generates the same numbers/numpy vector as the function call:<br>\n",
    "  <font color=\"green\"><b>x = np.logspace(start=2, stop=3, num=5, base=10)</b></font><br> \n",
    "   i.e.:<br>\n",
    "   x = [ 100.          177.827941    316.22776602  562.34132519 1000.        ]\n",
    " \n",
    "\n",
    "  \n",
    "* Create a 2$D$ numpy array ($A$) with shape (5x6) starting at the integer value 30 and ending at 1.<br>\n",
    "  The result should be like this: <br>\n",
    "  $\\begin{equation*}\n",
    "   A =\n",
    "   \\begin{pmatrix}\n",
    "     30 & 29 & 28 & 27 & 26 & 25 \\\\\n",
    "     24 & 23 & 22 & 21 & 20 & 19 \\\\\n",
    "     18 & 17 & 16 & 15 & 14 & 13 \\\\\n",
    "     12 & 11 & 10 &  9 &  8 &  7 \\\\\n",
    "      6 &  5 &  4 & 3  &  2 &  1\n",
    "   \\end{pmatrix}\n",
    "   \\end{equation*}\n",
    "  $\n",
    "       "
   ]
  },
  {
   "cell_type": "markdown",
   "metadata": {},
   "source": [
    "### Solutions:"
   ]
  },
  {
   "cell_type": "code",
   "execution_count": 11,
   "metadata": {},
   "outputs": [],
   "source": [
    "# %load ../solutions/ex1.py"
   ]
  },
  {
   "cell_type": "code",
   "execution_count": 21,
   "metadata": {},
   "outputs": [
    {
     "name": "stderr",
     "output_type": "stream",
     "text": [
      "<ipython-input-21-b7fba7b9b26c>:5: VisibleDeprecationWarning: Creating an ndarray from ragged nested sequences (which is a list-or-tuple of lists-or-tuples-or ndarrays with different lengths or shapes) is deprecated. If you meant to do this, you must specify 'dtype=object' when creating the ndarray.\n",
      "  np.array(b)\n"
     ]
    },
    {
     "data": {
      "text/plain": [
       "array([list([1, 2, 3]), list([4, 5])], dtype=object)"
      ]
     },
     "execution_count": 21,
     "metadata": {},
     "output_type": "execute_result"
    }
   ],
   "source": [
    "a = np.array([2**i for i in range(1,11)])\n",
    "type(a)\n",
    "\n",
    "b = [[1,2,3],[4,5]]\n",
    "np.array(b)"
   ]
  },
  {
   "cell_type": "code",
   "execution_count": 15,
   "metadata": {},
   "outputs": [
    {
     "data": {
      "text/plain": [
       "array([ 100.        ,  177.827941  ,  316.22776602,  562.34132519,\n",
       "       1000.        ])"
      ]
     },
     "execution_count": 15,
     "metadata": {},
     "output_type": "execute_result"
    }
   ],
   "source": [
    "np.logspace(start=2, stop=3, num=5, base=10)"
   ]
  },
  {
   "cell_type": "code",
   "execution_count": 16,
   "metadata": {},
   "outputs": [
    {
     "data": {
      "text/plain": [
       "array([ 100.        ,  177.827941  ,  316.22776602,  562.34132519,\n",
       "       1000.        ])"
      ]
     },
     "execution_count": 16,
     "metadata": {},
     "output_type": "execute_result"
    }
   ],
   "source": [
    "start=2\n",
    "end =3 \n",
    "n =5\n",
    "base = 10\n",
    "dx=(end-start)/(n-1)\n",
    "b = np.array([base**(start+i*dx) for i in range(n)])\n",
    "#b"
   ]
  },
  {
   "cell_type": "code",
   "execution_count": 17,
   "metadata": {},
   "outputs": [
    {
     "data": {
      "text/plain": [
       "array([[30, 29, 28, 27, 26, 25],\n",
       "       [24, 23, 22, 21, 20, 19],\n",
       "       [18, 17, 16, 15, 14, 13],\n",
       "       [12, 11, 10,  9,  8,  7],\n",
       "       [ 6,  5,  4,  3,  2,  1]])"
      ]
     },
     "execution_count": 17,
     "metadata": {},
     "output_type": "execute_result"
    }
   ],
   "source": [
    "c = np.arange(30,0,-1).reshape((5,6))\n",
    "c"
   ]
  },
  {
   "cell_type": "code",
   "execution_count": null,
   "metadata": {},
   "outputs": [],
   "source": []
  }
 ],
 "metadata": {
  "kernelspec": {
   "display_name": "Python 3",
   "language": "python",
   "name": "python3"
  },
  "language_info": {
   "codemirror_mode": {
    "name": "ipython",
    "version": 3
   },
   "file_extension": ".py",
   "mimetype": "text/x-python",
   "name": "python",
   "nbconvert_exporter": "python",
   "pygments_lexer": "ipython3",
   "version": "3.8.8"
  },
  "latex_envs": {
   "LaTeX_envs_menu_present": true,
   "autoclose": false,
   "autocomplete": true,
   "bibliofile": "biblio.bib",
   "cite_by": "apalike",
   "current_citInitial": 1,
   "eqLabelWithNumbers": true,
   "eqNumInitial": 1,
   "hotkeys": {
    "equation": "Ctrl-E",
    "itemize": "Ctrl-I"
   },
   "labels_anchors": false,
   "latex_user_defs": false,
   "report_style_numbering": false,
   "user_envs_cfg": false
  },
  "toc": {
   "base_numbering": 1,
   "nav_menu": {},
   "number_sections": true,
   "sideBar": true,
   "skip_h1_title": false,
   "title_cell": "Table of Contents",
   "title_sidebar": "Contents",
   "toc_cell": false,
   "toc_position": {},
   "toc_section_display": true,
   "toc_window_display": false
  }
 },
 "nbformat": 4,
 "nbformat_minor": 2
}
