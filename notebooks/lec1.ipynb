{
 "cells": [
  {
   "cell_type": "markdown",
   "metadata": {},
   "source": [
    "# Lecture 1"
   ]
  },
  {
   "cell_type": "code",
   "execution_count": null,
   "metadata": {},
   "outputs": [],
   "source": [
    "%run set_env.py\n",
    "%matplotlib inline"
   ]
  },
  {
   "cell_type": "markdown",
   "metadata": {},
   "source": [
    "## Creation of arrays"
   ]
  },
  {
   "cell_type": "markdown",
   "metadata": {},
   "source": [
    "### 1D array:"
   ]
  },
  {
   "cell_type": "markdown",
   "metadata": {},
   "source": [
    "There are several options to create a 1D numpy arrays.<br>\n",
    "Among them, the most frequently used are:\n",
    "* numpy.array() : create an numpy array from a python <b><font color=\"green\">array-like</font></b> object\n",
    "* numpy.arange({start], stop[, step], dtype=None) : return evenly spaced values with given interval\n",
    "* numpy.linspace(start, stop, num=50, endpoint=True) : return evenly spaced numbers over a specified interval."
   ]
  },
  {
   "cell_type": "code",
   "execution_count": null,
   "metadata": {},
   "outputs": [],
   "source": [
    "# np.array\n",
    "a=np.array([1,3,5,10])\n",
    "print(f\"a := np.array([1,3,5,10]):\\n{a}\\n\")\n",
    "\n",
    "b=np.array(range(2,10,3)) \n",
    "print(f\"b := np.array(range(2,10,3)):\\n{b}\\n\")"
   ]
  },
  {
   "cell_type": "code",
   "execution_count": null,
   "metadata": {},
   "outputs": [],
   "source": [
    "# np.arange (MORE GENERAL than its Python Counterpart -> Why?)\n",
    "a=np.arange(10)\n",
    "print(f\"a := np.arange(10):\\n{a}\\n\")\n",
    "\n",
    "b=np.arange(0.,1.0,0.1)  \n",
    "print(f\"b := np.arange(0.,1.0,0.1):\\n{b}\\n\")"
   ]
  },
  {
   "cell_type": "code",
   "execution_count": null,
   "metadata": {},
   "outputs": [],
   "source": [
    "# [0,1] with equidistant intervals \n",
    "#  #Intervals: (b-a)/dx\n",
    "a=np.linspace(0,1,11)   \n",
    "print(f\"a := np.linspace(0,1,11):\\n{a}\\n\")\n",
    "\n",
    "# [0,1[ with equidistant intervals\n",
    "b=np.linspace(0,1,10,endpoint=False) \n",
    "print(f\"b := np.linspace(0,1,10,endpoint=False):\\n{b}\\n\")"
   ]
  },
  {
   "cell_type": "markdown",
   "metadata": {},
   "source": [
    "<b>Note:</b>\n",
    "* The *np.logspace* function returns numbers spaced evenly on a log scale (default base:10)\n"
   ]
  },
  {
   "cell_type": "markdown",
   "metadata": {},
   "source": [
    "### Multi dimensional arrays:"
   ]
  },
  {
   "cell_type": "markdown",
   "metadata": {},
   "source": [
    "There several (general) ways to create a N$D$ numpy array.<br>\n",
    "Among them:<br>\n",
    "* numpy.array: create an numpy array from a python array-like object (as in the $1D$ case)\n",
    "* numpy.reshape(a,newshape[,order]) : gives a new <b><font color=\"green\">shape</font></b> (dimensionality) to an array without changing its data\n",
    "  * newshape: tuple\n",
    "  * order: 'F', 'C'\n",
    "    * 'C': C-order => row-order <font color=\"green\"><b>(Default)</b></font>\n",
    "    * 'F': Fortran-order => column-order\n",
    "* numpy.meshgrid : returns coordinate matrices from two or more $1D$ coordinate vectors\n",
    "\n",
    "We can convert a N$D$ array into a 1$D$ array as follows:\n",
    "* numpy.reshape\n",
    "* numpy.flatten(order='C') : returns a <b>copy</b> of a flattened array\n",
    "* numpy.ravel(a,order='C') : returns a $1D$ array (=> faster than flatten)"
   ]
  },
  {
   "cell_type": "code",
   "execution_count": null,
   "metadata": {},
   "outputs": [],
   "source": [
    "# Numpy-array from 2D List\n",
    "a=np.array([[1,2,3,4],[5,6,7,8],[9,10,11,12]])\n",
    "print(f\"a := np.array([[1,2,3,4],[5,6,7,8],[9,10,11,12]]) :\\n{a}\\n\")\n",
    "\n",
    "# Reshape\n",
    "b=np.arange(1,13).reshape(3,4)\n",
    "print(f\"b := np.arange(1,13).reshape(3,4) :\\n{b}\\n\")"
   ]
  },
  {
   "cell_type": "code",
   "execution_count": null,
   "metadata": {},
   "outputs": [],
   "source": [
    "a=np.array([[1,2,3],[4,5,6]])\n",
    "print(f\"a := np.array([[1,2,3],[4,5,6]]) :\\n{a}\\n\")\n",
    "\n",
    "# Row-order (C)\n",
    "b1=np.reshape(a,(1,6))\n",
    "print(f\"b1:= np.reshape(a,(1,6)) :\\n{b1}\\n\")\n",
    "\n",
    "# Column-order Fortran\n",
    "b2=np.reshape(a,(1,6),order='F')\n",
    "print(f\"b2:= np.reshape(a,(1,6),order='F') :\\n{b2}\\n\")"
   ]
  },
  {
   "cell_type": "code",
   "execution_count": null,
   "metadata": {},
   "outputs": [],
   "source": [
    "# Meshgrid -> perfect to make grids for plots\n",
    "X=np.arange(-8,8, 0.25)\n",
    "Y=np.arange(-8,8, 0.25)\n",
    "\n",
    "print(f\" BEFORE Invoking the Meshgrid function:\")\n",
    "print(f\"   X := dim:{X.shape}:\\n{X}\\n\".format(X.shape,X))\n",
    "print(f\"   Y := dim:{Y.shape}:\\n{Y}\\n\".format(Y.shape,Y))\n",
    "\n",
    "EPS=1.0E-4\n",
    "X,Y=np.meshgrid(X,Y)\n",
    "print(f\" AFTER Invoking the Meshgrid function:\")\n",
    "print(f\"   X := dim:{X.shape}:\\n{X}\\n\")\n",
    "print(f\"   Y := dim:{Y.shape}:\\n{Y}\\n\")\n",
    "r = np.sqrt(X**2 + Y**2) + EPS\n",
    "Z = np.sin(r)/r\n",
    "\n",
    "# Matplot lib example\n",
    "from mpl_toolkits.mplot3d import Axes3D\n",
    "from matplotlib import cm\n",
    "from matplotlib.ticker import LinearLocator, FormatStrFormatter\n",
    "import matplotlib.pyplot as plt\n",
    "import numpy as np\n",
    "\n",
    "fig = plt.figure()\n",
    "ax = fig.gca(projection='3d')\n",
    "surf = ax.plot_surface(X, Y, Z, rstride=1, cstride=1,cmap=plt.cm.get_cmap('RdBu'),\n",
    "        linewidth=0, antialiased=False)\n",
    "ax.set_zlim(-0.1, 1.00)\n",
    "ax.set_title(\"Mexican Hat Style Plot\")\n",
    "\n",
    "ax.zaxis.set_major_locator(LinearLocator(10))\n",
    "ax.zaxis.set_major_formatter(FormatStrFormatter('%.02f'))"
   ]
  },
  {
   "cell_type": "code",
   "execution_count": null,
   "metadata": {},
   "outputs": [],
   "source": [
    "# Flatten multi-dimensional array\n",
    "a=np.arange(30).reshape((2,3,5))\n",
    "print(f\"a := np.arange(30).reshape((2,3,5)) :\\n{a}\\n\")\n",
    "\n",
    "b1=a.ravel(order='C')\n",
    "print(f\"b1 := np.ravel(a,order='C') :\\n{b1}\\n\")\n",
    "\n",
    "b2=a.ravel(order='F')\n",
    "print(f\"b2 := np.ravel(a,order='F') :\\n{b2}\\n\")\n",
    "\n",
    "b3=a.flatten(order='F')\n",
    "print(f\"b3 := np.flatten(a,order='F') :\\n{b3}\\n\")"
   ]
  },
  {
   "cell_type": "markdown",
   "metadata": {},
   "source": [
    "### Exercises:"
   ]
  },
  {
   "cell_type": "markdown",
   "metadata": {},
   "source": [
    "* Create a $1D$ numpy array containing the following entries :<br>\n",
    "  [2 4  8 16 32 64 128 256 512 1024]\n",
    "  \n",
    "* Create a numpy array (using <b><font color=\"red\">only</font></b> regular python & the np.array construct) which <br>\n",
    "  generates the same numbers/numpy vector as the function call:<br>\n",
    "  <font color=\"green\"><b>x = np.logspace(start=2, stop=3, num=5, base=10)</b></font><br> \n",
    "   i.e.:<br>\n",
    "   x = [ 100.          177.827941    316.22776602  562.34132519 1000.        ]\n",
    " \n",
    "\n",
    "  \n",
    "* Create a 2$D$ numpy array ($A$) with shape (5x6) starting at the integer value 30 and ending at 1.<br>\n",
    "  The result should be like this: <br>\n",
    "  $\\begin{equation*}\n",
    "   A =\n",
    "   \\begin{pmatrix}\n",
    "     30 & 29 & 28 & 27 & 26 & 25 \\\\\n",
    "     24 & 23 & 22 & 21 & 20 & 19 \\\\\n",
    "     18 & 17 & 16 & 15 & 14 & 13 \\\\\n",
    "     12 & 11 & 10 &  9 &  8 &  7 \\\\\n",
    "      6 &  5 &  4 & 3  &  2 &  1\n",
    "   \\end{pmatrix}\n",
    "   \\end{equation*}\n",
    "  $\n",
    "       "
   ]
  },
  {
   "cell_type": "markdown",
   "metadata": {},
   "source": [
    "### Solutions:"
   ]
  },
  {
   "cell_type": "code",
   "execution_count": null,
   "metadata": {},
   "outputs": [],
   "source": [
    "%load ../solutions/ex1.py"
   ]
  },
  {
   "cell_type": "code",
   "execution_count": null,
   "metadata": {},
   "outputs": [],
   "source": []
  }
 ],
 "metadata": {
  "kernelspec": {
   "display_name": "Python 3",
   "language": "python",
   "name": "python3"
  },
  "language_info": {
   "codemirror_mode": {
    "name": "ipython",
    "version": 3
   },
   "file_extension": ".py",
   "mimetype": "text/x-python",
   "name": "python",
   "nbconvert_exporter": "python",
   "pygments_lexer": "ipython3",
   "version": "3.7.4"
  }
 },
 "nbformat": 4,
 "nbformat_minor": 2
}
