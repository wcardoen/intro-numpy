{
 "cells": [
  {
   "cell_type": "markdown",
   "metadata": {},
   "source": [
    "# Lecture 6"
   ]
  },
  {
   "cell_type": "code",
   "execution_count": 1,
   "metadata": {},
   "outputs": [
    {
     "name": "stdout",
     "output_type": "stream",
     "text": [
      "Check versions:\n",
      "  numpy version     :'1.24.3'\n",
      "  matplotlib version:'3.8.2'\n"
     ]
    }
   ],
   "source": [
    "%run set_env.py\n",
    "%matplotlib inline"
   ]
  },
  {
   "cell_type": "markdown",
   "metadata": {},
   "source": [
    "## Fancy Indexing"
   ]
  },
  {
   "cell_type": "markdown",
   "metadata": {},
   "source": [
    "* Previously we discussed <font color=\"green\"><b>slicing</b></font> (which generates a <font color=\"green\"><b>view</b></font>/reference).\n",
    "* Sometimes we need a <font color=\"blue\"><b>more general approach</b></font> than slicing<br>\n",
    "  i.e. to obtain <font color=\"blue\"><b>\"irregular\"</b></font> portions of an array => <font color=\"green\"><b>Fancy Indexing</b></font>\n",
    "* Fancy Indexing: generates a <font color=\"green\"><b>copy</b></font> because it can in general\n",
    "  not be expressed as a slice (using offsets, strides,..)\n",
    "* In praxi, there are <font color=\"green\"><b>2 approaches</b></font> to fancy indexing:\n",
    "  * indexing by booleans (i.e. masks/masked arrays)\n",
    "  * indexing by position\n",
    "\n",
    " "
   ]
  },
  {
   "cell_type": "markdown",
   "metadata": {},
   "source": [
    "### Indexing by Booleans:"
   ]
  },
  {
   "cell_type": "markdown",
   "metadata": {},
   "source": [
    "* requires a <font color=\"green\"><b>boolean ndarray/mask</b></font>\n",
    "* the boolean ndarray MUST have the <font color=\"green\"><b>same shape</b></font><br> \n",
    "  as the ndarray to which it will be applied"
   ]
  },
  {
   "cell_type": "markdown",
   "metadata": {},
   "source": [
    "#### Example:"
   ]
  },
  {
   "cell_type": "code",
   "execution_count": 2,
   "metadata": {},
   "outputs": [],
   "source": [
    "from math import pi\n",
    "np.set_printoptions(precision=5)\n",
    "\n",
    "def myufunc(x):\n",
    "    \"\"\"\n",
    "    My own non-linear ufunc:\n",
    "       sin(x) + sin(2x) + cos(x) + cos(2x) + ln(x+1)\n",
    "    \"\"\"\n",
    "    return np.sin(x) + np.sin(2*x) + \\\n",
    "           np.cos(x) + np.cos(2*x) + \\\n",
    "           np.log(x+1)"
   ]
  },
  {
   "cell_type": "code",
   "execution_count": 3,
   "metadata": {},
   "outputs": [
    {
     "name": "stdout",
     "output_type": "stream",
     "text": [
      "  x.shape:(60,)\n",
      "  x:\n",
      "[0.      0.10649 0.21299 0.31948 0.42598 0.53247 0.63897 0.74546 0.85196\n",
      " 0.95845 1.06495 1.17144 1.27794 1.38443 1.49093 1.59742 1.70391 1.81041\n",
      " 1.9169  2.0234  2.12989 2.23639 2.34288 2.44938 2.55587 2.66237 2.76886\n",
      " 2.87536 2.98185 3.08835 3.19484 3.30133 3.40783 3.51432 3.62082 3.72731\n",
      " 3.83381 3.9403  4.0468  4.15329 4.25979 4.36628 4.47278 4.57927 4.68577\n",
      " 4.79226 4.89875 5.00525 5.11174 5.21824 5.32473 5.43123 5.53772 5.64422\n",
      " 5.75071 5.85721 5.9637  6.0702  6.17669 6.28319]\n",
      "\n",
      "  y.shape:(60,)\n",
      "  y:\n",
      "[ 2.       2.39061  2.70572  2.93979  3.08979  3.15542  3.13926  3.0467\n",
      "  2.88575  2.66671  2.40173  2.10435  1.78887  1.46976  1.16105  0.87574\n",
      "  0.62526  0.41899  0.26391  0.16431  0.12169  0.13473  0.19939  0.30921\n",
      "  0.4556   0.62833  0.81606  1.00686  1.18886  1.35082  1.48268  1.57607\n",
      "  1.62473  1.62484  1.57522  1.47738  1.33553  1.15636  0.94878  0.72349\n",
      "  0.4925   0.26861  0.06477 -0.10649 -0.23366 -0.30684 -0.31815 -0.26221\n",
      " -0.13636  0.05912  0.32101  0.64323  1.01703  1.43136  1.87332  2.32866\n",
      "  2.78238  3.21933  3.6249   3.98557]\n",
      "\n"
     ]
    }
   ],
   "source": [
    "x = np.linspace(0,2.*pi,60)\n",
    "y = myufunc(x)\n",
    "print(f\"  x.shape:{x.shape}\")\n",
    "print(f\"  x:\\n{x}\\n\")\n",
    "print(f\"  y.shape:{y.shape}\")\n",
    "print(f\"  y:\\n{y}\\n\")"
   ]
  },
  {
   "cell_type": "code",
   "execution_count": 4,
   "metadata": {},
   "outputs": [
    {
     "data": {
      "image/png": "[encoded data removed]",
      "text/plain": [
       "<Figure size 640x480 with 1 Axes>"
      ]
     },
     "metadata": {},
     "output_type": "display_data"
    }
   ],
   "source": [
    "# Plot (ALL POINTS)\n",
    "plt.xlabel(\"x\")\n",
    "plt.ylabel(\"ufunc(x)\")\n",
    "plt.plot(x,y,'--');"
   ]
  },
  {
   "cell_type": "markdown",
   "metadata": {},
   "source": [
    "##### Apply restrictions/selection using a mask:"
   ]
  },
  {
   "cell_type": "code",
   "execution_count": 5,
   "metadata": {},
   "outputs": [
    {
     "name": "stdout",
     "output_type": "stream",
     "text": [
      "  mask.shape:(60,)\n",
      "  mask:\n",
      "[ True  True  True  True False False False False  True  True  True  True\n",
      "  True  True  True False False False False False False False False False\n",
      " False False False  True  True  True  True  True  True  True  True  True\n",
      "  True  True False False False False False False False False False False\n",
      " False False False False  True  True  True  True  True False False False]\n",
      "\n"
     ]
    }
   ],
   "source": [
    "# Apply mask to the signal\n",
    "mask = (y>1.) & (y<3.)   # DO NOT FORGET the Round Brackets => ERROR!\n",
    "print(f\"  mask.shape:{mask.shape}\")\n",
    "print(f\"  mask:\\n{mask}\\n\")"
   ]
  },
  {
   "cell_type": "code",
   "execution_count": 6,
   "metadata": {},
   "outputs": [
    {
     "name": "stdout",
     "output_type": "stream",
     "text": [
      "  w.shape:(27,)\n",
      "  w:\n",
      "[0.      0.10649 0.21299 0.31948 0.85196 0.95845 1.06495 1.17144 1.27794\n",
      " 1.38443 1.49093 2.87536 2.98185 3.08835 3.19484 3.30133 3.40783 3.51432\n",
      " 3.62082 3.72731 3.83381 3.9403  5.53772 5.64422 5.75071 5.85721 5.9637 ]\n",
      "\n",
      "  w.flags:\n",
      "  C_CONTIGUOUS : True\n",
      "  F_CONTIGUOUS : True\n",
      "  OWNDATA : True\n",
      "  WRITEABLE : True\n",
      "  ALIGNED : True\n",
      "  WRITEBACKIFCOPY : False\n",
      "\n"
     ]
    }
   ],
   "source": [
    "# Use fancy indexing to obtain a subset from x\n",
    "w = x[mask]\n",
    "print(f\"  w.shape:{w.shape}\")\n",
    "print(f\"  w:\\n{w}\\n\")\n",
    "print(f\"  w.flags:\\n{w.flags}\")"
   ]
  },
  {
   "cell_type": "code",
   "execution_count": 7,
   "metadata": {},
   "outputs": [
    {
     "name": "stdout",
     "output_type": "stream",
     "text": [
      "  z.shape:(27,)\n",
      "  z:\n",
      "[2.      2.39061 2.70572 2.93979 2.88575 2.66671 2.40173 2.10435 1.78887\n",
      " 1.46976 1.16105 1.00686 1.18886 1.35082 1.48268 1.57607 1.62473 1.62484\n",
      " 1.57522 1.47738 1.33553 1.15636 1.01703 1.43136 1.87332 2.32866 2.78238]\n",
      "\n",
      "  z.flags:\n",
      "  C_CONTIGUOUS : True\n",
      "  F_CONTIGUOUS : True\n",
      "  OWNDATA : True\n",
      "  WRITEABLE : True\n",
      "  ALIGNED : True\n",
      "  WRITEBACKIFCOPY : False\n",
      "\n"
     ]
    }
   ],
   "source": [
    "# Get the signals of the subset \n",
    "z = y[mask]\n",
    "print(f\"  z.shape:{z.shape}\")\n",
    "print(f\"  z:\\n{z}\\n\")\n",
    "print(f\"  z.flags:\\n{z.flags}\")"
   ]
  },
  {
   "cell_type": "code",
   "execution_count": 8,
   "metadata": {},
   "outputs": [
    {
     "data": {
      "image/png": "[encoded data removed]",
      "text/plain": [
       "<Figure size 640x480 with 1 Axes>"
      ]
     },
     "metadata": {},
     "output_type": "display_data"
    }
   ],
   "source": [
    "# Final plot\n",
    "plt.xlabel(\"x\")\n",
    "plt.ylabel(\"ufunc(x)\")\n",
    "plt.title(\"Selection of points\")\n",
    "plt.plot(x,y,'--',w,z,'o');\n",
    "plt.axhline(y=3,linewidth=3,color='r');\n",
    "plt.axhline(y=1,linewidth=3,color='r');"
   ]
  },
  {
   "cell_type": "markdown",
   "metadata": {},
   "source": [
    "#### Some handy functions:"
   ]
  },
  {
   "cell_type": "markdown",
   "metadata": {},
   "source": [
    "* np.nonzero(a): returns the **INDICES** of the elements that are NON zero.<br>\n",
    "  In case of boolean values:\n",
    "  * False := 0\n",
    "  * True is non-zero  \n",
    "* np.where(condition,[x,y]): \n",
    "  * if <font color=\"green\"><b>only the condition</b></font> is given, returns the **indices** of the non-zero el. (<font color=\"green\"><b>idem as np.nonzero()</b></font>).\n",
    "  * else if <font color=\"green\"><b>x and y are present</b></font>, returns elements from \n",
    "    <font color=\"green\"><b>x (TRUE) or y (FALSE)</b></font>.      \n",
    "    \n",
    "* <font color=\"green\"><b>NOTE</b></font>:\n",
    "  * np.flatnonzero(a): return the INDICES that are NON zero in the <font color=\"green\"><b>FLATTENED</b></font> version of the input array (a)\n",
    "  * np.unravel_index(indices,dims): convert a FLAT index or array of FLAT indices into a TUPLE of coordinate arrays."
   ]
  },
  {
   "cell_type": "code",
   "execution_count": 9,
   "metadata": {},
   "outputs": [
    {
     "name": "stdout",
     "output_type": "stream",
     "text": [
      "  a:\n",
      "[-10. -20.   3.   0.  60. -12.]\n",
      "\n",
      "  a.non_zero():\n",
      "(array([0, 1, 2, 4, 5]),)\n",
      "\n",
      "  b:\n",
      "(array([2, 4]),)\n",
      "\n",
      "  c:\n",
      "[-1. -1.  3. -1. 60. -1.]\n",
      "\n",
      "  d:\n",
      "[-1. -1.  3. -1. 60. -1.]\n",
      "\n"
     ]
    }
   ],
   "source": [
    "# 1D example:\n",
    "a = np.array([-10.,-20.,3.,0.,60,-12.])\n",
    "print(f\"  a:\\n{a}\\n\")\n",
    "a_ind = a.nonzero()\n",
    "print(f\"  a.non_zero():\\n{a_ind}\\n\")\n",
    "\n",
    "\n",
    "# Just the condition => identical as np.nonzero()\n",
    "b = np.where(a>=3)\n",
    "print(f\"  b:\\n{b}\\n\")\n",
    "\n",
    "# Condition,x,y\n",
    "c = np.where(a>=3,a, -np.ones_like(a))\n",
    "print(f\"  c:\\n{c}\\n\")\n",
    "d = np.where(a>=3,a, -1)\n",
    "print(f\"  d:\\n{d}\\n\")"
   ]
  },
  {
   "cell_type": "code",
   "execution_count": 10,
   "metadata": {},
   "outputs": [
    {
     "name": "stdout",
     "output_type": "stream",
     "text": [
      "  b:\n",
      "[[0.      0.      0.      0.90335 0.93503 0.     ]\n",
      " [0.      0.      0.      0.      0.      0.     ]\n",
      " [0.      0.      0.      0.      0.      0.     ]\n",
      " [0.      0.      0.8007  0.      0.98056 0.     ]\n",
      " [0.      0.      0.      0.      0.      0.     ]]\n",
      "\n",
      "  b_ind1 (NON-FLATTENED):\n",
      "(array([0, 0, 3, 3]), array([3, 4, 2, 4]))\n",
      "\n",
      "  type(b_ind1):<class 'tuple'>\n",
      "    arr:[0 0 3 3]\n",
      "    arr:[3 4 2 4]\n",
      "  c:\n",
      "[0.90335 0.93503 0.8007  0.98056]\n",
      "\n",
      "  b_ind2 (FLATTENED):\n",
      "[ 3  4 20 22]\n",
      "\n",
      "  b_ind3 (UNRAVELLED INDEX):\n",
      "(array([0, 0, 3, 3]), array([3, 4, 2, 4]))\n",
      "\n"
     ]
    }
   ],
   "source": [
    "# 2D example:\n",
    "b = np.random.random((5,6))\n",
    "b[b<0.8] = 0.\n",
    "print(f\"  b:\\n{b}\\n\")\n",
    "\n",
    "b_ind1 = b.nonzero()\n",
    "print(f\"  b_ind1 (NON-FLATTENED):\\n{b_ind1}\\n\")\n",
    "print(f\"  type(b_ind1):{type(b_ind1)}\")\n",
    "for item in b_ind1:\n",
    "    print(f\"    arr:{item}\")   \n",
    "    \n",
    "# Get the NON-ZERO el.\n",
    "c = b[b_ind1]\n",
    "print(f\"  c:\\n{c}\\n\")\n",
    "\n",
    "b_ind2 = np.flatnonzero(b)\n",
    "print(f\"  b_ind2 (FLATTENED):\\n{b_ind2}\\n\")\n",
    "\n",
    "b_ind3 = np.unravel_index(b_ind2,b.shape)\n",
    "print(f\"  b_ind3 (UNRAVELLED INDEX):\\n{b_ind3}\\n\")"
   ]
  },
  {
   "cell_type": "markdown",
   "metadata": {},
   "source": [
    "### Indexing by position:"
   ]
  },
  {
   "cell_type": "markdown",
   "metadata": {},
   "source": [
    "* Instead of a boolean mask, we can also can use the <font color=\"green\"><b>indices</b></font> \n",
    "  to retrieve the elements."
   ]
  },
  {
   "cell_type": "markdown",
   "metadata": {},
   "source": [
    "#### Example 1:"
   ]
  },
  {
   "cell_type": "code",
   "execution_count": 11,
   "metadata": {},
   "outputs": [
    {
     "name": "stdout",
     "output_type": "stream",
     "text": [
      "  x:[20 30 40 50 60 70 80 90]\n",
      "    -> slice 1:[40 70 50]\n",
      "    -> slice 2:[40 70 50]\n"
     ]
    }
   ],
   "source": [
    "x = np.arange(20,100,10)\n",
    "print(\"  x:{0}\".format(x))\n",
    "ind1 = [2,5,3]         # Python List\n",
    "ind2 = np.array(ind1)  # Numpy array\n",
    "print(f\"    -> slice 1:{x[ind1]}\")\n",
    "print(f\"    -> slice 2:{x[ind2]}\")"
   ]
  },
  {
   "cell_type": "markdown",
   "metadata": {},
   "source": [
    "##### Example 2:\n"
   ]
  },
  {
   "cell_type": "code",
   "execution_count": null,
   "metadata": {},
   "outputs": [],
   "source": [
    "x = np.arange(48).reshape((6,8))\n",
    "print(f\"  x:\\n{x}\\n\")"
   ]
  },
  {
   "cell_type": "code",
   "execution_count": null,
   "metadata": {},
   "outputs": [],
   "source": [
    "# Our goal is to extract the following numbers:\n",
    "# [1,10,11,20,37,47]\n",
    "y = x[ [0,1,1,2,4,5],[1,2,3,4,5,7]] \n",
    "print(f\"  y (slice):\\n    {y}\\n\")\n",
    "print(f\"  y.flags -> view/copy?:\\n{y.flags}\\n\")"
   ]
  },
  {
   "cell_type": "code",
   "execution_count": null,
   "metadata": {},
   "outputs": [],
   "source": [
    "# Our goal is to extract [[9,13],[33,37]]\n",
    "y = x[[1,1,4,4],[1,5,1,5]]          # as 1D vector\n",
    "print(f\"  sliced version:\\n{y}\\n\")\n",
    "z = x[[[1,1],[4,4]],[[1,5],[1,5]]]  # as 2D vector\n",
    "print(f\"  sliced version:\\n{z}\\n\") "
   ]
  },
  {
   "cell_type": "code",
   "execution_count": null,
   "metadata": {},
   "outputs": [],
   "source": [
    "# Combination of regular indexing & fancy indexing\n",
    "w = x[1::3,[1,5]]\n",
    "print(f\"  sliced version:\\n{w}\\n\")"
   ]
  },
  {
   "cell_type": "markdown",
   "metadata": {},
   "source": [
    "### Exercises:"
   ]
  },
  {
   "cell_type": "markdown",
   "metadata": {},
   "source": [
    "* Generate an array of random points in the plane $p_i(x_i,y_i)$ (sampled from the uniform distribution),<br> where:<br>\n",
    "  * $i=1,\\ldots,N$ (e.g. $N$=15) <br> \n",
    "  * which <font color=\"green\"><b>ALL</b></font> lie in a square that has the following characteristics:\n",
    "    * centered at (0,0)\n",
    "    * and with vertices: (-1,-1),(-1,1),(1,-1),(1,1)\n",
    "  * find the coordinates of the points that lie <font color=\"green\"><b>OUTSIDE</b></font> the unit-circle\n",
    "  * set the coordinates of the point that lie <font color=\"green\"><b>WITHIN</b></font> the unit-circle to (0.,0.)\n",
    "  \n",
    "* Generate a 6x8 array of random numbers $\\in$ [0,1[.<br>\n",
    "  * For each row find the number closest to 0.5<br>\n",
    "    (Use fancy indexing to extract the numbers)\n",
    "  * <b>HINT</b>: np.abs, np.argmin  "
   ]
  },
  {
   "cell_type": "markdown",
   "metadata": {},
   "source": [
    "### Solutions:"
   ]
  },
  {
   "cell_type": "code",
   "execution_count": null,
   "metadata": {},
   "outputs": [],
   "source": [
    "# %load ../solutions/ex6.py"
   ]
  }
 ],
 "metadata": {
  "kernelspec": {
   "display_name": "Python 3 (ipykernel)",
   "language": "python",
   "name": "python3"
  },
  "language_info": {
   "codemirror_mode": {
    "name": "ipython",
    "version": 3
   },
   "file_extension": ".py",
   "mimetype": "text/x-python",
   "name": "python",
   "nbconvert_exporter": "python",
   "pygments_lexer": "ipython3",
   "version": "3.11.5"
  },
  "latex_envs": {
   "LaTeX_envs_menu_present": true,
   "autoclose": false,
   "autocomplete": true,
   "bibliofile": "biblio.bib",
   "cite_by": "apalike",
   "current_citInitial": 1,
   "eqLabelWithNumbers": true,
   "eqNumInitial": 1,
   "hotkeys": {
    "equation": "Ctrl-E",
    "itemize": "Ctrl-I"
   },
   "labels_anchors": false,
   "latex_user_defs": false,
   "report_style_numbering": false,
   "user_envs_cfg": false
  },
  "toc": {
   "base_numbering": 1,
   "nav_menu": {},
   "number_sections": true,
   "sideBar": true,
   "skip_h1_title": false,
   "title_cell": "Table of Contents",
   "title_sidebar": "Contents",
   "toc_cell": false,
   "toc_position": {},
   "toc_section_display": true,
   "toc_window_display": false
  }
 },
 "nbformat": 4,
 "nbformat_minor": 2
}
