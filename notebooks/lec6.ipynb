{
 "cells": [
  {
   "cell_type": "markdown",
   "metadata": {},
   "source": [
    "# Lecture 6"
   ]
  },
  {
   "cell_type": "code",
   "execution_count": null,
   "metadata": {},
   "outputs": [],
   "source": [
    "%run set_env.py\n",
    "%matplotlib inline"
   ]
  },
  {
   "cell_type": "markdown",
   "metadata": {},
   "source": [
    "## Fancy Indexing"
   ]
  },
  {
   "cell_type": "markdown",
   "metadata": {},
   "source": [
    "* Previously we discussed <font color=\"green\"><b>slicing</b></font> (which generates a <font color=\"green\"><b>view</b></font>/reference).\n",
    "* Sometimes we need a <font color=\"blue\"><b>more general approach</b></font> than slicing<br>\n",
    "  i.e. to obtain <font color=\"blue\"><b>\"irregular\"</b></font> portions of an array => <font color=\"green\"><b>Fancy Indexing</b></font>\n",
    "* Fancy Indexing: generates a <font color=\"green\"><b>copy</b></font> because it can in general\n",
    "  not be expressed as a slice (using offsets, strides,..)\n",
    "* In praxi, there are <font color=\"green\"><b>2 approaches</b></font> to fancy indexing:\n",
    "  * indexing by booleans (i.e. masks/masked arrays)\n",
    "  * indexing by position\n",
    "\n",
    " "
   ]
  },
  {
   "cell_type": "markdown",
   "metadata": {},
   "source": [
    "### Indexing by Booleans:"
   ]
  },
  {
   "cell_type": "markdown",
   "metadata": {},
   "source": [
    "* requires a <font color=\"green\"><b>boolean ndarray/mask</b></font>\n",
    "* the boolean ndarray MUST have the <font color=\"green\"><b>same shape</b></font><br> \n",
    "  as the ndarray to which it will be applied"
   ]
  },
  {
   "cell_type": "markdown",
   "metadata": {},
   "source": [
    "#### Example:"
   ]
  },
  {
   "cell_type": "code",
   "execution_count": null,
   "metadata": {},
   "outputs": [],
   "source": [
    "from math import pi\n",
    "np.set_printoptions(precision=5)\n",
    "\n",
    "def myufunc(x):\n",
    "    \"\"\"\n",
    "    My own non-linear ufunc:\n",
    "       sin(x) + sin(2x) + cos(x) + cos(2x) + ln(x+1)\n",
    "    \"\"\"\n",
    "    return np.sin(x) + np.sin(2*x) + \\\n",
    "           np.cos(x) + np.cos(2*x) + \\\n",
    "           np.log(x+1)"
   ]
  },
  {
   "cell_type": "code",
   "execution_count": null,
   "metadata": {},
   "outputs": [],
   "source": [
    "x = np.linspace(0,2.*pi,60)\n",
    "y = myufunc(x)\n",
    "print(f\"  x.shape:{x.shape}\")\n",
    "print(f\"  x:\\n{x}\\n\")\n",
    "print(f\"  y.shape:{y.shape}\")\n",
    "print(f\"  y:\\n{y}\\n\")"
   ]
  },
  {
   "cell_type": "code",
   "execution_count": null,
   "metadata": {},
   "outputs": [],
   "source": [
    "# Plot (ALL POINTS)\n",
    "plt.xlabel(\"x\")\n",
    "plt.ylabel(\"ufunc(x)\")\n",
    "plt.plot(x,y,'--');"
   ]
  },
  {
   "cell_type": "markdown",
   "metadata": {},
   "source": [
    "##### Apply restrictions/selection using a mask:"
   ]
  },
  {
   "cell_type": "code",
   "execution_count": null,
   "metadata": {},
   "outputs": [],
   "source": [
    "# Apply mask to the signal\n",
    "mask = (y>1.) & (y<3.)   # DO NOT FORGET the Round Brackets => ERROR!\n",
    "print(f\"  mask.shape:{mask.shape}\")\n",
    "print(f\"  mask:\\n{mask}\\n\")"
   ]
  },
  {
   "cell_type": "code",
   "execution_count": null,
   "metadata": {},
   "outputs": [],
   "source": [
    "# Use fancy indexing to obtain a subset from x\n",
    "w = x[mask]\n",
    "print(f\"  w.shape:{w.shape}\")\n",
    "print(f\"  w:\\n{w}\\n\")\n",
    "print(f\"  w.flags:\\n{w.flags}\")"
   ]
  },
  {
   "cell_type": "code",
   "execution_count": null,
   "metadata": {},
   "outputs": [],
   "source": [
    "# Get the signals of the subset \n",
    "z = y[mask]\n",
    "print(f\"  z.shape:{z.shape}\")\n",
    "print(f\"  z:\\n{z}\\n\")\n",
    "print(f\"  z.flags:\\n{z.flags}\")"
   ]
  },
  {
   "cell_type": "code",
   "execution_count": null,
   "metadata": {},
   "outputs": [],
   "source": [
    "# Final plot\n",
    "plt.xlabel(\"x\")\n",
    "plt.ylabel(\"ufunc(x)\")\n",
    "plt.title(\"Selection of points\")\n",
    "plt.plot(x,y,'--',w,z,'o');\n",
    "plt.axhline(y=3,linewidth=3,color='r');\n",
    "plt.axhline(y=1,linewidth=3,color='r');"
   ]
  },
  {
   "cell_type": "markdown",
   "metadata": {},
   "source": [
    "#### Some handy functions:"
   ]
  },
  {
   "cell_type": "markdown",
   "metadata": {},
   "source": [
    "* np.nonzero(a): return the INDICES of the elements that are NOT zero.<br>\n",
    "  In case of boolean values:\n",
    "  * False := 0\n",
    "  * True is non-zero  \n",
    "* np.where(condition,[x,y]): return elements, either from x or y, depending on condition\n",
    "  * if <font color=\"green\"><b>only the condition</b></font> is given, return condition.nonzero() i.e. \n",
    "    <font color=\"green\"><b>non-zero INDICES</b></font>\n",
    "  * if <font color=\"green\"><b>x and y are also present</b></font>, return elements from \n",
    "    <font color=\"green\"><b>x (TRUE) or y (FALSE)</b></font> depending on the condition      \n",
    "    \n",
    "* <font color=\"green\"><b>NOTE</b></font>:\n",
    "  * np.flatnonzero(a): return the INDICES that are NON zero in the <font color=\"green\"><b>FLATTENED</b></font> version of the input array (a)\n",
    "  * np.unravel_index(indices,dims): convert a FLAT index or array of FLAT indices into a TUPLE of coordinate arrays."
   ]
  },
  {
   "cell_type": "code",
   "execution_count": null,
   "metadata": {},
   "outputs": [],
   "source": [
    "# 1D example:\n",
    "a = np.array([-10.,-20.,3.,0.,60,-12.])\n",
    "print(f\"  a:\\n{a}\\n\")\n",
    "a_ind = a.nonzero()\n",
    "print(f\"  a.non_zero():\\n{a_ind}\\n\")\n",
    "\n",
    "a_cond = (a>=3)\n",
    "b = np.where(a_cond)\n",
    "print(f\"  a_cond (a>=3):\\n{a_cond}\\n\")\n",
    "print(f\"  b:\\n{b}\\n\")\n",
    "\n",
    "c = np.where(a_cond,a, -np.ones_like(a))\n",
    "print(f\"  c:\\n{c}\\n\")\n",
    "d = np.where(a_cond,a, -1)\n",
    "print(f\"  d:\\n{d}\\n\")"
   ]
  },
  {
   "cell_type": "code",
   "execution_count": null,
   "metadata": {},
   "outputs": [],
   "source": [
    "# 2D example:\n",
    "b = np.random.random((5,6))\n",
    "b[b<0.8] = 0.\n",
    "print(f\"  b:\\n{b}\\n\")\n",
    "\n",
    "b_ind1 = b.nonzero()\n",
    "print(f\"  b_ind1 (NON-FLATTENED):\\n{b_ind1}\\n\")\n",
    "print(f\"  type(b_ind1):{type(b_ind1)}\")\n",
    "for item in b_ind1:\n",
    "    print(f\"    arr:{item}\")   \n",
    "    \n",
    "# Get the NON-ZERO el.\n",
    "c = b[b_ind1]\n",
    "print(f\"  c:\\n{c}\\n\")\n",
    "\n",
    "b_ind2 = np.flatnonzero(b)\n",
    "print(f\"  b_ind2 (FLATTENED):\\n{b_ind2}\\n\")\n",
    "\n",
    "b_ind3 = np.unravel_index(b_ind2,b.shape)\n",
    "print(f\"  b_ind3 (UNRAVELLED INDEX):\\n{b_ind3}\\n\")"
   ]
  },
  {
   "cell_type": "markdown",
   "metadata": {},
   "source": [
    "### Indexing by position:"
   ]
  },
  {
   "cell_type": "markdown",
   "metadata": {},
   "source": [
    "* Instead of a boolean mask, we can also can use the <font color=\"green\"><b>indices</b></font> \n",
    "  to retrieve the elements."
   ]
  },
  {
   "cell_type": "markdown",
   "metadata": {},
   "source": [
    "#### Example 1:"
   ]
  },
  {
   "cell_type": "code",
   "execution_count": null,
   "metadata": {},
   "outputs": [],
   "source": [
    "x = np.arange(20,100,10)\n",
    "print(\"  x:{0}\".format(x))\n",
    "ind1 = [2,5,3]         # Python List\n",
    "ind2 = np.array(ind1)  # Numpy array\n",
    "print(f\"    -> slice 1:{x[ind1]}\")\n",
    "print(f\"    -> slice 2:{x[ind2]}\")"
   ]
  },
  {
   "cell_type": "markdown",
   "metadata": {},
   "source": [
    "##### Example 2:\n"
   ]
  },
  {
   "cell_type": "code",
   "execution_count": null,
   "metadata": {},
   "outputs": [],
   "source": [
    "x = np.arange(48).reshape((6,8))\n",
    "print(f\"  x:\\n{x}\\n\")"
   ]
  },
  {
   "cell_type": "code",
   "execution_count": null,
   "metadata": {},
   "outputs": [],
   "source": [
    "# Our goal is to extract the following numbers:\n",
    "# [1,10,11,20,37,47]\n",
    "y = x[ [0,1,1,2,4,5],[1,2,3,4,5,7]] \n",
    "print(f\"  y (slice):\\n    {y}\\n\")\n",
    "print(f\"  y.flags -> view/copy?:\\n{y.flags}\\n\")"
   ]
  },
  {
   "cell_type": "code",
   "execution_count": null,
   "metadata": {},
   "outputs": [],
   "source": [
    "# Our goal is to extract [[9,13],[33,37]]\n",
    "y = x[[1,1,4,4],[1,5,1,5]]          # as 1D vector\n",
    "print(f\"  sliced version:\\n{y}\\n\")\n",
    "z = x[[[1,1],[4,4]],[[1,5],[1,5]]]  # as 2D vector\n",
    "print(f\"  sliced version:\\n{z}\\n\") "
   ]
  },
  {
   "cell_type": "code",
   "execution_count": null,
   "metadata": {},
   "outputs": [],
   "source": [
    "# Combination of regular indexing & fancy indexing\n",
    "w = x[1::3,[1,5]]\n",
    "print(f\"  sliced version:\\n{w}\\n\")"
   ]
  },
  {
   "cell_type": "markdown",
   "metadata": {},
   "source": [
    "### Exercises:"
   ]
  },
  {
   "cell_type": "markdown",
   "metadata": {},
   "source": [
    "* Generate an array of random points $p_i(x_i,y_i)$ in the plane, where <br>\n",
    "  * $i=1,\\ldots,N$ (e.g. $N$=10) <br> \n",
    "  * which <font color=\"green\"><b>ALL</b></font> lie in a square that has the following characteristics:\n",
    "    * centered at (0,0)\n",
    "    * and with vertices: (-1,-1),(-1,1),(1,-1),(1,1)\n",
    "  * find the coordinates of the points that lie <font color=\"green\"><b>OUTSIDE</b></font> the unit-circle\n",
    "  * set the coordinates of the point that lie <font color=\"green\"><b>WITHIN</b></font> the unit-circle to (0.,0.)\n",
    "  \n",
    "* Generate a 6x8 array of random numbers $\\in$ [0,1[.<br>\n",
    "  * For each row find the number closest to 0.5<br>\n",
    "    (Use fancy indexing to extract the numbers)\n",
    "  * <b>HINT</b>: np.abs, np.argmin  "
   ]
  },
  {
   "cell_type": "markdown",
   "metadata": {},
   "source": [
    "### Solutions:"
   ]
  },
  {
   "cell_type": "code",
   "execution_count": null,
   "metadata": {},
   "outputs": [],
   "source": [
    "# %load ../solutions/ex6.py"
   ]
  },
  {
   "cell_type": "code",
   "execution_count": null,
   "metadata": {},
   "outputs": [],
   "source": []
  }
 ],
 "metadata": {
  "kernelspec": {
   "display_name": "Python 3",
   "language": "python",
   "name": "python3"
  },
  "language_info": {
   "codemirror_mode": {
    "name": "ipython",
    "version": 3
   },
   "file_extension": ".py",
   "mimetype": "text/x-python",
   "name": "python",
   "nbconvert_exporter": "python",
   "pygments_lexer": "ipython3",
   "version": "3.7.4"
  }
 },
 "nbformat": 4,
 "nbformat_minor": 2
}
