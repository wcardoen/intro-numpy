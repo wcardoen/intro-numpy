{
 "cells": [
  {
   "cell_type": "markdown",
   "metadata": {},
   "source": [
    "# Lecture 5"
   ]
  },
  {
   "cell_type": "code",
   "execution_count": 1,
   "metadata": {},
   "outputs": [
    {
     "name": "stdout",
     "output_type": "stream",
     "text": [
      "Check versions:\n",
      "  numpy version     :'1.24.3'\n",
      "  matplotlib version:'3.8.2'\n"
     ]
    }
   ],
   "source": [
    "%run set_env.py\n",
    "%matplotlib inline"
   ]
  },
  {
   "cell_type": "markdown",
   "metadata": {},
   "source": [
    "### Universal Functions (UFuncs)"
   ]
  },
  {
   "cell_type": "markdown",
   "metadata": {},
   "source": [
    "A <font color=\"green\"><b>universal function (ufunc)</b></font> is:\n",
    "* a function which operates on an ndarray object in an <font color=\"green\"><b>element-by-element</b></font> fashion\n",
    "* an instance of the numpy.ufunc class\n",
    "* a function of which many are implemented in compiled C code\n",
    "* to which broadcasting rules are applied. \n",
    "\n",
    "The concept is similar to the <a href=\"https://docs.python.org/3/library/functions.html#map\">map function</a> in standard Python."
   ]
  },
  {
   "cell_type": "markdown",
   "metadata": {},
   "source": [
    "#### Some ufuncs within NumPy: "
   ]
  },
  {
   "cell_type": "markdown",
   "metadata": {},
   "source": [
    "* Math operations:\n",
    "  * add(x1,x2)   (called when invoked a+b)\n",
    "  * power(x1,x2) (same as '**')\n",
    "  * mod(x1,x2)\n",
    "  * exp(x)\n",
    "  * sqrt(x)\n",
    "  * log(x)  (Napierian/natural logarithm)\n",
    "  * ...\n",
    "* Trig operations:\n",
    "  * sin(x)\n",
    "  * sinh(x)\n",
    "  * arcsinh(x)\n",
    "  * deg2rad(x)\n",
    "  * rad2deg(x)\n",
    "  * ..\n",
    "* Bit-twiddling operations:\n",
    "  * bitwise_and(x1,x2)\n",
    "  * ...\n",
    "* Comparison functions:\n",
    "  * greater(x1,x2) (called when x1>x2 is invoked)\n",
    "  * not_equal(x1,x2) (called when x1!=x2 is invoked)\n",
    "  * maximum(x1,x2)  (el.-wise max.)\n",
    "  * isfinite(x)   (el. test for finiteness i.e. neither Infinity nor Not a Number)\n",
    "  * isinf(x)\n",
    "  * isnan(x)\n",
    "  * ...\n",
    "  \n",
    "To see all the available ufuncs, see:<br>  \n",
    "https://docs.scipy.org/doc/numpy-1.13.0/reference/ufuncs.html#available-ufuncs"
   ]
  },
  {
   "cell_type": "markdown",
   "metadata": {},
   "source": [
    "<font color=\"blue\"><b>Note:</b></font>\n",
    "* One can write its own UFunc -> C-API"
   ]
  },
  {
   "cell_type": "markdown",
   "metadata": {},
   "source": [
    "#### Examples/Applications of UFuncs:"
   ]
  },
  {
   "cell_type": "code",
   "execution_count": 2,
   "metadata": {},
   "outputs": [
    {
     "name": "stdout",
     "output_type": "stream",
     "text": [
      " x:\n",
      "[[[0.83822 0.77815 0.33044 0.67148 0.51438 0.46861 0.65995]\n",
      "  [0.78061 0.25108 0.30874 0.32902 0.59051 0.90688 0.04261]\n",
      "  [0.76177 0.42547 0.71191 0.94619 0.35547 0.87881 0.85407]]\n",
      "\n",
      " [[0.42446 0.02377 0.85226 0.08439 0.64285 0.70802 0.55784]\n",
      "  [0.82685 0.85018 0.39811 0.30106 0.34075 0.04122 0.32926]\n",
      "  [0.65955 0.115   0.04092 0.59359 0.68107 0.53024 0.3034 ]]]\n",
      "\n",
      " y:\n",
      "[[[2.31224 2.17744 1.39158 1.95712 1.6726  1.59777 1.9347 ]\n",
      "  [2.1828  1.28541 1.36171 1.38961 1.80491 2.47659 1.04353]\n",
      "  [2.14206 1.53031 2.03788 2.57588 1.42684 2.40803 2.34919]]\n",
      "\n",
      " [[1.52876 1.02406 2.34493 1.08805 1.90189 2.02998 1.7469 ]\n",
      "  [2.28611 2.34006 1.48901 1.3513  1.40601 1.04208 1.38994]\n",
      "  [1.93392 1.12187 1.04177 1.81047 1.976   1.69935 1.35445]]]\n",
      "\n",
      "1.6487212707001282\n"
     ]
    }
   ],
   "source": [
    "# Example 1: no BC\n",
    "np.set_printoptions(precision=5)\n",
    "import numpy as np\n",
    "x = np.random.random((2,3,7))\n",
    "y = np.exp(x)\n",
    "print(f\" x:\\n{x}\\n\")\n",
    "print(f\" y:\\n{y}\\n\")\n",
    "import math\n",
    "z=0.5\n",
    "print(np.exp(z))"
   ]
  },
  {
   "cell_type": "code",
   "execution_count": 3,
   "metadata": {},
   "outputs": [
    {
     "name": "stdout",
     "output_type": "stream",
     "text": [
      "  x:(13,)\n",
      "[ 90  91  92  93  94  95  96  97  98  99 100 101 102]\n",
      "\n",
      "  y:(5, 1)\n",
      "[[2]\n",
      " [3]\n",
      " [4]\n",
      " [5]\n",
      " [6]]\n",
      "\n",
      "  z:(5, 13)\n",
      "[[0 1 0 1 0 1 0 1 0 1 0 1 0]\n",
      " [0 1 2 0 1 2 0 1 2 0 1 2 0]\n",
      " [2 3 0 1 2 3 0 1 2 3 0 1 2]\n",
      " [0 1 2 3 4 0 1 2 3 4 0 1 2]\n",
      " [0 1 2 3 4 5 0 1 2 3 4 5 0]]\n",
      "\n"
     ]
    }
   ],
   "source": [
    "# Example 2: with BC\n",
    "x=np.arange(90,103,dtype=int)\n",
    "y=np.arange(2,7,dtype=int).reshape((5,1))\n",
    "print(f\"  x:{x.shape}\\n{x}\\n\")\n",
    "print(f\"  y:{y.shape}\\n{y}\\n\")\n",
    "z=np.mod(x,y)\n",
    "print(f\"  z:{z.shape}\\n{z}\\n\")"
   ]
  },
  {
   "cell_type": "markdown",
   "metadata": {},
   "source": [
    "### Reductions on ndarrays"
   ]
  },
  {
   "cell_type": "markdown",
   "metadata": {},
   "source": [
    "* Besides Numpy functions which operate on ndarrays <font color=\"green\"><b>element-wise</b></font> (UFuncs, vide supra),<br>\n",
    "  there are also Numpy functions which perform <font color=\"green\"><b>reductions</b></font> on ndarrays. \n",
    "\n",
    "* By <font color=\"green\"><b>default</b></font>, the reductions operate on the <font color=\"green\"><b>whole</b></font> ndarray.\n",
    "  \n",
    "* However, we can specify a particular <font color=\"green\"><b>axis/dimension</b></font> on which to perform the reduction.  \n",
    "\n",
    "* The functions all have a similar syntax:<br>\n",
    "  numpy.func_name(a,[axis=None],[dtype=None],[out=None])<br>\n",
    "  The function <font color=\"green\"><b>func_name</b></font> can be called in 2 different ways:\n",
    "  * a.func_name()    # <font color=\"blue\"><b>Object-Oriented way</b></font> i.e. method associated to an object\n",
    "  * np.func_name(a)  # <font color=\"blue\"><b>Procedural way</b></font> i.e. array is an argument of the function"
   ]
  },
  {
   "cell_type": "markdown",
   "metadata": {},
   "source": [
    "#### Mathematical Operations:\n",
    "* numpy.sum(), numpy.cumsum()    : sum vs. cumulative sum\n",
    "* numpy.prod(), numpy.cumprod()  : prod vs. cumulative product\n",
    "* numpy.min(), numpy.max()       : min, max of a vector\n",
    "* numpy.argmin(), numpy.argmax() : return indices of the min./max. values"
   ]
  },
  {
   "cell_type": "markdown",
   "metadata": {},
   "source": [
    "#### Statistical Operations:\n",
    "* numpy.mean, numpy.median : average, median\n",
    "* numpy.std, numpy.var     : standard deviation, variance"
   ]
  },
  {
   "cell_type": "markdown",
   "metadata": {},
   "source": [
    "#### Logical Operations:\n",
    "* numpy.any(): Test whether ANY el. along a given axis evaluates to True\n",
    "* numpy.all(): Test whether ALL el. along a given axis evaluate to True"
   ]
  },
  {
   "cell_type": "markdown",
   "metadata": {},
   "source": [
    "#### Examples"
   ]
  },
  {
   "cell_type": "markdown",
   "metadata": {},
   "source": [
    "###### Example 1:"
   ]
  },
  {
   "cell_type": "code",
   "execution_count": 4,
   "metadata": {},
   "outputs": [
    {
     "name": "stdout",
     "output_type": "stream",
     "text": [
      "  a:\n",
      "[[[ 1  2  3  4]\n",
      "  [ 5  6  7  8]\n",
      "  [ 9 10 11 12]]\n",
      "\n",
      " [[13 14 15 16]\n",
      "  [17 18 19 20]\n",
      "  [21 22 23 24]]]\n",
      "\n",
      "  a.shape:(2, 3, 4)\n",
      "\n",
      "  a.sum() (Object-oriented syntax): 300\n",
      "\n",
      "  np.sum(a) (Procedural syntax)   : 300\n",
      "\n"
     ]
    }
   ],
   "source": [
    "# Example 1: \n",
    "# Invoke sum over the complete ndarray\n",
    "a = np.arange(1,25).reshape((2,3,4))\n",
    "print(f\"  a:\\n{a}\\n\")\n",
    "print(f\"  a.shape:{a.shape}\\n\")\n",
    "print(f\"  a.sum() (Object-oriented syntax): {a.sum()}\\n\")\n",
    "print(f\"  np.sum(a) (Procedural syntax)   : {np.sum(a)}\\n\")"
   ]
  },
  {
   "cell_type": "code",
   "execution_count": 5,
   "metadata": {},
   "outputs": [
    {
     "name": "stdout",
     "output_type": "stream",
     "text": [
      "   a.sum(axis=0)   shape:(3, 4):\n",
      "[[14 16 18 20]\n",
      " [22 24 26 28]\n",
      " [30 32 34 36]]\n",
      "\n",
      "   a.sum(axis=1)   shape:(2, 4):\n",
      "[[15 18 21 24]\n",
      " [51 54 57 60]]\n",
      "\n",
      "   a.sum(axis=2)   shape:(2, 3):\n",
      "[[10 26 42]\n",
      " [58 74 90]]\n",
      "\n"
     ]
    }
   ],
   "source": [
    "# Invoke sums over certain axes\n",
    "a = np.arange(1,25).reshape((2,3,4))\n",
    "red0 = a.sum(axis=0)\n",
    "print(f\"   a.sum(axis=0)   shape:{red0.shape}:\\n{red0}\\n\")\n",
    "red1 = a.sum(axis=1)\n",
    "print(f\"   a.sum(axis=1)   shape:{red1.shape}:\\n{red1}\\n\")\n",
    "red2 = a.sum(axis=2)\n",
    "print(f\"   a.sum(axis=2)   shape:{red2.shape}:\\n{red2}\\n\")"
   ]
  },
  {
   "cell_type": "markdown",
   "metadata": {},
   "source": [
    "###### Example 2:"
   ]
  },
  {
   "cell_type": "code",
   "execution_count": 7,
   "metadata": {},
   "outputs": [
    {
     "name": "stdout",
     "output_type": "stream",
     "text": [
      "  b:\n",
      "[[0.6949 0.4331 0.134  0.1248 0.3234 0.0393 0.7781]\n",
      " [0.4048 0.7301 0.9114 0.2436 0.8402 0.4852 0.2754]\n",
      " [0.4949 0.6305 0.5781 0.2989 0.4363 0.3155 0.9806]]\n",
      "\n",
      "  b.shape:(3, 7)\n",
      "\n",
      "  b.mean(axis=0):\n",
      "[0.5315 0.5979 0.5412 0.2224 0.5333 0.28   0.6781]\n",
      "\n",
      "  bool_matrix:\n",
      "[[False False False False False  True False]\n",
      " [False False False False False False False]\n",
      " [False False False False False False False]]\n",
      "\n",
      "  Are they any values < 0.01? True\n"
     ]
    }
   ],
   "source": [
    "np.set_printoptions(precision=4)\n",
    "b = rnd.random((3,7))\n",
    "print(f\"  b:\\n{b}\\n\")\n",
    "print(f\"  b.shape:{b.shape}\\n\")\n",
    "\n",
    "av = b.mean(axis=0)\n",
    "print(f\"  b.mean(axis=0):\\n{av}\\n\")\n",
    "\n",
    "bool_matrix = b < 0.05\n",
    "print(f\"  bool_matrix:\\n{bool_matrix}\\n\")\n",
    "print(f\"  Are they any values < 0.01? {bool_matrix.any()}\")"
   ]
  },
  {
   "cell_type": "markdown",
   "metadata": {},
   "source": [
    "### Exercises:"
   ]
  },
  {
   "cell_type": "markdown",
   "metadata": {},
   "source": [
    "* Generate the following vector [ 1, 3, 9, 27, ... , 729] using a UFunc.\n",
    " \n",
    "* Generate a 5x10 array A with random numbers $x$ $\\in$ $[0,1[$.\n",
    "  * What is the maximum value for all $x$ in A?\n",
    "  * What is the minimum value in each column?\n",
    "  * What is the minimum value in the fourth row?\n",
    "  * Are there any random numbers $x<\\alpha$ or $x>\\beta$?<br>You can set $\\alpha:=0.02$ and $\\beta:=0.98$\n",
    "  \n",
    "* Write the function *calc_sn(n)* (<font color=\"red\">**without the use of for loops!**</font>): \n",
    "  * The function *calc_sn(n)* returns an array of partial sums $S_n$ ($n>0$) given by:<br>\n",
    "    $\\begin{equation*}\n",
    "      S_n := \\sum_{k=1}^{k=n} \\frac{sin(k)}{k^2} \n",
    "      \\end{equation*}\n",
    "    $ \n",
    "  * Generate the plot $S_n$ where $n$ $\\in$ $\\{1,\\ldots,100\\}$ to visualize the absolute convergency of the series.<br>\n",
    "    You can use the following code to create the matplotlib plot:<br>\n",
    "      * N = 100 <br>\n",
    "      * import matplotlib.pyplot as plt  <br>\n",
    "      * plt.plot(np.arange(1,N+1), calc_sn(N))  <br>\n",
    "      * plt.title(r\"\\\\$ S_n = \\sum_{k=1}^n \\frac{sin(k)}{k^2} \\\\$\") <br>\n",
    "      * plt.xlabel(r\"\\\\$n\\\\$\")  <br>\n",
    "      * plt.ylabel(r\"\\\\$S_n\\\\$\",rotation=0) <br>\n",
    "      * plt.show()  <br>\n",
    "    \n",
    "    \n",
    "  "
   ]
  },
  {
   "cell_type": "markdown",
   "metadata": {},
   "source": [
    "### Solutions:"
   ]
  },
  {
   "cell_type": "code",
   "execution_count": null,
   "metadata": {},
   "outputs": [],
   "source": [
    "# %load ../solutions/ex5.py"
   ]
  }
 ],
 "metadata": {
  "kernelspec": {
   "display_name": "Python 3 (ipykernel)",
   "language": "python",
   "name": "python3"
  },
  "language_info": {
   "codemirror_mode": {
    "name": "ipython",
    "version": 3
   },
   "file_extension": ".py",
   "mimetype": "text/x-python",
   "name": "python",
   "nbconvert_exporter": "python",
   "pygments_lexer": "ipython3",
   "version": "3.11.5"
  },
  "latex_envs": {
   "LaTeX_envs_menu_present": true,
   "autoclose": false,
   "autocomplete": true,
   "bibliofile": "biblio.bib",
   "cite_by": "apalike",
   "current_citInitial": 1,
   "eqLabelWithNumbers": true,
   "eqNumInitial": 1,
   "hotkeys": {
    "equation": "Ctrl-E",
    "itemize": "Ctrl-I"
   },
   "labels_anchors": false,
   "latex_user_defs": false,
   "report_style_numbering": false,
   "user_envs_cfg": false
  },
  "toc": {
   "base_numbering": 1,
   "nav_menu": {},
   "number_sections": true,
   "sideBar": true,
   "skip_h1_title": false,
   "title_cell": "Table of Contents",
   "title_sidebar": "Contents",
   "toc_cell": false,
   "toc_position": {},
   "toc_section_display": true,
   "toc_window_display": false
  }
 },
 "nbformat": 4,
 "nbformat_minor": 2
}
