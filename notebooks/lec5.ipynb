{
 "cells": [
  {
   "cell_type": "markdown",
   "metadata": {},
   "source": [
    "# Lecture 5"
   ]
  },
  {
   "cell_type": "code",
   "execution_count": 1,
   "metadata": {},
   "outputs": [
    {
     "name": "stdout",
     "output_type": "stream",
     "text": [
      "Check versions:\n",
      "  numpy version     :'1.20.1'\n",
      "  matplotlib version:'3.3.4'\n"
     ]
    }
   ],
   "source": [
    "%run set_env.py\n",
    "%matplotlib inline"
   ]
  },
  {
   "cell_type": "markdown",
   "metadata": {},
   "source": [
    "### Universal Functions (UFuncs)"
   ]
  },
  {
   "cell_type": "markdown",
   "metadata": {},
   "source": [
    "A <font color=\"green\"><b>universal function (ufunc)</b></font> is:\n",
    "* a function which operates on an ndarray object in an <font color=\"green\"><b>element-by-element</b></font> fashion\n",
    "* an instance of the numpy.ufunc class\n",
    "* a function of which many are implemented in compiled C code\n",
    "* to which broadcasting rules are applied. \n",
    "\n",
    "The concept is similar to the <a href=\"https://docs.python.org/3/library/functions.html#map\">map function</a> in standard Python."
   ]
  },
  {
   "cell_type": "markdown",
   "metadata": {},
   "source": [
    "#### Some ufuncs within NumPy: "
   ]
  },
  {
   "cell_type": "markdown",
   "metadata": {},
   "source": [
    "* Math operations:\n",
    "  * add(x1,x2)   (called when invoked a+b)\n",
    "  * power(x1,x2) (same as '**')\n",
    "  * mod(x1,x2)\n",
    "  * exp(x)\n",
    "  * sqrt(x)\n",
    "  * log(x)  (Napierian/natural logarithm)\n",
    "  * ...\n",
    "* Trig operations:\n",
    "  * sin(x)\n",
    "  * sinh(x)\n",
    "  * arcsinh(x)\n",
    "  * deg2rad(x)\n",
    "  * rad2deg(x)\n",
    "  * ..\n",
    "* Bit-twiddling operations:\n",
    "  * bitwise_and(x1,x2)\n",
    "  * ...\n",
    "* Comparison functions:\n",
    "  * greater(x1,x2) (called when x1>x2 is invoked)\n",
    "  * not_equal(x1,x2) (called when x1!=x2 is invoked)\n",
    "  * maximum(x1,x2)  (el.-wise max.)\n",
    "  * isfinite(x)   (el. test for finiteness i.e. neither Infinity nor Not a Number)\n",
    "  * isinf(x)\n",
    "  * isnan(x)\n",
    "  * ...\n",
    "  \n",
    "To see all the available ufuncs, see:<br>  \n",
    "https://docs.scipy.org/doc/numpy-1.13.0/reference/ufuncs.html#available-ufuncs"
   ]
  },
  {
   "cell_type": "markdown",
   "metadata": {},
   "source": [
    "<font color=\"blue\"><b>Note:</b></font>\n",
    "* One can write its own UFunc -> C-API"
   ]
  },
  {
   "cell_type": "markdown",
   "metadata": {},
   "source": [
    "#### Examples/Applications of UFuncs:"
   ]
  },
  {
   "cell_type": "code",
   "execution_count": 5,
   "metadata": {},
   "outputs": [
    {
     "name": "stdout",
     "output_type": "stream",
     "text": [
      " x:\n",
      "[[[0.17963 0.94007 0.89969 0.96666 0.4813  0.42557 0.65129]\n",
      "  [0.36308 0.2304  0.83499 0.54115 0.47583 0.67632 0.53782]\n",
      "  [0.96438 0.54035 0.95628 0.04534 0.5705  0.66032 0.45133]]\n",
      "\n",
      " [[0.26173 0.4275  0.61006 0.99651 0.35526 0.12791 0.74525]\n",
      "  [0.32078 0.05925 0.22357 0.01019 0.3729  0.89301 0.61979]\n",
      "  [0.04982 0.67784 0.90567 0.5339  0.74233 0.80792 0.29884]]]\n",
      "\n",
      " y:\n",
      "[[[1.19677 2.56017 2.45885 2.62915 1.61817 1.53047 1.91802]\n",
      "  [1.43775 1.2591  2.30479 1.71799 1.60935 1.96663 1.71226]\n",
      "  [2.62315 1.71661 2.60199 1.04638 1.76915 1.9354  1.5704 ]]\n",
      "\n",
      " [[1.29917 1.53342 1.84054 2.70882 1.42656 1.13645 2.10697]\n",
      "  [1.3782  1.06104 1.25054 1.01024 1.45193 2.44246 1.85854]\n",
      "  [1.05108 1.96962 2.47359 1.70557 2.10082 2.24323 1.3483 ]]]\n",
      "\n",
      "1.6487212707001282\n"
     ]
    }
   ],
   "source": [
    "# Example 1: no BC\n",
    "np.set_printoptions(precision=5)\n",
    "import numpy as np\n",
    "x = np.random.random((2,3,7))\n",
    "y = np.exp(x)\n",
    "print(f\" x:\\n{x}\\n\")\n",
    "print(f\" y:\\n{y}\\n\")\n",
    "import math\n",
    "z=0.5\n",
    "print(np.exp(z))"
   ]
  },
  {
   "cell_type": "code",
   "execution_count": 6,
   "metadata": {},
   "outputs": [
    {
     "name": "stdout",
     "output_type": "stream",
     "text": [
      "  x:(13,)\n",
      "[ 90  91  92  93  94  95  96  97  98  99 100 101 102]\n",
      "\n",
      "  y:(5, 1)\n",
      "[[2]\n",
      " [3]\n",
      " [4]\n",
      " [5]\n",
      " [6]]\n",
      "\n",
      "  z:(5, 13)\n",
      "[[0 1 0 1 0 1 0 1 0 1 0 1 0]\n",
      " [0 1 2 0 1 2 0 1 2 0 1 2 0]\n",
      " [2 3 0 1 2 3 0 1 2 3 0 1 2]\n",
      " [0 1 2 3 4 0 1 2 3 4 0 1 2]\n",
      " [0 1 2 3 4 5 0 1 2 3 4 5 0]]\n",
      "\n"
     ]
    }
   ],
   "source": [
    "# Example 2: with BC\n",
    "x=np.arange(90,103,dtype=int)\n",
    "y=np.arange(2,7,dtype=int).reshape((5,1))\n",
    "print(f\"  x:{x.shape}\\n{x}\\n\")\n",
    "print(f\"  y:{y.shape}\\n{y}\\n\")\n",
    "z=np.mod(x,y)\n",
    "print(f\"  z:{z.shape}\\n{z}\\n\")"
   ]
  },
  {
   "cell_type": "markdown",
   "metadata": {},
   "source": [
    "### Reductions on ndarrays"
   ]
  },
  {
   "cell_type": "markdown",
   "metadata": {},
   "source": [
    "* Besides Numpy functions which operate on ndarrays <font color=\"green\"><b>element-wise</b></font> (UFuncs, vide supra),<br>\n",
    "  there are also Numpy functions which perform <font color=\"green\"><b>reductions</b></font> on ndarrays. \n",
    "\n",
    "* By <font color=\"green\"><b>default</b></font>, the reductions operate on the <font color=\"green\"><b>whole</b></font> ndarray.\n",
    "  \n",
    "* However, we can specify a particular <font color=\"green\"><b>axis/dimension</b></font> on which to perform the reduction.  \n",
    "\n",
    "* The functions all have a similar syntax:<br>\n",
    "  numpy.func_name(a,[axis=None],[dtype=None],[out=None])<br>\n",
    "  The function <font color=\"green\"><b>func_name</b></font> can be called in 2 different ways:\n",
    "  * a.func_name()    # <font color=\"blue\"><b>Object-Oriented way</b></font> i.e. method associated to an object\n",
    "  * np.func_name(a)  # <font color=\"blue\"><b>Procedural way</b></font> i.e. array is an argument of the function"
   ]
  },
  {
   "cell_type": "markdown",
   "metadata": {},
   "source": [
    "#### Mathematical Operations:\n",
    "* numpy.sum(), numpy.cumsum()    : sum vs. cumulative sum\n",
    "* numpy.prod(), numpy.cumprod()  : prod vs. cumulative product\n",
    "* numpy.min(), numpy.max()       : min, max of a vector\n",
    "* numpy.argmin(), numpy.argmax() : return indices of the min./max. values"
   ]
  },
  {
   "cell_type": "markdown",
   "metadata": {},
   "source": [
    "#### Statistical Operations:\n",
    "* numpy.mean, numpy.median : average, median\n",
    "* numpy.std, numpy.var     : standard deviation, variance"
   ]
  },
  {
   "cell_type": "markdown",
   "metadata": {},
   "source": [
    "#### Logical Operations:\n",
    "* numpy.any(): Test whether ANY el. along a given axis evaluates to True\n",
    "* numpy.all(): Test whether ALL el. along a given axis evaluate to True"
   ]
  },
  {
   "cell_type": "markdown",
   "metadata": {},
   "source": [
    "#### Examples"
   ]
  },
  {
   "cell_type": "markdown",
   "metadata": {},
   "source": [
    "###### Example 1:"
   ]
  },
  {
   "cell_type": "code",
   "execution_count": 7,
   "metadata": {},
   "outputs": [
    {
     "name": "stdout",
     "output_type": "stream",
     "text": [
      "  a:\n",
      "[[[ 1  2  3  4]\n",
      "  [ 5  6  7  8]\n",
      "  [ 9 10 11 12]]\n",
      "\n",
      " [[13 14 15 16]\n",
      "  [17 18 19 20]\n",
      "  [21 22 23 24]]]\n",
      "\n",
      "  a.shape:(2, 3, 4)\n",
      "\n",
      "  a.sum() (Object-oriented syntax): 300\n",
      "\n",
      "  np.sum(a) (Procedural syntax)   : 300\n",
      "\n"
     ]
    }
   ],
   "source": [
    "# Example 1: \n",
    "# Invoke sum over the complete ndarray\n",
    "a = np.arange(1,25).reshape((2,3,4))\n",
    "print(f\"  a:\\n{a}\\n\")\n",
    "print(f\"  a.shape:{a.shape}\\n\")\n",
    "print(f\"  a.sum() (Object-oriented syntax): {a.sum()}\\n\")\n",
    "print(f\"  np.sum(a) (Procedural syntax)   : {np.sum(a)}\\n\")\n"
   ]
  },
  {
   "cell_type": "code",
   "execution_count": 8,
   "metadata": {},
   "outputs": [
    {
     "name": "stdout",
     "output_type": "stream",
     "text": [
      "   a.sum(axis=0)   shape:(3, 4):\n",
      "[[14 16 18 20]\n",
      " [22 24 26 28]\n",
      " [30 32 34 36]]\n",
      "\n",
      "   a.sum(axis=1)   shape:(2, 4):\n",
      "[[15 18 21 24]\n",
      " [51 54 57 60]]\n",
      "\n",
      "   a.sum(axis=2)   shape:(2, 3):\n",
      "[[10 26 42]\n",
      " [58 74 90]]\n",
      "\n"
     ]
    }
   ],
   "source": [
    "# Invoke sums over certain axes\n",
    "a = np.arange(1,25).reshape((2,3,4))\n",
    "red0 = a.sum(axis=0)\n",
    "print(f\"   a.sum(axis=0)   shape:{red0.shape}:\\n{red0}\\n\")\n",
    "red1 = a.sum(axis=1)\n",
    "print(f\"   a.sum(axis=1)   shape:{red1.shape}:\\n{red1}\\n\")\n",
    "red2 = a.sum(axis=2)\n",
    "print(f\"   a.sum(axis=2)   shape:{red2.shape}:\\n{red2}\\n\")"
   ]
  },
  {
   "cell_type": "markdown",
   "metadata": {},
   "source": [
    "###### Example 2:"
   ]
  },
  {
   "cell_type": "code",
   "execution_count": 13,
   "metadata": {},
   "outputs": [
    {
     "name": "stdout",
     "output_type": "stream",
     "text": [
      "  b:\n",
      "[[0.4472 0.0905 0.5184 0.3882 0.9871 0.9803 0.8129]\n",
      " [0.3646 0.8106 0.5513 0.6696 0.794  0.0055 0.5066]\n",
      " [0.4301 0.8048 0.8255 0.6921 0.5685 0.4563 0.0981]]\n",
      "\n",
      "  b.shape:(3, 7)\n",
      "\n",
      "  b.mean(axis=0):\n",
      "[0.414  0.5686 0.6317 0.5833 0.7832 0.4807 0.4726]\n",
      "\n",
      "  bool_matrix:\n",
      "[[False False False False False False False]\n",
      " [False False False False False  True False]\n",
      " [False False False False False False False]]\n",
      "\n",
      "  Are they any values < 0.01? True\n"
     ]
    }
   ],
   "source": [
    "np.set_printoptions(precision=4)\n",
    "b = rnd.random((3,7))\n",
    "print(f\"  b:\\n{b}\\n\")\n",
    "print(f\"  b.shape:{b.shape}\\n\")\n",
    "\n",
    "av = b.mean(axis=0)\n",
    "print(f\"  b.mean(axis=0):\\n{av}\\n\")\n",
    "\n",
    "bool_matrix = b < 0.05\n",
    "print(f\"  bool_matrix:\\n{bool_matrix}\\n\")\n",
    "print(f\"  Are they any values < 0.01? {bool_matrix.any()}\")"
   ]
  },
  {
   "cell_type": "markdown",
   "metadata": {},
   "source": [
    "### Exercises:"
   ]
  },
  {
   "cell_type": "markdown",
   "metadata": {},
   "source": [
    "* Generate the following vector [ 1, 3, 9, 27, ... , 729] using a UFunc.\n",
    " \n",
    "* Generate a 5x10 array A with random numbers $x$ $\\in$ $[0,1[$.\n",
    "  * What is the maximum value for all $x$ in A?\n",
    "  * What is the minimum value in each column?\n",
    "  * What is the minimum value in the fourth row?\n",
    "  * Are there any random numbers $x<\\alpha$ or $x>\\beta$?<br>You can set $\\alpha:=0.02$ and $\\beta:=0.98$\n",
    "  \n",
    "* Write the function *calc_sn(n)* (<font color=\"red\">**without the use of for loops!**</font>): \n",
    "  * The function *calc_sn(n)* returns an array of partial sums $S_n$ ($n>0$) given by:<br>\n",
    "    $\\begin{equation*}\n",
    "      S_n := \\sum_{k=1}^{k=n} \\frac{sin(k)}{k^2} \n",
    "      \\end{equation*}\n",
    "    $ \n",
    "  * Generate the plot $S_n$ where $n$ $\\in$ $\\{1,\\ldots,100\\}$ to visualize the absolute convergency of the series.    \n",
    "\n",
    "  "
   ]
  },
  {
   "cell_type": "markdown",
   "metadata": {},
   "source": [
    "### Solutions:"
   ]
  },
  {
   "cell_type": "code",
   "execution_count": null,
   "metadata": {},
   "outputs": [],
   "source": [
    "# %load ../solutions/ex5.py"
   ]
  },
  {
   "cell_type": "code",
   "execution_count": 16,
   "metadata": {},
   "outputs": [
    {
     "name": "stdout",
     "output_type": "stream",
     "text": [
      "[  1   3   9  27  81 243 729]\n"
     ]
    }
   ],
   "source": [
    "A= 3**np.arange(7)\n",
    "print(A)"
   ]
  },
  {
   "cell_type": "code",
   "execution_count": 21,
   "metadata": {},
   "outputs": [
    {
     "name": "stdout",
     "output_type": "stream",
     "text": [
      "[[0.3351 0.5494 0.6649 0.262  0.1018 0.6494 0.973  0.7389 0.9094 0.5885]\n",
      " [0.783  0.2349 0.2064 0.6941 0.8842 0.3311 0.2437 0.1301 0.5826 0.0482]\n",
      " [0.1743 0.3249 0.841  0.8672 0.0826 0.6669 0.4776 0.4816 0.7935 0.7169]\n",
      " [0.2829 0.4149 0.6542 0.0026 0.3826 0.3917 0.9997 0.5137 0.0302 0.7725]\n",
      " [0.2229 0.0948 0.2573 0.0609 0.6884 0.5932 0.3926 0.9827 0.0076 0.1394]]\n",
      "0.9996663596354769\n",
      "[0.1743 0.0948 0.2064 0.0026 0.0826 0.3311 0.2437 0.1301 0.0076 0.0482]\n",
      "0.0026237216934774654\n",
      "True\n"
     ]
    }
   ],
   "source": [
    "A= rnd.random((5,10))\n",
    "print(A)\n",
    "print(A.max())\n",
    "print(A.min(axis=0))\n",
    "print(A[3,:].min())\n",
    "mybool = (A<0.02) | (A>0.98)\n",
    "print(mybool)\n",
    "print(mybool.any())"
   ]
  },
  {
   "cell_type": "code",
   "execution_count": 19,
   "metadata": {},
   "outputs": [
    {
     "data": {
      "text/plain": [
       "[<matplotlib.lines.Line2D at 0x7f58c03c5490>]"
      ]
     },
     "execution_count": 19,
     "metadata": {},
     "output_type": "execute_result"
    },
    {
     "data": {
      "image/png": "[encoded data removed]",
      "text/plain": [
       "<Figure size 432x288 with 1 Axes>"
      ]
     },
     "metadata": {
      "needs_background": "light"
     },
     "output_type": "display_data"
    }
   ],
   "source": [
    "def calc_sn(n):\n",
    "    k = np.arange(1,n+1)\n",
    "    ratio = np.sin(k)/k**2\n",
    "    return np.cumsum(ratio)\n",
    "\n",
    "import matplotlib.pyplot as plt\n",
    "plt.plot(calc_sn(100))\n"
   ]
  },
  {
   "cell_type": "code",
   "execution_count": null,
   "metadata": {},
   "outputs": [],
   "source": []
  }
 ],
 "metadata": {
  "kernelspec": {
   "display_name": "Python 3",
   "language": "python",
   "name": "python3"
  },
  "language_info": {
   "codemirror_mode": {
    "name": "ipython",
    "version": 3
   },
   "file_extension": ".py",
   "mimetype": "text/x-python",
   "name": "python",
   "nbconvert_exporter": "python",
   "pygments_lexer": "ipython3",
   "version": "3.8.8"
  },
  "latex_envs": {
   "LaTeX_envs_menu_present": true,
   "autoclose": false,
   "autocomplete": true,
   "bibliofile": "biblio.bib",
   "cite_by": "apalike",
   "current_citInitial": 1,
   "eqLabelWithNumbers": true,
   "eqNumInitial": 1,
   "hotkeys": {
    "equation": "Ctrl-E",
    "itemize": "Ctrl-I"
   },
   "labels_anchors": false,
   "latex_user_defs": false,
   "report_style_numbering": false,
   "user_envs_cfg": false
  },
  "toc": {
   "base_numbering": 1,
   "nav_menu": {},
   "number_sections": true,
   "sideBar": true,
   "skip_h1_title": false,
   "title_cell": "Table of Contents",
   "title_sidebar": "Contents",
   "toc_cell": false,
   "toc_position": {},
   "toc_section_display": true,
   "toc_window_display": false
  }
 },
 "nbformat": 4,
 "nbformat_minor": 2
}
