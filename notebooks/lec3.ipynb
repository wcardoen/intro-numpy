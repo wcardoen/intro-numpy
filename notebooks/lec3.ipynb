{
 "cells": [
  {
   "cell_type": "markdown",
   "metadata": {},
   "source": [
    "# Lecture 3"
   ]
  },
  {
   "cell_type": "code",
   "execution_count": 1,
   "metadata": {},
   "outputs": [
    {
     "name": "stdout",
     "output_type": "stream",
     "text": [
      "Check versions:\n",
      "  numpy version     :'1.20.1'\n",
      "  matplotlib version:'3.3.4'\n"
     ]
    }
   ],
   "source": [
    "%run set_env.py\n",
    "%matplotlib inline"
   ]
  },
  {
   "cell_type": "markdown",
   "metadata": {},
   "source": [
    "## Indexing and Slicing"
   ]
  },
  {
   "cell_type": "markdown",
   "metadata": {},
   "source": [
    "### 1D Array"
   ]
  },
  {
   "cell_type": "markdown",
   "metadata": {},
   "source": [
    "Exactly as in regular python (<font color=\"green\"><b>Nihil novi sub sole!</b></font>):\n",
    "* Index: zero-based (like C)\n",
    "* [start:end:step) i.e. half-open interval\n",
    "   * start: (Default:0)\n",
    "   * end: (Default: At the way to the end (inclusive))\n",
    "   * step: (Default: +1)\n",
    "* We can use negative indices:\n",
    "   * -1: last el., etc.\n",
    "* a[i]   : **indexing** vs. <br>\n",
    "  a[j:m] : **slicing**"
   ]
  },
  {
   "cell_type": "code",
   "execution_count": 2,
   "metadata": {
    "scrolled": true
   },
   "outputs": [
    {
     "name": "stdout",
     "output_type": "stream",
     "text": [
      "a := np.arange(21) :\n",
      "  a         :  [ 0  1  2  3  4  5  6  7  8  9 10 11 12 13 14 15 16 17 18 19 20]\n",
      "  a[4]      :  4\n",
      "  a[:]      :  [ 0  1  2  3  4  5  6  7  8  9 10 11 12 13 14 15 16 17 18 19 20]\n",
      "  a[5:]     :  [ 5  6  7  8  9 10 11 12 13 14 15 16 17 18 19 20]\n",
      "  a[2:12:3] :  [ 2  5  8 11]\n",
      "  a[2::5]   :  [ 2  7 12 17]\n",
      "  a[-5:-1]  :  [16 17 18 19]\n",
      "  a[-3:3:-1]:  [18 17 16 15 14 13 12 11 10  9  8  7  6  5  4]\n",
      "  a[-7::2]  :  [14 16 18 20]\n",
      "  a[0]      :  0\n",
      "  a[0:1]    :  [0]\n"
     ]
    }
   ],
   "source": [
    "# 1D Example\n",
    "a=np.arange(21)\n",
    "print(f\"a := np.arange(21) :\\n  a         :  {a}\")\n",
    "print(f\"  a[4]      :  {a[4]}\")\n",
    "print(f\"  a[:]      :  {a[:]}\")\n",
    "print(f\"  a[5:]     :  {a[5:]}\")\n",
    "print(f\"  a[2:12:3] :  {a[2:12:3]}\")\n",
    "print(f\"  a[2::5]   :  {a[2::5]}\")\n",
    "print(f\"  a[-5:-1]  :  {a[-5:-1]}\")\n",
    "print(f\"  a[-3:3:-1]:  {a[-3:3:-1]}\")\n",
    "print(f\"  a[-7::2]  :  {a[-7::2]}\")\n",
    "print(f\"  a[0]      :  {a[0]}\")     # indexing -> EL.   => LOWER rank\n",
    "print(f\"  a[0:1]    :  {a[0:1]}\")   # slicing  -> ARRAY => preserve rank"
   ]
  },
  {
   "cell_type": "markdown",
   "metadata": {},
   "source": [
    "### N-Dimensional Array"
   ]
  },
  {
   "cell_type": "markdown",
   "metadata": {},
   "source": [
    "* Indexing & slicing are quite similar as for regular Python\n",
    "* <font color=\"red\"><b>MAIN DIFFERENCE</b></font>: \n",
    "  * [i][j] (Python) \n",
    "  * becomes [i,j] (NumPy)\n",
    " "
   ]
  },
  {
   "cell_type": "code",
   "execution_count": 3,
   "metadata": {},
   "outputs": [
    {
     "name": "stdout",
     "output_type": "stream",
     "text": [
      "  NUMPY::\n",
      "  x:\n",
      "[[   1    3    9   27]\n",
      " [  81  243  729 2187]]\n",
      "\n",
      "  x[0,0] :1\n",
      "  x[1,2] :729\n",
      "  x[1,:] :[  81  243  729 2187]\n",
      "  x[1]   :[  81  243  729 2187]\n",
      "  x[:,-1]:[  27 2187]\n",
      "\n",
      "  REGULAR PYTHON::\n",
      "  x:\n",
      "[[1, 3, 9, 27], [81, 243, 729, 2187]]\n",
      "\n",
      "  x[0][0] :1\n",
      "  x[1][2] :729\n",
      "  x[1][:] :[81, 243, 729, 2187]\n",
      "  x[1]    :[81, 243, 729, 2187]\n",
      "  x[:][-1]:[81, 243, 729, 2187]\n"
     ]
    }
   ],
   "source": [
    "# Example\n",
    "print(\"  NUMPY::\")\n",
    "x = np.array([3**i for i in range(8)]).reshape(2,4)\n",
    "print(f\"  x:\\n{x}\\n\")\n",
    "print(f\"  x[0,0] :{x[0,0]}\")\n",
    "print(f\"  x[1,2] :{x[1,2]}\")\n",
    "print(f\"  x[1,:] :{x[1,:]}\")\n",
    "print(f\"  x[1]   :{x[1]}\")\n",
    "print(f\"  x[:,-1]:{x[:,-1]}\\n\")\n",
    "\n",
    "print(\"  REGULAR PYTHON::\")\n",
    "x = x.tolist()\n",
    "print(f\"  x:\\n{x}\\n\")\n",
    "print(f\"  x[0][0] :{x[0][0]}\")\n",
    "print(f\"  x[1][2] :{x[1][2]}\")\n",
    "print(f\"  x[1][:] :{x[1][:]}\") \n",
    "print(f\"  x[1]    :{x[1]}\")\n",
    "print(f\"  x[:][-1]:{x[:][-1]}\")       # SEEMINGLY WRONG RESULT!!!! What's going on?"
   ]
  },
  {
   "cell_type": "code",
   "execution_count": 4,
   "metadata": {},
   "outputs": [
    {
     "name": "stdout",
     "output_type": "stream",
     "text": [
      "  x[:]   : [[1, 3, 9, 27], [81, 243, 729, 2187]]\n",
      "  len(x) : 2\n",
      "  y[-1]  : [81, 243, 729, 2187]\n",
      "  res    : [27, 2187]\n"
     ]
    }
   ],
   "source": [
    "# Explanation (i.e. Under the Hood)\n",
    "print(f\"  x[:]   : {x[:]}\")\n",
    "print(f\"  len(x) : {len(x)}\")\n",
    "y = x[:]\n",
    "print(f\"  y[-1]  : {y[-1]}\")\n",
    "\n",
    "# THEREFORE:\n",
    "res =[ item[-1] for item in y]\n",
    "print(f\"  res    : {res}\")"
   ]
  },
  {
   "cell_type": "markdown",
   "metadata": {},
   "source": [
    "<font color=\"green\"><b>NOTE: Numpy slicing has some additional features:</b></font><br>\n",
    " * if #indices < #dim: Assumes ALL of the remaining dimensions\n",
    " * ellipsis: ... : Consider complete dimensions up to the index\n",
    " * axis          : Synonymous for dimension (C style)\n",
    " * index  : lowering of dimensionality -> <b>always COPY</b>\n",
    " * slicing: preserves dimensionality   -> <b>always VIEW</b>"
   ]
  },
  {
   "cell_type": "code",
   "execution_count": 5,
   "metadata": {},
   "outputs": [
    {
     "name": "stdout",
     "output_type": "stream",
     "text": [
      "  a.shape:(3, 4, 5, 6, 7, 6)\n",
      "  b.shape:(2, 1, 5, 6, 7, 6)\n",
      "  c.shape:(2, 5, 6, 7, 6)\n"
     ]
    }
   ],
   "source": [
    "a = rnd.random((3,4,5,6,7,6))\n",
    "print(f\"  a.shape:{a.shape}\")\n",
    "b = a[0:2,0:1]  # Slice in 2nd dim. ->  preserve dimensionality\n",
    "print(f\"  b.shape:{b.shape}\") \n",
    "c = a[0:2,0]    # Index for 2nd dim. -> lowering dimensionality\n",
    "print(f\"  c.shape:{c.shape}\")"
   ]
  },
  {
   "cell_type": "markdown",
   "metadata": {},
   "source": [
    "### Slicing, indexing: View vs. Copy"
   ]
  },
  {
   "cell_type": "markdown",
   "metadata": {},
   "source": [
    "#### Slicing:"
   ]
  },
  {
   "cell_type": "code",
   "execution_count": 26,
   "metadata": {},
   "outputs": [
    {
     "name": "stdout",
     "output_type": "stream",
     "text": [
      " a:\n",
      "[[0.6005 0.5366 0.3474 0.2921 0.1375]\n",
      " [0.3538 0.5446 0.8767 0.1993 0.0615]\n",
      " [0.3074 0.3863 0.1956 0.4775 0.7104]\n",
      " [0.0827 0.7281 0.9987 0.7443 0.9145]\n",
      " [0.3228 0.0833 0.5194 0.8159 0.0134]]\n",
      "\n",
      " b:\n",
      "[[0.7443]]\n",
      "\n",
      " b.flags:\n",
      "  C_CONTIGUOUS : True\n",
      "  F_CONTIGUOUS : True\n",
      "  OWNDATA : False\n",
      "  WRITEABLE : True\n",
      "  ALIGNED : True\n",
      "  WRITEBACKIFCOPY : False\n",
      "  UPDATEIFCOPY : False\n",
      "\n",
      "\n",
      " b:\n",
      "[[0.]]\n",
      "\n",
      " a:\n",
      "[[0.6005 0.5366 0.3474 0.2921 0.1375]\n",
      " [0.3538 0.5446 0.8767 0.1993 0.0615]\n",
      " [0.3074 0.3863 0.1956 0.4775 0.7104]\n",
      " [0.0827 0.7281 0.9987 0.     0.9145]\n",
      " [0.3228 0.0833 0.5194 0.8159 0.0134]]\n",
      "\n"
     ]
    }
   ],
   "source": [
    "a = np.random.random((5,5))\n",
    "print(f\" a:\\n{a}\\n\")\n",
    "\n",
    "# B is a slice of A => VIEW\n",
    "b = a[3:4,3:4]\n",
    "print(f\" b:\\n{b}\\n\")\n",
    "print(f\" b.flags:\\n{b.flags}\\n\")\n",
    "\n",
    "#Modifying B:\n",
    "b[:,:]=0.0\n",
    "print(f\" b:\\n{b}\\n\")\n",
    "print(f\" a:\\n{a}\\n\")"
   ]
  },
  {
   "cell_type": "markdown",
   "metadata": {},
   "source": [
    "#### Working on copy of a slice:"
   ]
  },
  {
   "cell_type": "code",
   "execution_count": 7,
   "metadata": {},
   "outputs": [
    {
     "name": "stdout",
     "output_type": "stream",
     "text": [
      " a:\n",
      "[[0.61742833 0.28193953 0.52047071 0.61866622 0.07796352]\n",
      " [0.6606416  0.99755799 0.33075169 0.42831698 0.26439284]\n",
      " [0.19575688 0.13660916 0.14983247 0.10108075 0.03133373]\n",
      " [0.15958754 0.78919555 0.43324334 0.16774277 0.78575313]\n",
      " [0.05879238 0.92142664 0.26602486 0.90785145 0.34120057]]\n",
      "\n",
      " c:\n",
      "[[0.16774277 0.78575313]\n",
      " [0.90785145 0.34120057]]\n",
      "\n",
      " c.flags:\n",
      "  C_CONTIGUOUS : True\n",
      "  F_CONTIGUOUS : False\n",
      "  OWNDATA : True\n",
      "  WRITEABLE : True\n",
      "  ALIGNED : True\n",
      "  WRITEBACKIFCOPY : False\n",
      "  UPDATEIFCOPY : False\n",
      "\n",
      "\n",
      " c:\n",
      "[[-1. -1.]\n",
      " [-1. -1.]]\n",
      "\n",
      " a:\n",
      "[[0.61742833 0.28193953 0.52047071 0.61866622 0.07796352]\n",
      " [0.6606416  0.99755799 0.33075169 0.42831698 0.26439284]\n",
      " [0.19575688 0.13660916 0.14983247 0.10108075 0.03133373]\n",
      " [0.15958754 0.78919555 0.43324334 0.16774277 0.78575313]\n",
      " [0.05879238 0.92142664 0.26602486 0.90785145 0.34120057]]\n",
      "\n"
     ]
    }
   ],
   "source": [
    "a = np.random.random((5,5))\n",
    "print(f\" a:\\n{a}\\n\")\n",
    "\n",
    "# C is NOT a view BUT a copy\n",
    "c = a[3:5,3:5].copy()\n",
    "print(f\" c:\\n{c}\\n\")\n",
    "print(f\" c.flags:\\n{c.flags}\\n\")\n",
    "\n",
    "# Modifying C:\n",
    "c[:,:] = -1.0\n",
    "print(f\" c:\\n{c}\\n\")\n",
    "print(f\" a:\\n{a}\\n\")"
   ]
  },
  {
   "cell_type": "markdown",
   "metadata": {},
   "source": [
    "#### Example of indexing:"
   ]
  },
  {
   "cell_type": "code",
   "execution_count": null,
   "metadata": {},
   "outputs": [],
   "source": [
    "# D is obtained by pure indexing\n",
    "a = np.random.random((5,5))\n",
    "print(f\" a:\\n{a}\\n\")\n",
    "\n",
    "d = a[1,2]\n",
    "print(f\" d:\\n{d}\\n\")\n",
    "print(f\" d.flags:\\n{d.flags}\\n\")"
   ]
  },
  {
   "cell_type": "markdown",
   "metadata": {},
   "source": [
    "### What about reshaping?"
   ]
  },
  {
   "cell_type": "markdown",
   "metadata": {},
   "source": [
    "<i>From the Numpy manual</i>:<br>\n",
    "It is <b>not always</b> possible to change the shape of an array without copying the data.\n"
   ]
  },
  {
   "cell_type": "markdown",
   "metadata": {},
   "source": [
    "#### a. Example of reshaping without copying"
   ]
  },
  {
   "cell_type": "code",
   "execution_count": null,
   "metadata": {},
   "outputs": [],
   "source": [
    "# Default Memory layout is C\n",
    "x = np.random.random((4,6))\n",
    "print(f\" x (Orig.):\\n{x}\\n\")\n",
    "print(f\" x.flags:\\n{x.flags}\\n\")\n",
    "y=x.reshape((6,4))\n",
    "print(f\" x (After Reshaping):\\n{y}\\n\")\n",
    "print(f\" x.flags:\\n{y.flags}\")"
   ]
  },
  {
   "cell_type": "markdown",
   "metadata": {},
   "source": [
    "#### b.More problematic case:"
   ]
  },
  {
   "cell_type": "markdown",
   "metadata": {},
   "source": [
    "Note:<br>\n",
    "We can create a view on an ndarray using the view method (vide infra)"
   ]
  },
  {
   "cell_type": "code",
   "execution_count": null,
   "metadata": {},
   "outputs": [],
   "source": [
    "# Create a rdn matrix A\n",
    "a = np.random.random((4,6))\n",
    "print(f\" a:\\n{a}\\n\")\n",
    "print(f\" a.flags:\\n{a.flags}\")"
   ]
  },
  {
   "cell_type": "code",
   "execution_count": null,
   "metadata": {},
   "outputs": [],
   "source": [
    "b = a.T\n",
    "print(f\" b:\\n{b}\\n\")\n",
    "print(f\" b.flags:\\n{b.flags}\")"
   ]
  },
  {
   "cell_type": "code",
   "execution_count": null,
   "metadata": {},
   "outputs": [],
   "source": [
    "# We FORCE to be a view on b\n",
    "c = b.view()\n",
    "print(f\" c:\\n{c}\\n\")\n",
    "print(f\" c.flags:\\n{c.flags}\")"
   ]
  },
  {
   "cell_type": "code",
   "execution_count": null,
   "metadata": {},
   "outputs": [],
   "source": [
    "# Force c to reshape to a. \n",
    "# This requires a copy (can't because it is a VIEW) => Error\n",
    "c.shape=(4,6)"
   ]
  },
  {
   "cell_type": "markdown",
   "metadata": {},
   "source": [
    "### Exercises:"
   ]
  },
  {
   "cell_type": "markdown",
   "metadata": {},
   "source": [
    "* <b>Exercise 3.1</b>: \n",
    "  * Generate the following $2D$ matrix A:<br>\n",
    "    $$\\begin{bmatrix}\n",
    "      1 & 2 & 3 & 4 & 5  & 6\\\\\n",
    "      7 & 8 & 9 & 10 & 11 & 12\\\\ \n",
    "      13 & 14 & 15 & 16 & 17 & 18 \\\\\n",
    "      19 & 20 & 21 & 22 & 23 & 24\\\\\n",
    "      25 & 26 & 27 & 28 & 29 & 30\n",
    "      \\end{bmatrix}$$\n",
    "  * Extract the following $2D$ matrix B from A:<br>\n",
    "    $$\\begin{bmatrix}\n",
    "       1 & 3 \\\\\n",
    "       7 & 9 \\\\\n",
    "      13 & 15 \\\\\n",
    "      19 & 21 \\\\\n",
    "      25 & 27\n",
    "      \\end{bmatrix}$$\n",
    "  * Extract the following $1D$ vector C from A:<br>\n",
    "    $$\\begin{bmatrix}\n",
    "      8 & 10 & 12\n",
    "      \\end{bmatrix}$$ \n",
    "  * Could you extract the same object as a $2D$ matrix?  \n",
    "  * Extract the following $2D$ matrix E from A:<br>\n",
    "    $$\\begin{bmatrix}\n",
    "      2 & 5 \\\\\n",
    "      20 & 23\n",
    "      \\end{bmatrix}$$\n",
    "* <b>Exercise 3.2</b>:\n",
    "  * Create a random matrix (7x7) with values $[0.0,1.0)$:<br>\n",
    "    Replace the core 3x3 matrix of the above matrix with ones.<br>\n",
    "    (Hint: use the np.random.random function to create the matrix)\n",
    "* <b>Exercise 3.3</b>:\n",
    "  * Create the following (8x8) checkerboard containing 0 and 1's (type integer) in 2 different ways:\n",
    "    $$\\begin{bmatrix}\n",
    "      0 & 1 & 0 & 1 &  0 & 1 & 0 & 1\\\\\n",
    "      1 & 0 & 1 &  0 & 1 & 0 & 1 & 0\\\\\n",
    "      0 & 1 & 0 & 1 &  0 & 1 & 0 & 1\\\\\n",
    "      1 & 0 & 1 &  0 & 1 & 0 & 1 & 0\\\\\n",
    "      0 & 1 & 0 & 1 &  0 & 1 & 0 & 1\\\\\n",
    "      1 & 0 & 1 &  0 & 1 & 0 & 1 & 0\\\\\n",
    "      0 & 1 & 0 & 1 &  0 & 1 & 0 & 1 \\\\\n",
    "      1 & 0 & 1 &  0 & 1 & 0 & 1 & 0\n",
    "      \\end{bmatrix}$$\n",
    "    * ONLY using slicing\n",
    "    * using the numpy np.tile function (use help to find the syntax)"
   ]
  },
  {
   "cell_type": "markdown",
   "metadata": {},
   "source": [
    "### Solution:"
   ]
  },
  {
   "cell_type": "code",
   "execution_count": null,
   "metadata": {},
   "outputs": [],
   "source": [
    "# %load ../solutions/ex3.py"
   ]
  },
  {
   "cell_type": "code",
   "execution_count": 35,
   "metadata": {},
   "outputs": [
    {
     "name": "stdout",
     "output_type": "stream",
     "text": [
      "[[ 1  3]\n",
      " [ 7  9]\n",
      " [13 15]\n",
      " [19 21]\n",
      " [25 27]]\n",
      "[ 8 10 12]\n",
      "[[ 8 10 12]]\n",
      "[[ 2  5]\n",
      " [20 23]]\n"
     ]
    }
   ],
   "source": [
    "A = np.arange(1,31).reshape((5,6))\n",
    "A\n",
    "A1=A[:,0:3:2]\n",
    "print(A1)\n",
    "A2=A[1,1::2]\n",
    "print(A2)\n",
    "A3=A[1:2,1::2]\n",
    "print(A3)\n",
    "A4 =A[0::3, 1::3]\n",
    "print(A4)"
   ]
  },
  {
   "cell_type": "code",
   "execution_count": 18,
   "metadata": {},
   "outputs": [
    {
     "data": {
      "text/plain": [
       "array([[0.9614, 0.7606, 0.2724, 0.5104, 0.9874, 0.0526, 0.0868],\n",
       "       [0.3374, 0.8037, 0.7284, 0.3894, 0.4551, 0.8864, 0.0145],\n",
       "       [0.993 , 0.106 , 0.    , 0.    , 0.    , 0.5284, 0.0682],\n",
       "       [0.961 , 0.9055, 0.    , 0.    , 0.    , 0.1991, 0.5308],\n",
       "       [0.2997, 0.3603, 0.    , 0.    , 0.    , 0.5914, 0.0217],\n",
       "       [0.2895, 0.4488, 0.8675, 0.0081, 0.5394, 0.7965, 0.2505],\n",
       "       [0.5   , 0.7562, 0.2532, 0.2258, 0.5305, 0.5604, 0.6871]])"
      ]
     },
     "execution_count": 18,
     "metadata": {},
     "output_type": "execute_result"
    }
   ],
   "source": [
    "# 3.2\n",
    "np.set_printoptions(precision=4)\n",
    "B = rnd.random((7,7))\n",
    "B[2:5,2:5]=0.0\n",
    "B"
   ]
  },
  {
   "cell_type": "code",
   "execution_count": 39,
   "metadata": {},
   "outputs": [
    {
     "name": "stdout",
     "output_type": "stream",
     "text": [
      "[[1 1 1 1 1 1 1 1]\n",
      " [1 1 1 1 1 1 1 1]\n",
      " [1 1 1 1 1 1 1 1]\n",
      " [1 1 1 1 1 1 1 1]\n",
      " [1 1 1 1 1 1 1 1]\n",
      " [1 1 1 1 1 1 1 1]\n",
      " [1 1 1 1 1 1 1 1]\n",
      " [1 1 1 1 1 1 1 1]]\n",
      "[[0 1 0 1 0 1 0 1]\n",
      " [1 1 1 1 1 1 1 1]\n",
      " [0 1 0 1 0 1 0 1]\n",
      " [1 1 1 1 1 1 1 1]\n",
      " [0 1 0 1 0 1 0 1]\n",
      " [1 1 1 1 1 1 1 1]\n",
      " [0 1 0 1 0 1 0 1]\n",
      " [1 1 1 1 1 1 1 1]]\n",
      "[[0 1 0 1 0 1 0 1]\n",
      " [1 0 1 0 1 0 1 0]\n",
      " [0 1 0 1 0 1 0 1]\n",
      " [1 0 1 0 1 0 1 0]\n",
      " [0 1 0 1 0 1 0 1]\n",
      " [1 0 1 0 1 0 1 0]\n",
      " [0 1 0 1 0 1 0 1]\n",
      " [1 0 1 0 1 0 1 0]]\n"
     ]
    }
   ],
   "source": [
    "# Checkerboard\n",
    "A = np.ones((8,8),dtype='int64')\n",
    "print(A)\n",
    "A[0::2,0::2]=0\n",
    "print(A)\n",
    "A[1::2,1::2]=0\n",
    "print(A)\n"
   ]
  },
  {
   "cell_type": "code",
   "execution_count": 40,
   "metadata": {},
   "outputs": [],
   "source": [
    "np.tile?"
   ]
  },
  {
   "cell_type": "code",
   "execution_count": 41,
   "metadata": {},
   "outputs": [
    {
     "data": {
      "text/plain": [
       "array([[0, 1, 0, 1, 0, 1, 0, 1],\n",
       "       [1, 0, 1, 0, 1, 0, 1, 0],\n",
       "       [0, 1, 0, 1, 0, 1, 0, 1],\n",
       "       [1, 0, 1, 0, 1, 0, 1, 0],\n",
       "       [0, 1, 0, 1, 0, 1, 0, 1],\n",
       "       [1, 0, 1, 0, 1, 0, 1, 0],\n",
       "       [0, 1, 0, 1, 0, 1, 0, 1],\n",
       "       [1, 0, 1, 0, 1, 0, 1, 0]])"
      ]
     },
     "execution_count": 41,
     "metadata": {},
     "output_type": "execute_result"
    }
   ],
   "source": [
    "np.tile([[0,1],[1,0]],(4,4))"
   ]
  },
  {
   "cell_type": "code",
   "execution_count": null,
   "metadata": {},
   "outputs": [],
   "source": []
  }
 ],
 "metadata": {
  "kernelspec": {
   "display_name": "Python 3",
   "language": "python",
   "name": "python3"
  },
  "language_info": {
   "codemirror_mode": {
    "name": "ipython",
    "version": 3
   },
   "file_extension": ".py",
   "mimetype": "text/x-python",
   "name": "python",
   "nbconvert_exporter": "python",
   "pygments_lexer": "ipython3",
   "version": "3.8.8"
  },
  "latex_envs": {
   "LaTeX_envs_menu_present": true,
   "autoclose": false,
   "autocomplete": true,
   "bibliofile": "biblio.bib",
   "cite_by": "apalike",
   "current_citInitial": 1,
   "eqLabelWithNumbers": true,
   "eqNumInitial": 1,
   "hotkeys": {
    "equation": "Ctrl-E",
    "itemize": "Ctrl-I"
   },
   "labels_anchors": false,
   "latex_user_defs": false,
   "report_style_numbering": false,
   "user_envs_cfg": false
  },
  "toc": {
   "base_numbering": 1,
   "nav_menu": {},
   "number_sections": true,
   "sideBar": true,
   "skip_h1_title": false,
   "title_cell": "Table of Contents",
   "title_sidebar": "Contents",
   "toc_cell": false,
   "toc_position": {},
   "toc_section_display": true,
   "toc_window_display": false
  }
 },
 "nbformat": 4,
 "nbformat_minor": 2
}
