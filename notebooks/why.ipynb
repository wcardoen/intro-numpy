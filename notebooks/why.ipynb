{
 "cells": [
  {
   "cell_type": "markdown",
   "metadata": {},
   "source": [
    "# Why Numpy?"
   ]
  },
  {
   "cell_type": "markdown",
   "metadata": {},
   "source": [
    "### Limitations of Traditional Python (in Scientific Applications) "
   ]
  },
  {
   "cell_type": "markdown",
   "metadata": {},
   "source": [
    "* Python's list can contain objects of diffferent types\n",
    "  * e.g.: a = [1,'2',3.0,1+3j,[4,5],{'UT':'SLC'}]\n",
    "  * <font color=\"green\"><b>Pro</b></font>: Very flexible \n",
    "  * <font color=\"red\"><b>Con</b></font>: Slow \n",
    "* In scientific applications, we mostly need <b><font color=\"blue\">homogeneous</font></b> arrays (e.g. int, float, double,..)<br>\n",
    "  * double x[20]     \n",
    "  * double precison, dimension(20) :: x  \n",
    "* CPython is <b><font color=\"red\">single-threaded</font></b> due to its <b><font color=\"red\">Global Interpretor Lock (GIL)</font></b><br>\n",
    "  https://wiki.python.org/moin/GlobalInterpreterLock\n",
    "  * <b><font color=\"green\">Increasing</font></b> #cores/CPU but <b><font color=\"red\">decreasing</font></b> clock rates \n",
    "  * => multi-threading becomes a conditio sine qua non"
   ]
  },
  {
   "cell_type": "markdown",
   "metadata": {},
   "source": [
    "### What is NumPy?"
   ]
  },
  {
   "cell_type": "markdown",
   "metadata": {},
   "source": [
    "* started in 2006 (based on previous packages numeric & numarray)\n",
    "* provides:\n",
    "  1. An array object <font color=\"green\"><b>(ndarray)</b></font> over arbitrary items of the <font color=\"green\"><b>same</b></font> type.\n",
    "  2. Fast mathematical operations over arrays\n",
    "  3. Linear Algebra, Fourier Transforms, Random Number Generation\n",
    "* can run in a <font color=\"green\"><b>multi-threaded</b></font> fashion by relying on C/Fortran libraries<br>\n",
    "  such as BLAS/LAPACK (MKL, OpenBlas,..), Mersenne Twister (MT)\n",
    "* forms the corner stone of a lot of (python based) scientific packages, such as:\n",
    "  * scipy: fundamental library for scientific computing\n",
    "  * matplotlib: 2D plotting \n",
    "  * pandas: data structures & analysis\n",
    "  * dask: parallel scaling module\n",
    "  * scikit-learn: supervised machine learning\n",
    "  * scikit-image: image processing in python\n",
    "  * ..."
   ]
  },
  {
   "cell_type": "markdown",
   "metadata": {},
   "source": [
    "#### Further Reading (Advanced)"
   ]
  },
  {
   "cell_type": "markdown",
   "metadata": {},
   "source": [
    "<a href=\"http://conference.scipy.org/proceedings/scipy2018/pdfs/anton_malakhov.pdf\">\n",
    "    Composable Multi-Threading and Multi-Processing for Numeric Libraries (by Anton Malakhov et al. (Intel))</a>"
   ]
  },
  {
   "cell_type": "markdown",
   "metadata": {},
   "source": [
    "### How to invoke numpy?"
   ]
  },
  {
   "cell_type": "code",
   "execution_count": null,
   "metadata": {},
   "outputs": [],
   "source": [
    "import numpy as np\n",
    "print(f\"  Version:{np.__version__}\")\n",
    "print(f\"  Configuration:\\{np.show_config()}\")"
   ]
  },
  {
   "cell_type": "markdown",
   "metadata": {},
   "source": [
    "### Simple test/comparison with standard Python"
   ]
  },
  {
   "cell_type": "code",
   "execution_count": null,
   "metadata": {},
   "outputs": [],
   "source": [
    "SZ=10000"
   ]
  },
  {
   "cell_type": "code",
   "execution_count": null,
   "metadata": {},
   "outputs": [],
   "source": [
    "%timeit [item**2 for item in range(SZ)]"
   ]
  },
  {
   "cell_type": "code",
   "execution_count": null,
   "metadata": {},
   "outputs": [],
   "source": [
    "%timeit np.arange(SZ)**2"
   ]
  },
  {
   "cell_type": "markdown",
   "metadata": {},
   "source": [
    "### Documentation/Help "
   ]
  },
  {
   "cell_type": "markdown",
   "metadata": {},
   "source": [
    "* http://www.numpy.org/\n",
    "* <a href=\"https://www.enthought.com/wp-content/uploads/Enthought-MATLAB-to-Python-White-Paper.pdf\">MATLAB to Python - A Migration Guide (Enthought)</a> \n",
    "* <a href=\"https://www.scipy.org/scipylib/mailing-lists.html\">Numpy Mailing lists</a>  \n",
    "* <a href=\"https://stackoverflow.com/\">Stack Overflow</a>  \n",
    "* Directly within Numpy/Jupyter:\n",
    "  * using TAB & ?\n",
    "  * help(<name>) e.g. help(np.equal)\n",
    "  * np.info()  # Info on object (including ufuncs)\n",
    "  * np.lookfor()        # Searches for keywords in doc strings\n",
    "  * np.source(function) # Works <font color=\"red\"><b>ONLY</b></font> for function written purely in Python\n",
    "* <a href=\"https://github.com/numpy/numpy\">Numpy Source Code</a> (Github)  "
   ]
  },
  {
   "cell_type": "code",
   "execution_count": null,
   "metadata": {},
   "outputs": [],
   "source": [
    "# np.equal?\n",
    "# help(np.equal)\n",
    "# np.info()  #Info on object (also useful for ufunc)\n",
    "# np.lookfor() # Looks for keyword in doc string\n",
    "# np.source(np.interp)"
   ]
  }
 ],
 "metadata": {
  "kernelspec": {
   "display_name": "Python 3",
   "language": "python",
   "name": "python3"
  },
  "language_info": {
   "codemirror_mode": {
    "name": "ipython",
    "version": 3
   },
   "file_extension": ".py",
   "mimetype": "text/x-python",
   "name": "python",
   "nbconvert_exporter": "python",
   "pygments_lexer": "ipython3",
   "version": "3.7.4"
  }
 },
 "nbformat": 4,
 "nbformat_minor": 2
}
