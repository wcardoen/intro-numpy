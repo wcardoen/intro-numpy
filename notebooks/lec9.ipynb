{
 "cells": [
  {
   "cell_type": "markdown",
   "metadata": {},
   "source": [
    "# Lecture 9"
   ]
  },
  {
   "cell_type": "code",
   "execution_count": null,
   "metadata": {},
   "outputs": [],
   "source": [
    "%run set_env.py\n",
    "%matplotlib inline"
   ]
  },
  {
   "cell_type": "markdown",
   "metadata": {},
   "source": [
    "## Numpy as building stone for a few other packages"
   ]
  },
  {
   "cell_type": "markdown",
   "metadata": {},
   "source": [
    "### Scipy"
   ]
  },
  {
   "cell_type": "markdown",
   "metadata": {},
   "source": [
    "Scipy contains specialized modules related to science & engineering.<br>\n",
    "Among them we have the following modules:\n",
    "* Special functions (<font color=\"green\"><b>scipy.special</b></font>)\n",
    "* Integration (<font color=\"green\"><b>scipy.integrate</b></font>)\n",
    "* Optimization (<font color=\"green\"><b>scipy.optimize</b></font>)\n",
    "* Interpolation (<font color=\"green\"><b>scipy.interpolate</b></font>)\n",
    "* Fourier Transforms (<font color=\"green\"><b>scipy.fftpack</b></font>) \n",
    "* Signal Processing (<font color=\"green\"><b>scipy.signal</b></font>)\n",
    "* Linear Algebra (<font color=\"green\"><b>scipy.linalg</b></font>)\n",
    "* Compressed Sparse Graph Routines (<font color=\"green\"><b>scipy.sparse.csgraph</b></font>)  \n",
    "* Spatial Data Structures & algorithms (<font color=\"green\"><b>scipy.spatial</b></font>) \n",
    "* Statistics (<font color=\"green\"><b>scipy.stats</b></font>) \n",
    "* Multidimensional Image Processing (<font color=\"green\"><b>scipy.ndimage</b></font>)\n",
    "* File IO (<font color=\"green\"><b>scipy.io</b></font>)"
   ]
  },
  {
   "cell_type": "markdown",
   "metadata": {},
   "source": [
    "#### Special functions (scipy.special)"
   ]
  },
  {
   "cell_type": "markdown",
   "metadata": {},
   "source": [
    "* contains numerous special functions of mathematical physics such as:\n",
    "  * airy\n",
    "  * elliptic\n",
    "  * bessel\n",
    "  * gamma\n",
    "  * beta\n",
    "  * hypergeometric\n",
    "  * parabolic cylinder\n",
    "  * mathieu\n",
    "  * struve\n",
    "  * kelvin\n",
    "  * $\\ldots$\n",
    "* low-level stats functions are to be found in the stats module  \n",
    "* help(special)\n",
    " "
   ]
  },
  {
   "cell_type": "markdown",
   "metadata": {},
   "source": [
    "##### Example"
   ]
  },
  {
   "cell_type": "code",
   "execution_count": null,
   "metadata": {},
   "outputs": [],
   "source": [
    "# Example Special functions\n",
    "import numpy as np\n",
    "import matplotlib.pyplot as plt\n",
    "from math import exp, factorial, pow, pi, sqrt\n",
    "from scipy.special import hermite\n",
    "\n",
    "preA=np.array([sqrt(1.0/( pow(2.0,i)*factorial(i)*\\\n",
    "sqrt(pi))) for i in range(26)])\n",
    "xi=np.linspace(-8.0,8.0,641)\n",
    "prob0=(preA[0]*np.exp(-xi*xi/2.)* hermite(0)(xi))**2\n",
    "prob1=(preA[1]*np.exp(-xi*xi/2.)* hermite(1)(xi))**2\n",
    "prob5=(preA[5]*np.exp(-xi*xi/2.)* hermite(5)(xi))**2\n",
    "prob10=(preA[10]*np.exp(-xi*xi/2.)* hermite(10)(xi))**2\n",
    "prob25=(preA[25]*np.exp(-xi*xi/2.)* hermite(25)(xi))**2\n",
    "plt.plot(xi,prob0,label=r'$|\\psi_0(\\xi)|^2$')\n",
    "plt.plot(xi,prob1,label=r'$|\\psi_1(\\xi)|^2$')\n",
    "plt.plot(xi,prob5,label=r'$|\\psi_5(\\xi)|^2$')\n",
    "plt.plot(xi,prob10,label=r'$|\\psi_{10}(\\xi)|^2$')\n",
    "plt.plot(xi,prob25,label=r'$|\\psi_{25}(\\xi)|^2$')\n",
    "plt.title(r'$|\\psi_n(\\xi)|^2$ for the QM harm. oscillator')\n",
    "plt.xlabel(r'$\\xi$')\n",
    "plt.ylabel(r'$|\\psi_n(\\xi)|^2$')\n",
    "plt.legend()\n",
    "plt.grid(True);"
   ]
  },
  {
   "cell_type": "markdown",
   "metadata": {},
   "source": [
    "#### Integration (scipy.integrate)"
   ]
  },
  {
   "cell_type": "markdown",
   "metadata": {},
   "source": [
    "* provides several integration techniques such as\n",
    "  * quad: general purpose integration\n",
    "  * dblquad: general purpose double integration \n",
    "  * ...\n",
    "* help(integrate)  "
   ]
  },
  {
   "cell_type": "markdown",
   "metadata": {},
   "source": [
    "##### Example"
   ]
  },
  {
   "cell_type": "markdown",
   "metadata": {},
   "source": [
    "Integrals to be calculated:<br>\n",
    "$\\begin{eqnarray}\n",
    "      \\int_{0}^{1}\\, x^3\\,dx &= &\\frac{1}{4} \\nonumber \\\\\n",
    "      \\frac{1}{\\sqrt{2\\,\\pi}} \\,\\int_{-\\infty}^{\\infty}\\, e^{-x^2/2} \\,dx & = & 1 \\hspace{0.25in} \n",
    "      \\text{(Poisson's integral)} \\nonumber \\\\\n",
    "      \\int_{-\\infty}^{\\infty}\\,\\frac{\\cos(x)}{x^2\\,+\\,a^2}\\,dx & = & \\pi\\,\\frac{e^{-a}}{a} \n",
    "      \\hspace{0.25in} a=2.1=> 0.183194388278 \\nonumber\n",
    "\\end{eqnarray}$\n"
   ]
  },
  {
   "cell_type": "code",
   "execution_count": null,
   "metadata": {},
   "outputs": [],
   "source": [
    "# Example: \n",
    "import scipy\n",
    "from scipy.integrate import quad,dblquad\n",
    "from math import pi,sqrt,exp,cos\n",
    "\n",
    "a=2.1; VAL=1000000\n",
    "integ1 = quad(lambda x: x**3, 0.0, 1.0)\n",
    "integ2 = quad(lambda x:1/(sqrt(2.0*pi))*exp(-x*x/2.),-np.inf,np.inf)\n",
    "integ3 = quad(lambda x:cos(x)/(x**2+a**2),-np.inf,+np.inf,limit=VAL)\n",
    "val3 = pi *exp(-a)/a\n",
    "\n",
    "print(f\"  integ1:{integ1} and should be 0.25\")\n",
    "print(f\"  integ2:{integ2} and should be 1.00\")\n",
    "print(f\"  integ3:{integ3} and should be {val3}\")"
   ]
  },
  {
   "cell_type": "markdown",
   "metadata": {},
   "source": [
    "#### Optimization (scipy.optimize)"
   ]
  },
  {
   "cell_type": "markdown",
   "metadata": {},
   "source": [
    "* This package contains several optimization algorithms\n",
    "* Help: help(scipy.optimize)\n",
    "* Module contains:\n",
    "  * Constrained & unconstrained minimization \n",
    "  * Least-square minimization\n",
    "  * $\\ldots$"
   ]
  },
  {
   "cell_type": "markdown",
   "metadata": {},
   "source": [
    "#### Interpolation(scipy.interpolate)"
   ]
  },
  {
   "cell_type": "markdown",
   "metadata": {},
   "source": [
    "* This package contains several general interpolation techniques, such as:\n",
    "  * $1D$ interpolation\n",
    "  * Multivariate data interpolation\n",
    "  * Spline interpolation\n",
    "  * Radial basis functions for smoothing/interpolation\n",
    "  * $\\ldots$"
   ]
  },
  {
   "cell_type": "markdown",
   "metadata": {},
   "source": [
    "### Other packages"
   ]
  },
  {
   "cell_type": "markdown",
   "metadata": {},
   "source": [
    "* <a href=\"https://matplotlib.org/\">matplotlib</a>: $2D$ plotting library \n",
    "* <a href=\"https://pandas.pydata.org/\">pandas</a>: Data Analysis\n",
    "* <a href=\"http://www.astropy.org/\">astropy</a>: Astronomy\n",
    "* <a href=\"http://scikit-learn.org/\">scikit-learn</a>: ML\n",
    "* $\\ldots$"
   ]
  }
 ],
 "metadata": {
  "kernelspec": {
   "display_name": "Python 3",
   "language": "python",
   "name": "python3"
  },
  "language_info": {
   "codemirror_mode": {
    "name": "ipython",
    "version": 3
   },
   "file_extension": ".py",
   "mimetype": "text/x-python",
   "name": "python",
   "nbconvert_exporter": "python",
   "pygments_lexer": "ipython3",
   "version": "3.7.4"
  }
 },
 "nbformat": 4,
 "nbformat_minor": 2
}
