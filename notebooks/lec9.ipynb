{
 "cells": [
  {
   "cell_type": "markdown",
   "id": "2a42653d-64e7-45d1-b05a-8477da7094e7",
   "metadata": {},
   "source": [
    "# Lecture 9"
   ]
  },
  {
   "cell_type": "code",
   "execution_count": null,
   "id": "103e0c8d-3ae3-40e7-b5cb-aeae8d9b0bf4",
   "metadata": {},
   "outputs": [],
   "source": [
    "%run set_env.py\n",
    "%matplotlib inline"
   ]
  },
  {
   "cell_type": "markdown",
   "id": "53bcb13c-77b0-41cd-b923-5a0b2b950f03",
   "metadata": {},
   "source": [
    "IO can be stored in different formats:\n",
    "* NumPy binary files\n",
    "* Text files"
   ]
  },
  {
   "cell_type": "code",
   "execution_count": null,
   "id": "7e6ba9f2-f01b-4db3-a347-545b91be7370",
   "metadata": {},
   "outputs": [],
   "source": [
    "# Preliminary data creation\n",
    "rng = rnd.default_rng()\n",
    "x = np.arange(10)\n",
    "y = np.array([1.,5.,7.,13], dtype=np.complex128)\n",
    "rng = rnd.default_rng()\n",
    "z = rng.random((1000,1000))"
   ]
  },
  {
   "cell_type": "code",
   "execution_count": null,
   "id": "d38b85ca-a1db-4bbc-a844-98dfd874356b",
   "metadata": {},
   "outputs": [],
   "source": [
    "print(f\"  x:{x}\")\n",
    "print(f\"  y:{y}\")\n",
    "print(f\"  shape(z):{z.shape}\")"
   ]
  },
  {
   "cell_type": "markdown",
   "id": "7ad165df-313a-4da6-8d13-ca8514c32a52",
   "metadata": {},
   "source": [
    "## NumPy binary files"
   ]
  },
  {
   "cell_type": "markdown",
   "id": "f664d17f-5a84-4714-9a6e-4c5162d1e3c6",
   "metadata": {},
   "source": [
    "* np.save() : Save an array to a binary file (**.npy** format).\n",
    "* np.savez(): Save arrays into a single file (**.npz** format).<br>\n",
    "            The **.npz** file is a zipped archive of **.npy** files.  \n",
    "* np.load() : Load data from **.npy**, **.npz** files."
   ]
  },
  {
   "cell_type": "code",
   "execution_count": null,
   "id": "cf4790af-21b1-4009-a06e-922f30fe31c1",
   "metadata": {},
   "outputs": [],
   "source": [
    "# Save 1 vector in a file => save\n",
    "filename1 = \"myoutput1.npy\"\n",
    "np.save(filename1, x)"
   ]
  },
  {
   "cell_type": "code",
   "execution_count": null,
   "id": "9c1a9dde-ca17-48f2-94a0-f252cb85bf02",
   "metadata": {},
   "outputs": [],
   "source": [
    "# Save more than 1 vector in a file \n",
    "filename2 = \"myoutput2.npz\"\n",
    "np.savez(filename2, a=x, b=y, c=z)"
   ]
  },
  {
   "cell_type": "code",
   "execution_count": null,
   "id": "571242ef-44d5-408b-86bf-a2ed10d5bbf9",
   "metadata": {},
   "outputs": [],
   "source": [
    "# Load the content of the .npy file \n",
    "res1 = np.load(filename1)\n",
    "print(res1)"
   ]
  },
  {
   "cell_type": "code",
   "execution_count": null,
   "id": "895fcf99-932a-4a20-84ae-cf2a8dacd3ef",
   "metadata": {},
   "outputs": [],
   "source": [
    "# Load the content of the .npz file\n",
    "res2 = np.load(filename2)\n",
    "print(f\"  type(res2):{type(res2)}\")\n",
    "print(f\"  res2.files:{res2.files}\")\n",
    "for key in res2.keys():\n",
    "    print(f\"     key:{key}\")\n",
    "\n",
    "# Retrieve the vector with key/name 'b'\n",
    "vecb = res2['b']\n",
    "print(f\"  vecb:{vecb}\")    "
   ]
  },
  {
   "cell_type": "markdown",
   "id": "161bf0bb-8c9c-4192-b7bb-bd24310a0d5e",
   "metadata": {},
   "source": [
    "## Text files"
   ]
  },
  {
   "cell_type": "markdown",
   "id": "7ade5c65-1848-4621-b66a-489abb1e252b",
   "metadata": {},
   "source": [
    "* NumPy provides [functionality](https://numpy.org/doc/stable/reference/routines.io.html#text-files) to save data into a txt file and load data from a txt file.\n",
    "  - np.savetxt: Save an array to a txt file\n",
    "  - np.loadtxt: Load data from a txt file\n",
    "* Besides NumPy, one can also use:\n",
    "  - Regular Python read, write or its [CSV](https://docs.python.org/3/library/csv.html) module\n",
    "  - [Pandas](https://pandas.pydata.org/)\n",
    "  - [Polars](https://docs.pola.rs/user-guide/io/)"
   ]
  },
  {
   "cell_type": "markdown",
   "id": "b80bb2b6-b1f8-4e5b-8509-b981fabd619f",
   "metadata": {},
   "source": [
    "## Common (special) formats:"
   ]
  },
  {
   "cell_type": "markdown",
   "id": "bdc32041-0f64-4e81-8d34-75e88e704cdf",
   "metadata": {},
   "source": [
    "The module <font color=\"green\"><b>scipy.io</b></font> provides functions\n",
    "to read/(save) dat in certain formats:\n",
    "* MATLAB files: **loadmat**, **savemat**, **whosmat**\n",
    "* IDL files: **readsav**\n",
    "* Netcdf: **netcdf_file**, **netcdf_variable**"
   ]
  },
  {
   "cell_type": "markdown",
   "id": "66ab197a-433f-47fc-becb-0d0c7a3a4a22",
   "metadata": {},
   "source": [
    "Further, there are specialized Python modules to handle certain file formats:\n",
    "* [netCDF4](https://pypi.org/project/netCDF4/)\n",
    "* [HDF5 for Python](https://www.h5py.org/)\n",
    "* ..."
   ]
  }
 ],
 "metadata": {
  "kernelspec": {
   "display_name": "Python 3 (ipykernel)",
   "language": "python",
   "name": "python3"
  },
  "language_info": {
   "codemirror_mode": {
    "name": "ipython",
    "version": 3
   },
   "file_extension": ".py",
   "mimetype": "text/x-python",
   "name": "python",
   "nbconvert_exporter": "python",
   "pygments_lexer": "ipython3",
   "version": "3.12.4"
  },
  "toc": {
   "base_numbering": 1
  }
 },
 "nbformat": 4,
 "nbformat_minor": 5
}
