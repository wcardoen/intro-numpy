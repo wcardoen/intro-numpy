{
 "cells": [
  {
   "cell_type": "markdown",
   "metadata": {},
   "source": [
    "# Lecture 4"
   ]
  },
  {
   "cell_type": "code",
   "execution_count": null,
   "metadata": {},
   "outputs": [],
   "source": [
    "%run set_env.py\n",
    "%matplotlib inline"
   ]
  },
  {
   "cell_type": "markdown",
   "metadata": {},
   "source": [
    "## Vector Operations"
   ]
  },
  {
   "cell_type": "markdown",
   "metadata": {},
   "source": [
    "* NumPy operations are done on an <b><font color=\"green\">element-by-element</font></b> basis"
   ]
  },
  {
   "cell_type": "code",
   "execution_count": null,
   "metadata": {},
   "outputs": [],
   "source": [
    "# Regular Python: '+'/'*' \n",
    "N = 5\n",
    "x = [i for i in range(N)]\n",
    "y = N*[1]\n",
    "print(f\"  x  :{x}\")\n",
    "print(f\"  y  :{y}\")\n",
    "print(f\"  x+y:{x+y}\")  # extend method for lists"
   ]
  },
  {
   "cell_type": "code",
   "execution_count": null,
   "metadata": {},
   "outputs": [],
   "source": [
    "# Numpy's addition\n",
    "x = np.array(x)\n",
    "y = np.array(y)\n",
    "print(f\"  x  :\\n{x}\")\n",
    "print(f\"  y  :\\n{y}\")\n",
    "print(f\"  x+y:\\n{x+y}\")"
   ]
  },
  {
   "cell_type": "markdown",
   "metadata": {},
   "source": [
    "<b>Note:</b>: Python lists vs. Numpy ndarrays differences<br>\n",
    "* The '*' operator \n",
    "* Assigment in slices"
   ]
  },
  {
   "cell_type": "markdown",
   "metadata": {},
   "source": [
    "**Examples**"
   ]
  },
  {
   "cell_type": "code",
   "execution_count": null,
   "metadata": {},
   "outputs": [],
   "source": [
    "# Numpy's Multiplication\n",
    "rng = rnd.default_rng()\n",
    "x = rng.integers(3,10,(4,4))\n",
    "y = rng.integers(1,5,(4,4))\n",
    "print(f\"  x:\\n{x}\\n\")\n",
    "print(f\"  y:\\n{y}\\n\")\n",
    "print(f\"  x*y:\\n{x*y}\\n\")"
   ]
  },
  {
   "cell_type": "code",
   "execution_count": null,
   "metadata": {},
   "outputs": [],
   "source": [
    "# b. Boolean operators working on NumPy arrays\n",
    "rng = rnd.default_rng()\n",
    "x = rng.integers(4,10,(12))\n",
    "y = rng.integers(4,10,(12))\n",
    "print(f\"  x={x}\")\n",
    "print(f\"  y={y}\\n\")\n",
    "print(f\"  ==      : {x==y}\")\n",
    "print(f\"  !=      : {x!=y}\")\n",
    "print(f\"  not(!=) : {~(x!=y)}\")\n",
    "print(f\"  >=      : {x>=y}\")\n",
    "print(f\"  x>7     : {x>7}\")"
   ]
  },
  {
   "cell_type": "markdown",
   "metadata": {},
   "source": [
    "### Combining boolean operators for ndarray objects\n"
   ]
  },
  {
   "cell_type": "markdown",
   "metadata": {},
   "source": [
    "<font color=\"green\"><b>Regular python</b></font> : \n",
    "* and  \n",
    "* or  (inclusive or)\n",
    "* not (negation operator)\n",
    "* !=  (exclusive or)\n",
    " "
   ]
  },
  {
   "cell_type": "code",
   "execution_count": null,
   "metadata": {},
   "outputs": [],
   "source": [
    "# Combining boolean operators as in REGULAR'Python' way -> ERROR\n",
    "# x < 5 or y>7\n",
    "# (Due to DIFFERENT syntax!)"
   ]
  },
  {
   "cell_type": "markdown",
   "metadata": {},
   "source": [
    "<font color=\"green\"><b>Numpy</b></font>:\n",
    "* & : and operator\n",
    "* | : inclusive or operator\n",
    "* ~ : negation operator\n",
    "* ^ : exclusive or (xor)"
   ]
  },
  {
   "cell_type": "code",
   "execution_count": null,
   "metadata": {},
   "outputs": [],
   "source": [
    "# Combining boolean operators in NumPy\n",
    "print(f\"  x                 : {x}\")\n",
    "print(f\"  y                 : {y}\\n\")\n",
    "v1 = (x<8) & (x>4)\n",
    "print(f\"  (x<8) & (x>4)     : {v1}\")\n",
    "v2 = (x<6) | (x>7)\n",
    "print(f\"  (x<6) | (x>7)     : {v2}\")\n",
    "v3 = ~(x==6)\n",
    "print(f\"  ~(x==6)           : {v3}\")\n",
    "v4 = (x<6) ^ (x<7)   \n",
    "print(f\"  (x<6) ^ (x<7)     : {v4}\")"
   ]
  },
  {
   "cell_type": "markdown",
   "metadata": {},
   "source": [
    "### How to perform matrix multiplications in Numpy?"
   ]
  },
  {
   "cell_type": "markdown",
   "metadata": {},
   "source": [
    "* Numpy operators work in an el. by el. fashion\n",
    "* To perform matrix multiplications in numpy -> <font color=\"green\"><b>np.dot</b></font> function.<br>\n",
    "  But, you can also use the <font color=\"green\"><b>@</b></font> operator."
   ]
  },
  {
   "cell_type": "markdown",
   "metadata": {},
   "source": [
    "**Examples**"
   ]
  },
  {
   "cell_type": "code",
   "execution_count": null,
   "metadata": {},
   "outputs": [],
   "source": [
    "# np.dot (1D case)\n",
    "rng = rnd.default_rng()\n",
    "a = rng.integers(4,10,(10))\n",
    "b = rng.integers(1,5,(10))\n",
    "\n",
    "print(f\"  a                 : {a}\")\n",
    "print(f\"  b                 : {b}\")\n",
    "print(f\"  a.b (dot-product) : {np.dot(a,b)}\")\n",
    "print(f\"  a.b (dot.product) : {np.sum(a*b)}\")"
   ]
  },
  {
   "cell_type": "code",
   "execution_count": null,
   "metadata": {},
   "outputs": [],
   "source": [
    "# np.dot (2D case) -> Matrix Multiplication\n",
    "rng = rnd.default_rng()\n",
    "c = rng.integers(4,10,(2,4))\n",
    "d = rng.integers(1,5,(4,3))\n",
    "\n",
    "print(f\"  c:\\n {c}\\n\")\n",
    "print(f\"  d:\\n {d}\\n\")\n",
    "print(f\"  c.d (Matrix Multiplication using np.dot):\\n {np.dot(c,d)}\")\n",
    "print(f\"  c.d (Matrix Multiplication using @ operator):\\n {c @ d}\")"
   ]
  },
  {
   "cell_type": "markdown",
   "metadata": {},
   "source": [
    "## Broadcasting"
   ]
  },
  {
   "cell_type": "markdown",
   "metadata": {},
   "source": [
    "Let's start with a few simple examples/tests ..."
   ]
  },
  {
   "cell_type": "markdown",
   "metadata": {},
   "source": [
    "**Example 1**"
   ]
  },
  {
   "cell_type": "code",
   "execution_count": null,
   "metadata": {},
   "outputs": [],
   "source": [
    "x = np.arange(1,5)\n",
    "y = np.arange(10,50,10)\n",
    "print(f\"  x      : {x}\")\n",
    "print(f\"  x.shape: {x.shape}\\n\")\n",
    "print(f\"  y      : {y}\")\n",
    "print(f\"  y.shape: {y.shape}\\n\")\n",
    "print(f\"  x+y        : {x+y}\")\n",
    "print(f\"  (x+y).shape: {(x+y).shape}\")"
   ]
  },
  {
   "cell_type": "markdown",
   "metadata": {},
   "source": [
    "**Example 2**"
   ]
  },
  {
   "cell_type": "code",
   "execution_count": null,
   "metadata": {},
   "outputs": [],
   "source": [
    "x = np.arange(1,5)\n",
    "y = np.arange(1,4)\n",
    "print(f\"  x      : {x}\")\n",
    "print(f\"  x.shape: {x.shape}\\n\")\n",
    "print(f\"  y  : {y}\".format(y))\n",
    "print(f\"  y.shape: {y.shape}\\n\")\n",
    "print(f\"  x+y: {x+y}\")"
   ]
  },
  {
   "cell_type": "markdown",
   "metadata": {},
   "source": [
    "**Example 3**"
   ]
  },
  {
   "cell_type": "code",
   "execution_count": null,
   "metadata": {},
   "outputs": [],
   "source": [
    "# Example 3:\n",
    "rng = rnd.default_rng()\n",
    "x = np.arange(1,5)\n",
    "y = rng.integers(0,11,(3,4))\n",
    "print(f\"  x  : \\n{x}\")\n",
    "print(f\"  x.shape: {x.shape}\\n\")\n",
    "print(f\"  y  : \\n{y}\")\n",
    "print(f\"  y.shape: {y.shape}\\n\")\n",
    "print(f\"  x+y: \\n{x+y}\")"
   ]
  },
  {
   "cell_type": "markdown",
   "metadata": {},
   "source": [
    "### The rules of broadcasting"
   ]
  },
  {
   "cell_type": "markdown",
   "metadata": {},
   "source": [
    "* Broadcasting:<br>\n",
    "  To operate on ndarrays <i>x</i>, <i>y</i> with <b>(seemingly) mismatched</b> shapes \n",
    "* Definition:<br>\n",
    "  Two axes (dimensions) of the ndarrays <i>x</i>, <i>y</i> are <b><font color=\"green\">compatible</font></b><br>\n",
    "  + If <b>both</b> axes have the <b>same</b> length\n",
    "  + If <b>one</b> of the axes has length <b>1</b>  \n",
    "* Algorithm (for broadcasting):\n",
    "    + If two arrays <i>x</i> & <i>y</i> do <b>NOT</b> have the <b>SAME</b> ndim:<br>\n",
    "    Let <i>x</i>.ndim < <i>y</i>.ndim, then <b>prepend</b> <b>1</b> to <i>x</i>.shape (<i>mentally!!</i>) \n",
    "     until <i>x</i>.ndim==<i>y</i>.ndim  \n",
    "    + Loop <b>simulataneously</b> over <b>all</b> axes/dimensions of <i>x</i>, <i>y</i>:<br>\n",
    "      - If axes are compatible:<br>\n",
    "        + If they have <b><font color=\"green\">same</font></b> length => <b><font color=\"green\">OK</font></b> <br>\n",
    "        + Else: increase length of smallest axis to the length of the largest axis => <b><font color=\"green\">OK</font></b>\n",
    "      - Else:<br> \n",
    "          <b><font color=\"red\">Error</font></b>: Impossible to broadcast"
   ]
  },
  {
   "cell_type": "markdown",
   "metadata": {},
   "source": [
    "**Examples**"
   ]
  },
  {
   "cell_type": "code",
   "execution_count": null,
   "metadata": {},
   "outputs": [],
   "source": [
    "# Example 1\n",
    "# Res: x: 4 x 1\n",
    "#      y:     5\n",
    "# -------------\n",
    "#    x+y: 4 x 5\n",
    "#---------------\n",
    "rng = rnd.default_rng()\n",
    "x = rng.random(4).reshape(4,1)\n",
    "y = np.arange(5)\n",
    "print(f\"  x  : \\n{x}\")\n",
    "print(f\"  y  : \\n{y}\")\n",
    "print(f\"  x+y: \\n{x+y}\")"
   ]
  },
  {
   "cell_type": "code",
   "execution_count": null,
   "metadata": {},
   "outputs": [],
   "source": [
    "# Example 2\n",
    "# Res: x: 13 x 1 x 7 x 1\n",
    "#      y:      8 x 7 x 5\n",
    "# -------------\n",
    "#    res: 13 x 8 x 7 x 5\n",
    "#---------------\n",
    "x=np.arange(91).reshape((13,1,7,1))\n",
    "y=np.arange(8*7*5).reshape((8,7,5))\n",
    "z=x+y\n",
    "print(f\"  x.shape:{x.shape}\")\n",
    "print(f\"  y.shape:{y.shape}\")\n",
    "print(f\"  z.shape:{z.shape}\")"
   ]
  },
  {
   "cell_type": "code",
   "execution_count": null,
   "metadata": {},
   "outputs": [],
   "source": [
    "# Example 3:\n",
    "# Res: x: 3 x 8 x 3\n",
    "#      y:     3 x 1\n",
    "# -------------\n",
    "#    res:     Error !! (8 & 3)\n",
    "#---------------\n",
    "x=np.arange(72).reshape((3,8,3))\n",
    "y=np.arange(9).reshape((3,3))\n",
    "z=x+y\n",
    "print(f\"  x.shape:{x.shape}\")\n",
    "print(f\"  y.shape:{y.shape}\")\n",
    "print(f\"  z.shape:{z.shape}\")"
   ]
  },
  {
   "cell_type": "markdown",
   "metadata": {},
   "source": [
    "### Adding & removing singleton dimensions"
   ]
  },
  {
   "cell_type": "markdown",
   "metadata": {},
   "source": [
    "Axes of dim 1 (singleton dimensions) are a central tool for broadcasting.<br>\n",
    "There are situations in which, one wants to:\n",
    "* <b>remove</b> singleton dimensions:\n",
    "  * use <b><font color=\"green\">numpy.squeeze(a,axis=None)</font></b>\n",
    "    * a: input data\n",
    "    * axis : integer/tuple\n",
    "    * default: all singleton dimensions\n",
    "  \n",
    "* <b>add</b> singleton dimensions:\n",
    "  * use <b><font color=\"green\">numpy.newaxis</font></b>\n",
    "    * expand the dimension by 1 unit\n",
    "    * to be added where you want to add the dimension"
   ]
  },
  {
   "cell_type": "markdown",
   "metadata": {},
   "source": [
    "**Examples**"
   ]
  },
  {
   "cell_type": "code",
   "execution_count": null,
   "metadata": {},
   "outputs": [],
   "source": [
    "# np.squeeze() function i.e. Removing Singleton axes\n",
    "a=np.arange(120).reshape((2,1,3,5,1,4))\n",
    "print(f\"  a.shape: {a.shape}\")\n",
    "b=np.squeeze(a,axis=1)\n",
    "print(f\"  b.shape: {b.shape}\")\n",
    "c=np.squeeze(a,axis=4)\n",
    "print(f\"  c.shape: {c.shape}\")\n",
    "d=np.squeeze(a)\n",
    "print(f\"  d.shape: {d.shape}\")"
   ]
  },
  {
   "cell_type": "code",
   "execution_count": null,
   "metadata": {},
   "outputs": [],
   "source": [
    "# Adding Singleton Axes\n",
    "a = np.arange(24).reshape((2,3,4))\n",
    "print(f\"  a.shape: {a.shape}\")\n",
    "b = a[np.newaxis,:,:,:]\n",
    "print(f\"  b.shape: {b.shape}\")\n",
    "c = a[np.newaxis,...]\n",
    "print(f\"  c.shape: {c.shape}\")\n",
    "d=a[:,np.newaxis,:,:,np.newaxis]\n",
    "print(f\"  d.shape: {d.shape}\")"
   ]
  },
  {
   "cell_type": "markdown",
   "metadata": {},
   "source": [
    "## Exercises"
   ]
  },
  {
   "cell_type": "markdown",
   "metadata": {},
   "source": [
    "* Create the following 6x6 matrix $A$ (containing only <font color=\"green\"><b>int32</b></font> elements)):<br>\n",
    "    $\\begin{equation*}A = \\begin{pmatrix}\n",
    "       1 & 1 &  1 &   1 &   1 &   1 \\\\\n",
    "       1 & 8 &  1 &   1 &   1 &   1 \\\\ \n",
    "       1 & 1 &  27 &   1 &   1 &   1 \\\\\n",
    "       1 & 1 &  1 &   64 &   1 &   1 \\\\\n",
    "       1 & 1 &  1 &   1 &  125 &   1 \\\\\n",
    "       1 & 1 &  1 &   1 &   1 &   216 \n",
    "      \\end{pmatrix}\\end{equation*}$\n",
    "* Create a new matrix $B$ ($MxN$) where:\n",
    "  * $\\begin{equation*}B_{ij} =  \\frac{1}{X_i - Y_j} \\end{equation*}$\n",
    "  * $X_i$ $\\in$ $X$  ($i=0,\\ldots,M-1$)<br>\n",
    "    is a random vector of length $M=9$ \n",
    "  * $Y_j$ $\\in$ $Y$  ($j=0,\\ldots,N-1$)<br>\n",
    "    is a random vector of length $N=6$ \n",
    "    \n",
    "  Matrices of the type $B$ are known as <font color=\"blue\"><b>Cauchy</b></font> matrices \n",
    "  "
   ]
  },
  {
   "cell_type": "markdown",
   "metadata": {},
   "source": [
    "## Solutions"
   ]
  },
  {
   "cell_type": "code",
   "execution_count": null,
   "metadata": {},
   "outputs": [],
   "source": [
    "#%load ../solutions/ex4.py"
   ]
  },
  {
   "cell_type": "markdown",
   "metadata": {},
   "source": [
    "## Appendix"
   ]
  },
  {
   "cell_type": "markdown",
   "metadata": {},
   "source": [
    "* The '*' operator: Python (lists) vs Numpy "
   ]
  },
  {
   "cell_type": "code",
   "execution_count": null,
   "metadata": {},
   "outputs": [],
   "source": [
    "# Python list '*' operator\n",
    "print(f\"  Python list '*' operator:\")\n",
    "a = [1,2,3,4]\n",
    "print(f\"    a={a}\")\n",
    "b = 5*a     \n",
    "print(f\"    b={b}\")   \n",
    "\n",
    "# Numpy '*' operator :: el-by-el\n",
    "print(f\"  NumPy '*' operator:\")\n",
    "a = np.array([1,2,3,4])\n",
    "print(f\"    a={a}\")\n",
    "b = 5*a\n",
    "print(f\"    b={b}\")"
   ]
  },
  {
   "cell_type": "markdown",
   "metadata": {},
   "source": [
    "* Assigning el: Python (lists) vs Numpy "
   ]
  },
  {
   "cell_type": "code",
   "execution_count": null,
   "metadata": {},
   "outputs": [],
   "source": [
    "print(f\"  Numpy: assignment to slices\")\n",
    "a = np.arange(10)\n",
    "a[3:7] = 1\n",
    "print(f\"    a={a}\")\n",
    "\n",
    "\n",
    "print(f\"  Python: assignment to slices\")\n",
    "try:\n",
    "    b = np.arange(10).tolist()\n",
    "    b[3:7] = 1\n",
    "except Exception as err:\n",
    "    print(f\"    ERROR: {err}\\n\")   \n",
    "    \n",
    "# Solution for Python list!\n",
    "print(f\"   therefore ...\")\n",
    "b = [ 1 if 3<=i<7  else i  for i in b ]\n",
    "print(f\"   b={b}\")"
   ]
  }
 ],
 "metadata": {
  "kernelspec": {
   "display_name": "Python 3 (ipykernel)",
   "language": "python",
   "name": "python3"
  },
  "language_info": {
   "codemirror_mode": {
    "name": "ipython",
    "version": 3
   },
   "file_extension": ".py",
   "mimetype": "text/x-python",
   "name": "python",
   "nbconvert_exporter": "python",
   "pygments_lexer": "ipython3",
   "version": "3.12.4"
  },
  "latex_envs": {
   "LaTeX_envs_menu_present": true,
   "autoclose": false,
   "autocomplete": true,
   "bibliofile": "biblio.bib",
   "cite_by": "apalike",
   "current_citInitial": 1,
   "eqLabelWithNumbers": true,
   "eqNumInitial": 1,
   "hotkeys": {
    "equation": "Ctrl-E",
    "itemize": "Ctrl-I"
   },
   "labels_anchors": false,
   "latex_user_defs": false,
   "report_style_numbering": false,
   "user_envs_cfg": false
  },
  "toc": {
   "base_numbering": 1,
   "nav_menu": {},
   "number_sections": true,
   "sideBar": true,
   "skip_h1_title": false,
   "title_cell": "Table of Contents",
   "title_sidebar": "Contents",
   "toc_cell": false,
   "toc_position": {},
   "toc_section_display": true,
   "toc_window_display": false
  }
 },
 "nbformat": 4,
 "nbformat_minor": 4
}
