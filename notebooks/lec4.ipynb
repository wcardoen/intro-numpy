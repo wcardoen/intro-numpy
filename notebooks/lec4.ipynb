{
 "cells": [
  {
   "cell_type": "markdown",
   "metadata": {},
   "source": [
    "# Lecture 4"
   ]
  },
  {
   "cell_type": "code",
   "execution_count": 1,
   "metadata": {},
   "outputs": [
    {
     "name": "stdout",
     "output_type": "stream",
     "text": [
      "Check versions:\n",
      "  numpy version     :'1.24.3'\n",
      "  matplotlib version:'3.7.2'\n"
     ]
    }
   ],
   "source": [
    "%run set_env.py\n",
    "%matplotlib inline"
   ]
  },
  {
   "cell_type": "markdown",
   "metadata": {},
   "source": [
    "### Vector Operations & Broadcasting"
   ]
  },
  {
   "cell_type": "markdown",
   "metadata": {},
   "source": [
    "* NumPy operations are done on an <b><font color=\"green\">element-by-element</font></b> basis"
   ]
  },
  {
   "cell_type": "code",
   "execution_count": 3,
   "metadata": {},
   "outputs": [
    {
     "name": "stdout",
     "output_type": "stream",
     "text": [
      "  x  :[0, 1, 2, 3, 4]\n",
      "  y  :[1, 1, 1, 1, 1]\n",
      "  x+y:[0, 1, 2, 3, 4, 1, 1, 1, 1, 1]\n"
     ]
    }
   ],
   "source": [
    "# Regular Python: '+'/'*' \n",
    "N = 5\n",
    "x = [i for i in range(N)]\n",
    "y = N*[1]\n",
    "print(f\"  x  :{x}\")\n",
    "print(f\"  y  :{y}\")\n",
    "print(f\"  x+y:{x+y}\")  # extend method for lists"
   ]
  },
  {
   "cell_type": "code",
   "execution_count": 4,
   "metadata": {},
   "outputs": [
    {
     "name": "stdout",
     "output_type": "stream",
     "text": [
      "  x  :\n",
      "[0 1 2 3 4]\n",
      "  y  :\n",
      "[1 1 1 1 1]\n",
      "  x+y:\n",
      "[1 2 3 4 5]\n"
     ]
    }
   ],
   "source": [
    "# Numpy's addition\n",
    "x = np.array(x)\n",
    "y = np.array(y)\n",
    "print(f\"  x  :\\n{x}\")\n",
    "print(f\"  y  :\\n{y}\")\n",
    "print(f\"  x+y:\\n{x+y}\")"
   ]
  },
  {
   "cell_type": "markdown",
   "metadata": {},
   "source": [
    "<b>Note</b>:<br>\n",
    "The '*' operator is overriden in NumPy as well.<br>\n",
    "What is the diffference?"
   ]
  },
  {
   "cell_type": "markdown",
   "metadata": {},
   "source": [
    "#### Examples:"
   ]
  },
  {
   "cell_type": "code",
   "execution_count": 5,
   "metadata": {},
   "outputs": [
    {
     "name": "stdout",
     "output_type": "stream",
     "text": [
      "  x:\n",
      "[[6 9 3 5]\n",
      " [9 3 6 8]\n",
      " [5 9 5 7]\n",
      " [8 5 7 3]]\n",
      "\n",
      "  y:\n",
      "[[2 4 1 2]\n",
      " [2 3 2 2]\n",
      " [1 2 1 2]\n",
      " [3 1 3 3]]\n",
      "\n",
      "  x*y:\n",
      "[[12 36  3 10]\n",
      " [18  9 12 16]\n",
      " [ 5 18  5 14]\n",
      " [24  5 21  9]]\n",
      "\n"
     ]
    }
   ],
   "source": [
    "# Numpy's Multiplication\n",
    "x = rnd.randint(3,10,(4,4))\n",
    "y = rnd.randint(1,5,(4,4))\n",
    "print(f\"  x:\\n{x}\\n\")\n",
    "print(f\"  y:\\n{y}\\n\")\n",
    "print(f\"  x*y:\\n{x*y}\\n\")"
   ]
  },
  {
   "cell_type": "code",
   "execution_count": 7,
   "metadata": {},
   "outputs": [
    {
     "name": "stdout",
     "output_type": "stream",
     "text": [
      "  x=[5 6 8 8 5 7 8 9 4 4 5 8]\n",
      "  y=[7 6 9 7 6 9 6 6 6 9 7 5]\n",
      "\n",
      "  ==      : [False  True False False False False False False False False False False]\n",
      "  !=      : [ True False  True  True  True  True  True  True  True  True  True  True]\n",
      "  not(!=) : [False  True False False False False False False False False False False]\n",
      "  >=      : [False  True False  True False False  True  True False False False  True]\n",
      "  x>7     : [False False  True  True False False  True  True False False False  True]\n"
     ]
    }
   ],
   "source": [
    "# b. Boolean operators working on NumPy arrays\n",
    "x = rnd.randint(4,10,(12))\n",
    "y = rnd.randint(4,10,(12))\n",
    "print(f\"  x={x}\")\n",
    "print(f\"  y={y}\\n\")\n",
    "print(f\"  ==      : {x==y}\")\n",
    "print(f\"  !=      : {x!=y}\")\n",
    "print(f\"  not(!=) : {~(x!=y)}\")\n",
    "print(f\"  >=      : {x>=y}\")\n",
    "print(f\"  x>7     : {x>7}\")"
   ]
  },
  {
   "cell_type": "markdown",
   "metadata": {},
   "source": [
    "#### Combining boolean operators for ndarray objects\n"
   ]
  },
  {
   "cell_type": "markdown",
   "metadata": {},
   "source": [
    "<font color=\"green\"><b>Regular python</b></font> : \n",
    "* and  \n",
    "* or  (inclusive or)\n",
    "* not (negation operator)\n",
    "* !=  (exclusive or)\n",
    " "
   ]
  },
  {
   "cell_type": "code",
   "execution_count": null,
   "metadata": {},
   "outputs": [],
   "source": [
    "# Combining boolean operators as in REGULAR'Python' way -> ERROR\n",
    "# x < 5 or y>7\n",
    "# (Due to DIFFERENT syntax!)"
   ]
  },
  {
   "cell_type": "markdown",
   "metadata": {},
   "source": [
    "<font color=\"green\"><b>Numpy</b></font>:\n",
    "* & : and operator\n",
    "* | : inclusive or operator\n",
    "* ~ : negation operator\n",
    "* ^ : exclusive or (xor)"
   ]
  },
  {
   "cell_type": "code",
   "execution_count": 8,
   "metadata": {},
   "outputs": [
    {
     "name": "stdout",
     "output_type": "stream",
     "text": [
      "  x                 : [5 6 8 8 5 7 8 9 4 4 5 8]\n",
      "  y                 : [7 6 9 7 6 9 6 6 6 9 7 5]\n",
      "\n",
      "  (x<8) & (x>4)     : [ True  True False False  True  True False False False False  True False]\n",
      "  (x<6) | (x>7)     : [ True False  True  True  True False  True  True  True  True  True  True]\n",
      "  ~(x==6)           : [ True False  True  True  True  True  True  True  True  True  True  True]\n",
      "  (x<6) ^ (x<7)     : [False  True False False False False False False False False False False]\n"
     ]
    }
   ],
   "source": [
    "# Combining boolean operators in NumPy\n",
    "print(f\"  x                 : {x}\")\n",
    "print(f\"  y                 : {y}\\n\")\n",
    "v1 = (x<8) & (x>4)\n",
    "print(f\"  (x<8) & (x>4)     : {v1}\")\n",
    "v2 = (x<6) | (x>7)\n",
    "print(f\"  (x<6) | (x>7)     : {v2}\")\n",
    "v3 = ~(x==6)\n",
    "print(f\"  ~(x==6)           : {v3}\")\n",
    "v4 = (x<6) ^ (x<7)   \n",
    "print(f\"  (x<6) ^ (x<7)     : {v4}\")"
   ]
  },
  {
   "cell_type": "markdown",
   "metadata": {},
   "source": [
    "### How to perform matrix multiplications in Numpy?"
   ]
  },
  {
   "cell_type": "markdown",
   "metadata": {},
   "source": [
    "* Numpy operators work in an el. by el. fashion\n",
    "* To perform matrix multiplications in numpy -> <font color=\"green\"><b>np.dot</b></font> function.<br>\n",
    "  But, you can also use the <font color=\"green\"><b>@</b></font> operator."
   ]
  },
  {
   "cell_type": "markdown",
   "metadata": {},
   "source": [
    "#### Examples:"
   ]
  },
  {
   "cell_type": "code",
   "execution_count": null,
   "metadata": {},
   "outputs": [],
   "source": [
    "# np.dot (1D case)\n",
    "a = rnd.randint(4,10,(10))\n",
    "b = rnd.randint(1,5,(10))\n",
    "\n",
    "print(f\"  a                 : {a}\")\n",
    "print(f\"  b                 : {b}\")\n",
    "print(f\"  a.b (dot-product) : {np.dot(a,b)}\")\n",
    "print(f\"  a.b (dot.product) : {np.sum(a*b)}\")"
   ]
  },
  {
   "cell_type": "code",
   "execution_count": null,
   "metadata": {},
   "outputs": [],
   "source": [
    "# np.dot (2D case) -> Matrix Multiplication\n",
    "c = rnd.randint(4,10,(2,4))\n",
    "d = rnd.randint(1,5,(4,3))\n",
    "\n",
    "print(f\"  c:\\n {c}\\n\")\n",
    "print(f\"  d:\\n {d}\\n\")\n",
    "print(f\"  c.d (Matrix Multiplication using np.dot):\\n {np.dot(c,d)}\")\n",
    "\n",
    "print(f\"  c.d (Matrix Multiplication using @ operator):\\n {c @ d}\")"
   ]
  },
  {
   "cell_type": "markdown",
   "metadata": {},
   "source": [
    "## Broadcasting"
   ]
  },
  {
   "cell_type": "markdown",
   "metadata": {},
   "source": [
    "Let's start with a few simple examples/tests ..."
   ]
  },
  {
   "cell_type": "markdown",
   "metadata": {},
   "source": [
    "#### Example 1:"
   ]
  },
  {
   "cell_type": "code",
   "execution_count": null,
   "metadata": {},
   "outputs": [],
   "source": [
    "x = np.arange(1,5)\n",
    "y = np.arange(10,50,10)\n",
    "print(f\"  x      : {x}\")\n",
    "print(f\"  x.shape: {x.shape}\\n\")\n",
    "print(f\"  y      : {y}\")\n",
    "print(f\"  y.shape: {y.shape}\\n\")\n",
    "print(f\"  x+y        : {x+y}\")\n",
    "print(f\"  (x+y).shape: {(x+y).shape}\")"
   ]
  },
  {
   "cell_type": "markdown",
   "metadata": {},
   "source": [
    "#### Example 2:"
   ]
  },
  {
   "cell_type": "code",
   "execution_count": 9,
   "metadata": {},
   "outputs": [
    {
     "name": "stdout",
     "output_type": "stream",
     "text": [
      "  x      : [1 2 3 4]\n",
      "  x.shape: (4,)\n",
      "\n",
      "  y  : [1 2 3]\n",
      "  y.shape: (3,)\n",
      "\n"
     ]
    },
    {
     "ename": "ValueError",
     "evalue": "operands could not be broadcast together with shapes (4,) (3,) ",
     "output_type": "error",
     "traceback": [
      "\u001b[0;31m---------------------------------------------------------------------------\u001b[0m",
      "\u001b[0;31mValueError\u001b[0m                                Traceback (most recent call last)",
      "Cell \u001b[0;32mIn[9], line 7\u001b[0m\n\u001b[1;32m      5\u001b[0m \u001b[38;5;28mprint\u001b[39m(\u001b[38;5;124mf\u001b[39m\u001b[38;5;124m\"\u001b[39m\u001b[38;5;124m  y  : \u001b[39m\u001b[38;5;132;01m{\u001b[39;00my\u001b[38;5;132;01m}\u001b[39;00m\u001b[38;5;124m\"\u001b[39m\u001b[38;5;241m.\u001b[39mformat(y))\n\u001b[1;32m      6\u001b[0m \u001b[38;5;28mprint\u001b[39m(\u001b[38;5;124mf\u001b[39m\u001b[38;5;124m\"\u001b[39m\u001b[38;5;124m  y.shape: \u001b[39m\u001b[38;5;132;01m{\u001b[39;00my\u001b[38;5;241m.\u001b[39mshape\u001b[38;5;132;01m}\u001b[39;00m\u001b[38;5;130;01m\\n\u001b[39;00m\u001b[38;5;124m\"\u001b[39m)\n\u001b[0;32m----> 7\u001b[0m \u001b[38;5;28mprint\u001b[39m(\u001b[38;5;124mf\u001b[39m\u001b[38;5;124m\"\u001b[39m\u001b[38;5;124m  x+y: \u001b[39m\u001b[38;5;132;01m{\u001b[39;00mx\u001b[38;5;241m+\u001b[39my\u001b[38;5;132;01m}\u001b[39;00m\u001b[38;5;124m\"\u001b[39m)\n",
      "\u001b[0;31mValueError\u001b[0m: operands could not be broadcast together with shapes (4,) (3,) "
     ]
    }
   ],
   "source": [
    "x = np.arange(1,5)\n",
    "y = np.arange(1,4)\n",
    "print(f\"  x      : {x}\")\n",
    "print(f\"  x.shape: {x.shape}\\n\")\n",
    "print(f\"  y  : {y}\".format(y))\n",
    "print(f\"  y.shape: {y.shape}\\n\")\n",
    "print(f\"  x+y: {x+y}\")"
   ]
  },
  {
   "cell_type": "markdown",
   "metadata": {},
   "source": [
    "#### Example 3:"
   ]
  },
  {
   "cell_type": "code",
   "execution_count": 10,
   "metadata": {},
   "outputs": [
    {
     "name": "stdout",
     "output_type": "stream",
     "text": [
      "  x  : \n",
      "[1 2 3 4]\n",
      "  x.shape: (4,)\n",
      "\n",
      "  y  : \n",
      "[[1 8 6 9]\n",
      " [9 3 2 3]\n",
      " [9 6 7 2]]\n",
      "  y.shape: (3, 4)\n",
      "\n",
      "  x+y: \n",
      "[[ 2 10  9 13]\n",
      " [10  5  5  7]\n",
      " [10  8 10  6]]\n"
     ]
    }
   ],
   "source": [
    "# Example 3:\n",
    "x = np.arange(1,5)\n",
    "y = np.random.randint(0,11,(3,4))\n",
    "print(f\"  x  : \\n{x}\")\n",
    "print(f\"  x.shape: {x.shape}\\n\")\n",
    "print(f\"  y  : \\n{y}\")\n",
    "print(f\"  y.shape: {y.shape}\\n\")\n",
    "print(f\"  x+y: \\n{x+y}\")"
   ]
  },
  {
   "cell_type": "markdown",
   "metadata": {},
   "source": [
    "### The rules of the (broadcasting) game"
   ]
  },
  {
   "cell_type": "markdown",
   "metadata": {},
   "source": [
    "* Definition :: required to operate on (some) arrays with <b>(seemingly) mismatched</b> shapes\n",
    "* Start with the trailing dimensions (i.e. from right to left)\n",
    "* Two dimensions of the array are <b>compatible</b> iff\n",
    "  * they both have the <b>same</b> dimension\n",
    "  * <b>one</b> of the dimension is 1\n",
    "\n",
    "Note:<br>\n",
    "<font color=\"green\"><b>Both arrays can have a different #axes</b></font>"
   ]
  },
  {
   "cell_type": "markdown",
   "metadata": {},
   "source": [
    "#### Examples:"
   ]
  },
  {
   "cell_type": "code",
   "execution_count": 11,
   "metadata": {},
   "outputs": [
    {
     "name": "stdout",
     "output_type": "stream",
     "text": [
      "  x  : \n",
      "[[0.88063186]\n",
      " [0.65972033]\n",
      " [0.57384541]\n",
      " [0.24387396]]\n",
      "  y  : \n",
      "[0 1 2 3 4]\n",
      "  x+y: \n",
      "[[0.88063186 1.88063186 2.88063186 3.88063186 4.88063186]\n",
      " [0.65972033 1.65972033 2.65972033 3.65972033 4.65972033]\n",
      " [0.57384541 1.57384541 2.57384541 3.57384541 4.57384541]\n",
      " [0.24387396 1.24387396 2.24387396 3.24387396 4.24387396]]\n"
     ]
    }
   ],
   "source": [
    "# Example 1\n",
    "# Res: x: 4 x 1\n",
    "#      y:     5\n",
    "# -------------\n",
    "#    x+y: 4 x 5\n",
    "#---------------\n",
    "x = rnd.random(4).reshape(4,1)\n",
    "y = np.arange(5)\n",
    "print(f\"  x  : \\n{x}\")\n",
    "print(f\"  y  : \\n{y}\")\n",
    "print(f\"  x+y: \\n{x+y}\")"
   ]
  },
  {
   "cell_type": "code",
   "execution_count": null,
   "metadata": {},
   "outputs": [],
   "source": [
    "# Example 2\n",
    "# Res: x: 13 x 1 x 7 x 1\n",
    "#      y:      8 x 7 x 5\n",
    "# -------------\n",
    "#    res: 13 x 8 x 7 x 5\n",
    "#---------------\n",
    "x=np.arange(91).reshape((13,1,7,1))\n",
    "y=np.arange(8*7*5).reshape((8,7,5))\n",
    "z=x+y\n",
    "print(f\"  x.shape:{x.shape}\")\n",
    "print(f\"  y.shape:{y.shape}\")\n",
    "print(f\"  z.shape:{z.shape}\")"
   ]
  },
  {
   "cell_type": "code",
   "execution_count": 12,
   "metadata": {},
   "outputs": [
    {
     "ename": "ValueError",
     "evalue": "operands could not be broadcast together with shapes (3,8,3) (3,3) ",
     "output_type": "error",
     "traceback": [
      "\u001b[0;31m---------------------------------------------------------------------------\u001b[0m",
      "\u001b[0;31mValueError\u001b[0m                                Traceback (most recent call last)",
      "Cell \u001b[0;32mIn[12], line 9\u001b[0m\n\u001b[1;32m      7\u001b[0m x\u001b[38;5;241m=\u001b[39mnp\u001b[38;5;241m.\u001b[39marange(\u001b[38;5;241m72\u001b[39m)\u001b[38;5;241m.\u001b[39mreshape((\u001b[38;5;241m3\u001b[39m,\u001b[38;5;241m8\u001b[39m,\u001b[38;5;241m3\u001b[39m))\n\u001b[1;32m      8\u001b[0m y\u001b[38;5;241m=\u001b[39mnp\u001b[38;5;241m.\u001b[39marange(\u001b[38;5;241m9\u001b[39m)\u001b[38;5;241m.\u001b[39mreshape((\u001b[38;5;241m3\u001b[39m,\u001b[38;5;241m3\u001b[39m))\n\u001b[0;32m----> 9\u001b[0m z\u001b[38;5;241m=\u001b[39mx\u001b[38;5;241m+\u001b[39my\n\u001b[1;32m     10\u001b[0m \u001b[38;5;28mprint\u001b[39m(\u001b[38;5;124mf\u001b[39m\u001b[38;5;124m\"\u001b[39m\u001b[38;5;124m  x.shape:\u001b[39m\u001b[38;5;132;01m{\u001b[39;00mx\u001b[38;5;241m.\u001b[39mshape\u001b[38;5;132;01m}\u001b[39;00m\u001b[38;5;124m\"\u001b[39m)\n\u001b[1;32m     11\u001b[0m \u001b[38;5;28mprint\u001b[39m(\u001b[38;5;124mf\u001b[39m\u001b[38;5;124m\"\u001b[39m\u001b[38;5;124m  y.shape:\u001b[39m\u001b[38;5;132;01m{\u001b[39;00my\u001b[38;5;241m.\u001b[39mshape\u001b[38;5;132;01m}\u001b[39;00m\u001b[38;5;124m\"\u001b[39m)\n",
      "\u001b[0;31mValueError\u001b[0m: operands could not be broadcast together with shapes (3,8,3) (3,3) "
     ]
    }
   ],
   "source": [
    "# Example 3:\n",
    "# Res: x: 3 x 8 x 3\n",
    "#      y:     3 x 1\n",
    "# -------------\n",
    "#    res:     Error !! (8 & 3)\n",
    "#---------------\n",
    "x=np.arange(72).reshape((3,8,3))\n",
    "y=np.arange(9).reshape((3,3))\n",
    "z=x+y\n",
    "print(f\"  x.shape:{x.shape}\")\n",
    "print(f\"  y.shape:{y.shape}\")\n",
    "print(f\"  z.shape:{z.shape}\")"
   ]
  },
  {
   "cell_type": "markdown",
   "metadata": {},
   "source": [
    "### Adding & Removing Singleton Dimensions"
   ]
  },
  {
   "cell_type": "markdown",
   "metadata": {},
   "source": [
    "Axes of dim 1 (singleton dimensions) are a central tool for broadcasting.<br>\n",
    "There are situations in which, one wants to:\n",
    "* <b>remove</b> singleton dimensions:\n",
    "  * use <b><font color=\"green\">numpy.squeeze(a,axis=None)</font></b>\n",
    "    * a: input data\n",
    "    * axis : integer/tuple\n",
    "    * default: all singleton dimensions\n",
    "  \n",
    "* <b>add</b> singleton dimensions:\n",
    "  * use <b><font color=\"green\">numpy.newaxis</font></b>\n",
    "    * expand the dimension by 1 unit\n",
    "    * to be added where you want to add the dimension"
   ]
  },
  {
   "cell_type": "markdown",
   "metadata": {},
   "source": [
    "#### Examples:"
   ]
  },
  {
   "cell_type": "code",
   "execution_count": 13,
   "metadata": {},
   "outputs": [
    {
     "name": "stdout",
     "output_type": "stream",
     "text": [
      "  a.shape: (2, 1, 3, 5, 1, 4)\n",
      "  b.shape: (2, 3, 5, 1, 4)\n",
      "  c.shape: (2, 1, 3, 5, 4)\n",
      "  d.shape: (2, 3, 5, 4)\n"
     ]
    }
   ],
   "source": [
    "# np.squeeze() function i.e. Removing Singleton axes\n",
    "a=np.arange(120).reshape((2,1,3,5,1,4))\n",
    "print(f\"  a.shape: {a.shape}\")\n",
    "b=np.squeeze(a,axis=1)\n",
    "print(f\"  b.shape: {b.shape}\")\n",
    "c=np.squeeze(a,axis=4)\n",
    "print(f\"  c.shape: {c.shape}\")\n",
    "d=np.squeeze(a)\n",
    "print(f\"  d.shape: {d.shape}\")"
   ]
  },
  {
   "cell_type": "code",
   "execution_count": 14,
   "metadata": {},
   "outputs": [
    {
     "name": "stdout",
     "output_type": "stream",
     "text": [
      "  a.shape: (2, 3, 4)\n",
      "  b.shape: (1, 2, 3, 4)\n",
      "  c.shape: (1, 2, 3, 4)\n",
      "  d.shape: (2, 1, 3, 4, 1)\n"
     ]
    }
   ],
   "source": [
    "# Adding Singleton Axes\n",
    "a = np.arange(24).reshape((2,3,4))\n",
    "print(f\"  a.shape: {a.shape}\")\n",
    "b = a[np.newaxis,:,:,:]\n",
    "print(f\"  b.shape: {b.shape}\")\n",
    "c = a[np.newaxis,...]\n",
    "print(f\"  c.shape: {c.shape}\")\n",
    "d=a[:,np.newaxis,:,:,np.newaxis]\n",
    "print(f\"  d.shape: {d.shape}\")"
   ]
  },
  {
   "cell_type": "markdown",
   "metadata": {},
   "source": [
    "### Exercises:"
   ]
  },
  {
   "cell_type": "markdown",
   "metadata": {},
   "source": [
    "* Create the following 6x6 matrix $A$ (containing only <font color=\"green\"><b>int32</b></font> elements)):<br>\n",
    "    $\\begin{equation*}A = \\begin{pmatrix}\n",
    "       1 & 1 &  1 &   1 &   1 &   1 \\\\\n",
    "       1 & 8 &  1 &   1 &   1 &   1 \\\\ \n",
    "       1 & 1 &  27 &   1 &   1 &   1 \\\\\n",
    "       1 & 1 &  1 &   64 &   1 &   1 \\\\\n",
    "       1 & 1 &  1 &   1 &  125 &   1 \\\\\n",
    "       1 & 1 &  1 &   1 &   1 &   216 \n",
    "      \\end{pmatrix}\\end{equation*}$\n",
    "* Create a new matrix $B$ ($MxN$) where:\n",
    "  * $\\begin{equation*}B_{ij} =  \\frac{1}{X_i - Y_j} \\end{equation*}$\n",
    "  * $X_i$ $\\in$ $X$  ($i=0,\\ldots,M-1$)<br>\n",
    "    is a random vector of length $M=9$ \n",
    "  * $Y_j$ $\\in$ $Y$  ($j=0,\\ldots,N-1$)<br>\n",
    "    is a random vector of length $N=6$ \n",
    "    \n",
    "  Matrices of the type $B$ are known as <font color=\"blue\"><b>Cauchy</b></font> matrices \n",
    "  "
   ]
  },
  {
   "cell_type": "markdown",
   "metadata": {},
   "source": [
    "### Solutions:"
   ]
  },
  {
   "cell_type": "code",
   "execution_count": null,
   "metadata": {},
   "outputs": [],
   "source": [
    "# %load ../solutions/ex4.py"
   ]
  }
 ],
 "metadata": {
  "kernelspec": {
   "display_name": "Python 3 (ipykernel)",
   "language": "python",
   "name": "python3"
  },
  "language_info": {
   "codemirror_mode": {
    "name": "ipython",
    "version": 3
   },
   "file_extension": ".py",
   "mimetype": "text/x-python",
   "name": "python",
   "nbconvert_exporter": "python",
   "pygments_lexer": "ipython3",
   "version": "3.11.5"
  },
  "latex_envs": {
   "LaTeX_envs_menu_present": true,
   "autoclose": false,
   "autocomplete": true,
   "bibliofile": "biblio.bib",
   "cite_by": "apalike",
   "current_citInitial": 1,
   "eqLabelWithNumbers": true,
   "eqNumInitial": 1,
   "hotkeys": {
    "equation": "Ctrl-E",
    "itemize": "Ctrl-I"
   },
   "labels_anchors": false,
   "latex_user_defs": false,
   "report_style_numbering": false,
   "user_envs_cfg": false
  },
  "toc": {
   "base_numbering": 1,
   "nav_menu": {},
   "number_sections": true,
   "sideBar": true,
   "skip_h1_title": false,
   "title_cell": "Table of Contents",
   "title_sidebar": "Contents",
   "toc_cell": false,
   "toc_position": {},
   "toc_section_display": true,
   "toc_window_display": false
  }
 },
 "nbformat": 4,
 "nbformat_minor": 2
}
