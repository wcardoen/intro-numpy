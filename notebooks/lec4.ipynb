{
 "cells": [
  {
   "cell_type": "markdown",
   "metadata": {},
   "source": [
    "# Lecture 4"
   ]
  },
  {
   "cell_type": "code",
   "execution_count": null,
   "metadata": {},
   "outputs": [],
   "source": [
    "%run set_env.py\n",
    "%matplotlib inline"
   ]
  },
  {
   "cell_type": "markdown",
   "metadata": {},
   "source": [
    "### Vector Operations & Broadcasting"
   ]
  },
  {
   "cell_type": "markdown",
   "metadata": {},
   "source": [
    "* NumPy operations are done on an <b><font color=\"green\">element-by-element</font></b> basis"
   ]
  },
  {
   "cell_type": "code",
   "execution_count": null,
   "metadata": {},
   "outputs": [],
   "source": [
    "# Regular Python: '+'/'*' \n",
    "N = 5\n",
    "x = [i for i in range(N)]\n",
    "y = N*[1]\n",
    "z = x[:] \n",
    "w = x[:]\n",
    "print(f\"  x  :{x}\")\n",
    "print(f\"  y  :{y}\")\n",
    "print(f\"  x+y:{x+y}\")  "
   ]
  },
  {
   "cell_type": "code",
   "execution_count": null,
   "metadata": {},
   "outputs": [],
   "source": [
    "# FYI: Python (extend vs. append method)\n",
    "print(f\"  z  :{z}\")\n",
    "print(f\"  w  :{w}\")\n",
    "z.extend(y)\n",
    "w.append(y)\n",
    "print(f\"  z  :{z}\")\n",
    "print(f\"  w  :{w}\")      "
   ]
  },
  {
   "cell_type": "code",
   "execution_count": null,
   "metadata": {},
   "outputs": [],
   "source": [
    "# Numpy's addition\n",
    "x = np.array(x)\n",
    "y = np.array(y)\n",
    "print(f\"  x  :\\n{x}\")\n",
    "print(f\"  y  :\\n{y}\")\n",
    "print(f\"  x+y:\\n{x+y}\")"
   ]
  },
  {
   "cell_type": "markdown",
   "metadata": {},
   "source": [
    "<b>Note</b>:<br>\n",
    "The '*' operator is overriden in NumPy as well.<br>\n",
    "What is the diffference?"
   ]
  },
  {
   "cell_type": "markdown",
   "metadata": {},
   "source": [
    "#### Examples:"
   ]
  },
  {
   "cell_type": "code",
   "execution_count": null,
   "metadata": {},
   "outputs": [],
   "source": [
    "# Numpy's Multiplication\n",
    "x = rnd.randint(3,10,(4,4))\n",
    "y = rnd.randint(1,5,(4,4))\n",
    "print(f\"  x:\\n{x}\\n\")\n",
    "print(f\"  y:\\n{y}\\n\")\n",
    "print(f\"  x*y:\\n{x*y}\\n\")"
   ]
  },
  {
   "cell_type": "code",
   "execution_count": null,
   "metadata": {},
   "outputs": [],
   "source": [
    "# b. Boolean operators working on NumPy arrays\n",
    "x = rnd.randint(4,10,(12))\n",
    "y = rnd.randint(4,10,(12))\n",
    "print(f\"  x={x}\")\n",
    "print(f\"  y={y}\\n\")\n",
    "print(f\"  ==      : {x==y}\")\n",
    "print(f\"  !=      : {x!=y}\")\n",
    "print(f\"  not(!=) : {~(x!=y)}\")\n",
    "print(f\"  >=      : {x>=y}\")\n",
    "print(f\"  x>7     : {x>7}\")\n",
    "\n",
    "# There are also bit operators\n",
    "# To combine logical operations: &, |, ^, ~\n",
    "\n",
    "## Matrices\n",
    "# also --> el. by. el.\n",
    "# How to do matrix multiplicationn??\n",
    "# There is a native 2D matrix type -> do not use!"
   ]
  },
  {
   "cell_type": "markdown",
   "metadata": {},
   "source": [
    "#### Combining boolean/logical operators for ndarray objects\n",
    "\n"
   ]
  },
  {
   "cell_type": "markdown",
   "metadata": {},
   "source": [
    "<font color=\"green\"><b>Regular python</b></font> : \n",
    "* and  \n",
    "* or  (inclusive or)\n",
    "* not (negation operator)\n",
    "* !=  (exclusive or - xor)"
   ]
  },
  {
   "cell_type": "code",
   "execution_count": null,
   "metadata": {},
   "outputs": [],
   "source": [
    "# Combining boolean operators as in REGULAR'Python' way -> ERROR\n",
    "# x < 5 or y>7\n",
    "# (Due to DIFFERENT syntax!)"
   ]
  },
  {
   "cell_type": "markdown",
   "metadata": {},
   "source": [
    "<font color=\"green\"><b>Numpy</b></font>:\n",
    "* & : and operator\n",
    "* | : inclusive or operator\n",
    "* ~ : negation operator\n",
    "* ^ : exclusive or (xor)"
   ]
  },
  {
   "cell_type": "code",
   "execution_count": null,
   "metadata": {},
   "outputs": [],
   "source": [
    "# Combining boolean operators in NumPy\n",
    "print(f\"  x                 : {x}\")\n",
    "print(f\"  y                 : {y}\\n\")\n",
    "v1 = (x<8) & (x>4)\n",
    "print(f\"  (x<8) & (x>4)     : {v1}\")\n",
    "v2 = (x<6) | (x>7)\n",
    "print(f\"  (x<6) | (x>7)     : {v2}\")\n",
    "v3 = ~(x==6)\n",
    "print(f\"  ~(x==6)           : {v3}\")\n",
    "v4 = (x<6) ^ (x<7)   \n",
    "print(f\"  (x<6) ^ (x<7)     : {v4}\")"
   ]
  },
  {
   "cell_type": "markdown",
   "metadata": {},
   "source": [
    "###### ADDENDUM for the curious: What about bitwise operations in Numpy? "
   ]
  },
  {
   "cell_type": "markdown",
   "metadata": {},
   "source": [
    "<font color=\"green\"><b>Regular python</b></font> : \n",
    "* x&y  (Bitwise AND)  \n",
    "* x|y  (Bitwise inclusive OR)\n",
    "* x^y  (Bitwise exclusive OR - XOR)\n",
    "* ~x   (Bitwise complement) i.e. $x\\,:=\\,-x-1$\n",
    "* x<<y (Bitwise left shift of x by y places - right-hand side filled with 0's) i.e. $x\\,:=\\,x*2^y$\n",
    "* x>>y (Bitwise right shift of x by y places i.e. $x\\,=\\,x//2^y$"
   ]
  },
  {
   "cell_type": "code",
   "execution_count": null,
   "metadata": {},
   "outputs": [],
   "source": [
    "x=13\n",
    "y=17\n",
    "print(f\"x   :'{x:010b}'\")\n",
    "print(f\"y   :'{y:010b}'\")\n",
    "print(f\"x^y :'{x^y:010b}' i.e. {x^y}\")\n",
    "print(f\"~x  :'{~x:10b}' i.e. {~x}\")   # Riddle?\n",
    "print(f\"x<<2:'{x<<2:010b}' i.e. {x<<2}\")\n",
    "print(f\"x>>2:'{x>>2:010b}' i.e. {x>>2}\")\n",
    "\n",
    "# 'ANSWER to Riddle'::\n",
    "# Python can handle ARBITRARILY large integers in computation.\n",
    "# Any integer too big to fit in 64 bits is handled in software.\n",
    "# sys.maxsize : max platform pointer size\n",
    "\n",
    "# In Python2 we had a sys.maxint limit \n",
    "# >>> type(sys.maxint)\n",
    "# <type 'int'>\n",
    "# >>> type(sys.maxint+1)\n",
    "# <type 'long'>"
   ]
  },
  {
   "cell_type": "markdown",
   "metadata": {},
   "source": [
    "<font color=\"green\"><b>Numpy</b></font> : \n",
    "* numpy.bitwise_and(x,y)  (Bitwise AND)  \n",
    "* numpy.bitwise_or(x,y)   (Bitwise inclusive OR)\n",
    "* numpy.bitwise_xor(x,y)  (Bitwise exclusive OR - XOR)\n",
    "* ~x   (Bitwise complement) i.e. $x\\,:=\\,-x-1$\n",
    "* x<<y (Bitwise left shift of x by y places - right-hand side filled with 0's) i.e. $x\\,:=\\,x*2^y$\n",
    "* x>>y (Bitwise right shift of x by y places i.e. $x\\,=\\,x//2^y$\n",
    "* numpy.binary_repr(x)     (Return binary representation of x as a string) "
   ]
  },
  {
   "cell_type": "code",
   "execution_count": null,
   "metadata": {},
   "outputs": [],
   "source": [
    "x=13\n",
    "y=17\n",
    "print(f\"x   :'{np.binary_repr(x,width=10)}'\")\n",
    "print(f\"y   :'{np.binary_repr(y,width=10)}'\")\n",
    "print(f\"x^y :'{np.binary_repr(np.bitwise_xor(x,y),width=10)}' i.e. {np.bitwise_xor(x,y)}\")\n",
    "print(f\"~x  :'{np.binary_repr(np.invert(x),width=10)}' i.e. {np.invert(x)}\")   \n",
    "print(f\"x<<2:'{np.binary_repr(np.left_shift(x,2),width=10)}' i.e. {np.left_shift(x,2)}\")\n",
    "print(f\"x>>2:'{np.binary_repr(np.right_shift(x,2),width=10)}' i.e. {np.right_shift(x,2)}\")\n",
    "a = np.array([13,27,14])\n",
    "b = np.array([17,5,7])\n",
    "# Operation el. by el. fashion\n",
    "print(f\"a^b :'{np.bitwise_xor(a,b)}'\")"
   ]
  },
  {
   "cell_type": "markdown",
   "metadata": {},
   "source": [
    "### How to perform matrix multiplications in Numpy?"
   ]
  },
  {
   "cell_type": "markdown",
   "metadata": {},
   "source": [
    "* Numpy operators work in an el. by el. fashion\n",
    "* To perform matrix multiplications in numpy -> <font color=\"green\"><b>np.dot</b></font> function"
   ]
  },
  {
   "cell_type": "markdown",
   "metadata": {},
   "source": [
    "#### Examples:"
   ]
  },
  {
   "cell_type": "code",
   "execution_count": null,
   "metadata": {},
   "outputs": [],
   "source": [
    "# np.dot (1D case)\n",
    "a = rnd.randint(4,10,(10))\n",
    "b = rnd.randint(1,5,(10))\n",
    "\n",
    "print(f\"  a                 : {a}\")\n",
    "print(f\"  b                 : {b}\")\n",
    "print(f\"  a.b (dot-product) : {np.dot(a,b)}\")\n",
    "print(f\"  a.b (dot.product) : {np.sum(a*b)}\")"
   ]
  },
  {
   "cell_type": "code",
   "execution_count": null,
   "metadata": {},
   "outputs": [],
   "source": [
    "# np.dot (2D case) -> Matrix Multiplication\n",
    "c = rnd.randint(4,10,(2,4))\n",
    "d = rnd.randint(1,5,(4,3))\n",
    "\n",
    "print(f\"  c:\\n {c}\\n\")\n",
    "print(f\"  d:\\n {d}\\n\")\n",
    "print(f\"  c.d (Matrix Multiplication):\\n {np.dot(c,d)}\")"
   ]
  },
  {
   "cell_type": "markdown",
   "metadata": {},
   "source": [
    "## Broadcasting"
   ]
  },
  {
   "cell_type": "markdown",
   "metadata": {},
   "source": [
    "Let's start with a few simple examples/tests ..."
   ]
  },
  {
   "cell_type": "markdown",
   "metadata": {},
   "source": [
    "#### Example 1:"
   ]
  },
  {
   "cell_type": "code",
   "execution_count": null,
   "metadata": {},
   "outputs": [],
   "source": [
    "x = np.arange(1,5)\n",
    "y = np.arange(10,50,10)\n",
    "print(f\"  x      : {x}\")\n",
    "print(f\"  x.shape: {x.shape}\\n\")\n",
    "print(f\"  y      : {y}\")\n",
    "print(f\"  y.shape: {y.shape}\\n\")\n",
    "print(f\"  x+y        : {x+y}\")\n",
    "print(f\"  (x+y).shape: {(x+y).shape}\")"
   ]
  },
  {
   "cell_type": "markdown",
   "metadata": {},
   "source": [
    "#### Example 2:"
   ]
  },
  {
   "cell_type": "code",
   "execution_count": null,
   "metadata": {},
   "outputs": [],
   "source": [
    "x = np.arange(1,5)\n",
    "y = np.arange(1,4)\n",
    "print(f\"  x      : {x}\")\n",
    "print(f\"  x.shape: {x.shape}\\n\")\n",
    "print(f\"  y  : {y}\".format(y))\n",
    "print(f\"  y.shape: {y.shape}\\n\")\n",
    "print(f\"  x+y: {x+y}\")"
   ]
  },
  {
   "cell_type": "markdown",
   "metadata": {},
   "source": [
    "#### Example 3:"
   ]
  },
  {
   "cell_type": "code",
   "execution_count": null,
   "metadata": {},
   "outputs": [],
   "source": [
    "# Example 3:\n",
    "x = np.arange(1,5)\n",
    "y = np.random.randint(0,11,(3,4))\n",
    "print(f\"  x  : \\n{x}\")\n",
    "print(f\"  x.shape: {x.shape}\\n\")\n",
    "print(f\"  y  : \\n{y}\")\n",
    "print(f\"  y.shape: {y.shape}\\n\")\n",
    "print(f\"  x+y: \\n{x+y}\")"
   ]
  },
  {
   "cell_type": "markdown",
   "metadata": {},
   "source": [
    "### The rules of the (broadcasting) game"
   ]
  },
  {
   "cell_type": "markdown",
   "metadata": {},
   "source": [
    "* Definition :: required to operate on (some) arrays with <b>(seemingly) mismatched</b> shapes\n",
    "* Start with the trailing dimenions (i.e. from right to left)\n",
    "* Two dimensions of the array are <b>compatible</b> iff\n",
    "  * they both have the <b>same</b> dimension\n",
    "  * <b>one</b> of the dimension is 1\n",
    "\n",
    "Note:<br>\n",
    "<font color=\"green\"><b>Both arrays can have a different #axes</b></font>"
   ]
  },
  {
   "cell_type": "markdown",
   "metadata": {},
   "source": [
    "#### Examples:"
   ]
  },
  {
   "cell_type": "code",
   "execution_count": null,
   "metadata": {},
   "outputs": [],
   "source": [
    "# Example 1\n",
    "# Res: x: 4 x 1\n",
    "#      y:     5\n",
    "# -------------\n",
    "#    x+y: 4 x 5\n",
    "#---------------\n",
    "x = rnd.random(4).reshape(4,1)\n",
    "y = np.arange(5)\n",
    "print(f\"  x  : \\n{x}\")\n",
    "print(f\"  y  : \\n{y}\")\n",
    "print(f\"  x+y: \\n{x+y}\")"
   ]
  },
  {
   "cell_type": "code",
   "execution_count": null,
   "metadata": {},
   "outputs": [],
   "source": [
    "# Example 2\n",
    "# Res: x: 13 x 1 x 7 x 1\n",
    "#      y:      8 x 7 x 5\n",
    "# -------------\n",
    "#    res: 13 x 8 x 7 x 5\n",
    "#---------------\n",
    "x=np.arange(91).reshape((13,1,7,1))\n",
    "y=np.arange(8*7*5).reshape((8,7,5))\n",
    "z=x+y\n",
    "print(f\"  x.shape:{x.shape}\")\n",
    "print(f\"  y.shape:{y.shape}\")\n",
    "print(f\"  z.shape:{z.shape}\")"
   ]
  },
  {
   "cell_type": "code",
   "execution_count": null,
   "metadata": {},
   "outputs": [],
   "source": [
    "# Example 3:\n",
    "# Res: x: 3 x 8 x 3\n",
    "#      y:     3 x 1\n",
    "# -------------\n",
    "#    res:     Error !! (8 & 3)\n",
    "#---------------\n",
    "x=np.arange(72).reshape((3,8,3))\n",
    "y=np.arange(9).reshape((3,3))\n",
    "z=x+y\n",
    "print(f\"  x.shape:{x.shape}\")\n",
    "print(f\"  y.shape:{y.shape}\")\n",
    "print(f\"  z.shape:{z.shape}\")"
   ]
  },
  {
   "cell_type": "markdown",
   "metadata": {},
   "source": [
    "### Adding & Removing Singleton Dimensions"
   ]
  },
  {
   "cell_type": "markdown",
   "metadata": {},
   "source": [
    "Axes of dim 1 (singleton dimensions) are a central tool for broadcasting.<br>\n",
    "There are situations in which, one wants to:\n",
    "* <b>remove</b> singleton dimensions:\n",
    "  * use <b><font color=\"green\">numpy.squeeze(a,axis=None)</font></b>\n",
    "    * a: input data\n",
    "    * axis : integer/tuple\n",
    "    * default: all singleton dimensions\n",
    "  \n",
    "* <b>add</b> singleton dimensions:\n",
    "  * use <b><font color=\"green\">numpy.newaxis</font></b>\n",
    "    * expand the dimension by 1 unit\n",
    "    * to be added where you want to add the dimension"
   ]
  },
  {
   "cell_type": "markdown",
   "metadata": {},
   "source": [
    "#### Examples:"
   ]
  },
  {
   "cell_type": "code",
   "execution_count": null,
   "metadata": {},
   "outputs": [],
   "source": [
    "# np.squeeze() function i.e. Removing Singleton axes\n",
    "a=np.arange(120).reshape((2,1,3,5,1,4))\n",
    "print(f\"  a.shape: {a.shape}\")\n",
    "b=np.squeeze(a,axis=1)\n",
    "print(f\"  b.shape: {b.shape}\")\n",
    "c=np.squeeze(a,axis=4)\n",
    "print(f\"  c.shape: {c.shape}\")\n",
    "d=np.squeeze(a)\n",
    "print(f\"  d.shape: {d.shape}\")"
   ]
  },
  {
   "cell_type": "code",
   "execution_count": null,
   "metadata": {},
   "outputs": [],
   "source": [
    "# Adding Singleton Axes\n",
    "a = np.arange(24).reshape((2,3,4))\n",
    "print(f\"  a.shape: {a.shape}\")\n",
    "b = a[np.newaxis,:,:,:]\n",
    "print(f\"  b.shape: {b.shape}\")\n",
    "c = a[np.newaxis,...]\n",
    "print(f\"  c.shape: {c.shape}\")\n",
    "d=a[:,np.newaxis,:,:,np.newaxis]\n",
    "print(f\"  d.shape: {d.shape}\")"
   ]
  },
  {
   "cell_type": "markdown",
   "metadata": {},
   "source": [
    "### Exercises:"
   ]
  },
  {
   "cell_type": "markdown",
   "metadata": {},
   "source": [
    "* Create the following 6x6 matrix $A$ (containing only <font color=\"green\"><b>int32</b></font> elements)):<br>\n",
    "    $\\begin{equation*}A = \\begin{pmatrix}\n",
    "       1 & 1 &  1 &   1 &   1 &   1 \\\\\n",
    "       1 & 8 &  1 &   1 &   1 &   1 \\\\ \n",
    "       1 & 1 &  27 &   1 &   1 &   1 \\\\\n",
    "       1 & 1 &  1 &   64 &   1 &   1 \\\\\n",
    "       1 & 1 &  1 &   1 &  125 &   1 \\\\\n",
    "       1 & 1 &  1 &   1 &   1 &   216 \n",
    "      \\end{pmatrix}\\end{equation*}$\n",
    "* Create a new matrix $B$ ($MxN$) where:\n",
    "  * $\\begin{equation*}B_{ij} =  \\frac{1}{X_i - Y_j} \\end{equation*}$\n",
    "  * $X_i$ $\\in$ $X$  ($i=0,\\ldots,M-1$)<br>\n",
    "    is a random vector of length $M=9$ \n",
    "  * $Y_j$ $\\in$ $Y$  ($j=0,\\ldots,N-1$)<br>\n",
    "    is a random vector of length $N=6$ \n",
    "    \n",
    "  Matrices of the type $B$ are known as <font color=\"blue\"><b>Cauchy</b></font> matrices "
   ]
  },
  {
   "cell_type": "markdown",
   "metadata": {},
   "source": [
    "### Solutions:"
   ]
  },
  {
   "cell_type": "code",
   "execution_count": 1,
   "metadata": {},
   "outputs": [],
   "source": [
    "# %load ../solutions/ex4.py\n"
   ]
  },
  {
   "cell_type": "code",
   "execution_count": null,
   "metadata": {},
   "outputs": [],
   "source": []
  }
 ],
 "metadata": {
  "kernelspec": {
   "display_name": "Python 3",
   "language": "python",
   "name": "python3"
  },
  "language_info": {
   "codemirror_mode": {
    "name": "ipython",
    "version": 3
   },
   "file_extension": ".py",
   "mimetype": "text/x-python",
   "name": "python",
   "nbconvert_exporter": "python",
   "pygments_lexer": "ipython3",
   "version": "3.7.4"
  }
 },
 "nbformat": 4,
 "nbformat_minor": 2
}
